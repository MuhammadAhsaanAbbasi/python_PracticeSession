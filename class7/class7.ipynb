{
 "cells": [
  {
   "cell_type": "markdown",
   "metadata": {},
   "source": [
    "# Input and While Loops"
   ]
  },
  {
   "cell_type": "code",
   "execution_count": 6,
   "metadata": {},
   "outputs": [
    {
     "name": "stdout",
     "output_type": "stream",
     "text": [
      "Hijabie\n",
      "\n",
      "Hello, Hijabie!\n"
     ]
    }
   ],
   "source": [
    "name: str = input(\"Enter your name\")\n",
    "print(name)\n",
    "\n",
    "prompt = \"If you tell us who you are, we can personalize the messages you see.\"\n",
    "prompt += \"\\nWhat is your first name? \"\n",
    "name = input(prompt)\n",
    "print(f\"\\nHello, {name}!\")"
   ]
  },
  {
   "cell_type": "code",
   "execution_count": 9,
   "metadata": {},
   "outputs": [
    {
     "data": {
      "text/plain": [
       "[{'name': 'Hijabie', 'place': 'Istanbul'},\n",
       " {'name': 'Ahsaan', 'place': 'Karachi'}]"
      ]
     },
     "metadata": {},
     "output_type": "display_data"
    }
   ],
   "source": [
    "# while loop\n",
    "# while True:\n",
    "#     city = input(\"Enter the name of the city you have visited\")\n",
    "#     if city == \"quit\":\n",
    "#         break\n",
    "#     else:\n",
    "#         print(f\"I'd love to go to {city.title()}!\")\n",
    "\n",
    "data: list[dict[str, str]] = []\n",
    "while True:\n",
    "    name = input(\"Enter your name\")\n",
    "    place = input(\"Enter the place you visited\")\n",
    "    quit_list: list[str] = [\"quit\", \"q\", \"exit\"]\n",
    "    if name.lower() in quit_list or place.lower() in quit_list:\n",
    "        break\n",
    "    data.append({\"name\": name, \"place\": place})\n",
    "\n",
    "display(data)\n"
   ]
  },
  {
   "cell_type": "code",
   "execution_count": 15,
   "metadata": {},
   "outputs": [
    {
     "name": "stdout",
     "output_type": "stream",
     "text": [
      "1\n",
      "2\n",
      "3\n",
      "4\n",
      "6\n",
      "7\n",
      "8\n",
      "9\n",
      "10\n",
      "11\n"
     ]
    }
   ],
   "source": [
    "for i in range(1,12):\n",
    "    if i == 5:\n",
    "        continue\n",
    "    print(i)\n",
    "\n",
    "for i in range(1,1000000):\n",
    "    pass"
   ]
  },
  {
   "cell_type": "code",
   "execution_count": 16,
   "metadata": {},
   "outputs": [
    {
     "name": "stdout",
     "output_type": "stream",
     "text": [
      "Verifying user: Abbasi\n",
      "Verifying user: Hijabie\n",
      "Verifying user: Alizay\n",
      "Abbasi\n",
      "Hijabie\n",
      "Alizay\n"
     ]
    }
   ],
   "source": [
    "unconfiremd_users: list[str] = [\"Alizay\", \"Hijabie\", \"Abbasi\"]\n",
    "confirmed_users: list[str] = []\n",
    "while unconfiremd_users:\n",
    "    currrent_user = unconfiremd_users.pop()\n",
    "    print(f\"Verifying user: {currrent_user.title()}\")\n",
    "    confirmed_users.append(currrent_user)\n",
    "\n",
    "for confirmed_user in confirmed_users:\n",
    "    print(confirmed_user)"
   ]
  },
  {
   "cell_type": "code",
   "execution_count": 21,
   "metadata": {},
   "outputs": [
    {
     "name": "stdout",
     "output_type": "stream",
     "text": [
      "let me see if I can find you a Hundayi Civic\n",
      "They'll have to wait for a table\n",
      "The number is not a multiple of 10\n"
     ]
    }
   ],
   "source": [
    "# 7-1. Rental Car: Write a program that asks the user what kind of rental car they\n",
    "# would like. Print a message about that car, such as “Let me see if I can find you\n",
    "# a Subaru.”\n",
    "rental_car = input(\"What kind of rental car would you like?\")\n",
    "print(f\"let me see if I can find you a {rental_car}\")\n",
    "\n",
    "# 7-2. Restaurant Seating: Write a program that asks the user how many people\n",
    "# are in their dinner group. If the answer is more than eight, print a message saying they’ll have to wait for a table. Otherwise, report that their table is ready.\n",
    "restaurant_seating = int(input(\"How many people are in their dinner group\"))\n",
    "if restaurant_seating > 8:\n",
    "    print(\"They'll have to wait for a table\")\n",
    "else: \n",
    "    print(\"Their table is ready\")\n",
    "# 7-3. Multiples of Ten: Ask the user for a number, and then report whether the\n",
    "# number is a multiple of 10 or not.\n",
    "user_number = int(input(\"Enter a number\"))\n",
    "if user_number % 10 == 0:\n",
    "    print(\"The number is a multiple of 10\")\n",
    "else:\n",
    "    print(\"The number is not a multiple of 10\")"
   ]
  },
  {
   "cell_type": "code",
   "execution_count": 24,
   "metadata": {},
   "outputs": [
    {
     "name": "stdout",
     "output_type": "stream",
     "text": [
      "Your pizza toppings are pizza\n",
      "Your pizza toppings are chicken\n",
      "Your pizza toppings are butter\n"
     ]
    }
   ],
   "source": [
    "# 7-4. Pizza Toppings: Write a loop that prompts the user to enter a series of\n",
    "# pizza toppings until they enter a 'quit' value. As they enter each topping,\n",
    "# print a message saying you’ll add that topping to their pizza.\n",
    "pizza_toppings: list[str] = []\n",
    "while True:\n",
    "    topping: str = input(\"Enter a pizza topping\")\n",
    "    if topping.lower() == \"quit\":\n",
    "        break\n",
    "    else:\n",
    "        pizza_toppings.append(topping)\n",
    "\n",
    "for pizza_topping in pizza_toppings:\n",
    "    print(f\"Your pizza toppings are {pizza_topping}\")\n"
   ]
  },
  {
   "cell_type": "code",
   "execution_count": 33,
   "metadata": {},
   "outputs": [
    {
     "name": "stdout",
     "output_type": "stream",
     "text": [
      "The ticket is $10\n",
      "The ticket is $15\n"
     ]
    }
   ],
   "source": [
    "# 7-5. Movie Tickets: A movie theater charges different ticket prices depending on\n",
    "# a person’s age. If a person is under the age of 3, the ticket is free; if they are\n",
    "# between 3 and 12, the ticket is $10; and if they are over age 12, the ticket is\n",
    "# $15. Write a loop in which you ask users their age, and then tell them the cost\n",
    "# of their movie ticket\n",
    "while True:\n",
    "    age = int(input(\"Enter your age\"))\n",
    "    quit: str = input(\"Enter quit to exit\")\n",
    "    if age < 3:\n",
    "        print(\"The ticket is free\")\n",
    "    elif age >= 3 and age <= 12:\n",
    "        print(\"The ticket is $10\")\n",
    "    else:\n",
    "        print(\"The ticket is $15\")"
   ]
  },
  {
   "cell_type": "code",
   "execution_count": 35,
   "metadata": {},
   "outputs": [
    {
     "name": "stdout",
     "output_type": "stream",
     "text": [
      "The ticket is $15\n",
      "The ticket is $10\n",
      "The ticket is free\n"
     ]
    }
   ],
   "source": [
    "# 7-6. Three Exits: Write different versions of either Exercise 7-4 or Exercise 7-5\n",
    "# that do each of the following at least once:\n",
    "# •\t Use a conditional test in the while statement to stop the loop.\n",
    "# •\t Use an active variable to control how long the loop runs.\n",
    "# •\t Use a break statement to exit the loop when the user enters a 'quit' value.\n",
    "while True:\n",
    "    age: int = int(input(\"Enter your age\"))\n",
    "    if age < 3:\n",
    "        print(\"The ticket is free\")\n",
    "    elif age >= 3 and age <= 12:\n",
    "        print(\"The ticket is $10\")\n",
    "    else:\n",
    "        print(\"The ticket is $15\")\n",
    "    quit: str = input(\"Enter quit to exit\")\n",
    "    if quit.lower() == \"quit\":\n",
    "        break"
   ]
  },
  {
   "cell_type": "code",
   "execution_count": null,
   "metadata": {},
   "outputs": [],
   "source": [
    "# 7-7. Infinity: Write a loop that never ends, and run it. (To end the loop, press\n",
    "# ctrl-C or close the window displaying the output.\n",
    "while True:\n",
    "    print(\"This is an infinite loop\")"
   ]
  },
  {
   "cell_type": "code",
   "execution_count": 39,
   "metadata": {},
   "outputs": [
    {
     "name": "stdout",
     "output_type": "stream",
     "text": [
      "I made your beef sandwich\n",
      "I made your chicken sandwich\n",
      "I made your tuna sandwich\n",
      "The following sandwiches were made\n",
      "beef\n",
      "chicken\n",
      "tuna\n"
     ]
    }
   ],
   "source": [
    "# 7-8. Deli: Make a list called sandwich_orders and fill it with the names of various sandwiches. Then make an empty list called finished_sandwiches. Loop\n",
    "# through the list of sandwich orders and print a message for each order, such\n",
    "# as I made your tuna sandwich. As each sandwich is made, move it to the list\n",
    "# of finished sandwiches. After all the sandwiches have been made, print a\n",
    "# message listing each sandwich that was made.\n",
    "sandwich_orders: list[str] = [\"tuna\", \"chicken\", \"beef\"]\n",
    "finished_sandwiches: list[str] = []\n",
    "while sandwich_orders:\n",
    "    current_sandwich:str = sandwich_orders.pop()\n",
    "    print(f\"I made your {current_sandwich} sandwich\")\n",
    "    finished_sandwiches.append(current_sandwich)\n",
    "print(\"The following sandwiches were made\")\n",
    "for finished_sandwich in finished_sandwiches:\n",
    "    print(finished_sandwich)"
   ]
  },
  {
   "cell_type": "code",
   "execution_count": 46,
   "metadata": {},
   "outputs": [
    {
     "name": "stdout",
     "output_type": "stream",
     "text": [
      "The deli has run out of pastrami\n",
      "I made your beef sandwich\n",
      "I made your chicken sandwich\n",
      "I made your tuna sandwich\n",
      "The following sandwiches were made\n",
      "['beef', 'chicken', 'tuna']\n"
     ]
    }
   ],
   "source": [
    "# 7-9. No Pastrami: Using the list sandwich_orders from Exercise 7-8, make sure\n",
    "# the sandwich 'pastrami' appears in the list at least three times. Add code\n",
    "# near the beginning of your program to print a message saying the deli has\n",
    "# run out of pastrami, and then use a while loop to remove all occurrences of\n",
    "# 'pastrami' from sandwich_orders. Make sure no pastrami sandwiches end up\n",
    "# in finished_sandwiches.\n",
    "sandwich_orders: list[str] = [\"tuna\", \"chicken\", \"beef\", \"pastrami\", \"pastrami\", \"pastrami\"]\n",
    "finished_sandwiches: list[str] = []\n",
    "print(\"The deli has run out of pastrami\")\n",
    "while sandwich_orders:\n",
    "    current_sandwich:str = sandwich_orders.pop()\n",
    "    if current_sandwich.lower() == \"pastrami\":\n",
    "        continue\n",
    "    print(f\"I made your {current_sandwich} sandwich\")\n",
    "    finished_sandwiches.append(current_sandwich)\n",
    "\n",
    "print(\"The following sandwiches were made\")\n",
    "print(finished_sandwiches)"
   ]
  },
  {
   "cell_type": "code",
   "execution_count": 48,
   "metadata": {},
   "outputs": [
    {
     "name": "stdout",
     "output_type": "stream",
     "text": [
      "The following places were selected\n",
      "Makkah\n",
      "Madinah\n",
      "Istanbul\n"
     ]
    }
   ],
   "source": [
    "# 7-10. Dream Vacation: Write a program that polls users about their dream\n",
    "# vacation. Write a prompt similar to If you could visit one place in the world,\n",
    "# where would you go? Include a block of code that prints the results of the poll.\n",
    "dream_vacation: list[str] = []\n",
    "while True:\n",
    "    place: str = input(\"If you could visit one place in the world, where would you go?\")\n",
    "    quit: str = input(\"Enter quit to exit\")\n",
    "    dream_vacation.append(place)\n",
    "    if quit.lower() == \"quit\":\n",
    "        break\n",
    "print(\"The following places were selected\")\n",
    "for place in dream_vacation:\n",
    "    print(place)\n"
   ]
  }
 ],
 "metadata": {
  "kernelspec": {
   "display_name": "py12",
   "language": "python",
   "name": "python3"
  },
  "language_info": {
   "codemirror_mode": {
    "name": "ipython",
    "version": 3
   },
   "file_extension": ".py",
   "mimetype": "text/x-python",
   "name": "python",
   "nbconvert_exporter": "python",
   "pygments_lexer": "ipython3",
   "version": "3.12.0"
  }
 },
 "nbformat": 4,
 "nbformat_minor": 2
}
