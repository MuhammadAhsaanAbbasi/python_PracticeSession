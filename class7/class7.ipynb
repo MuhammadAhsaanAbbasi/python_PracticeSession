{
 "cells": [
  {
   "cell_type": "markdown",
   "metadata": {},
   "source": [
    "# Input and While Loops"
   ]
  },
  {
   "cell_type": "code",
   "execution_count": 6,
   "metadata": {},
   "outputs": [
    {
     "name": "stdout",
     "output_type": "stream",
     "text": [
      "Hijabie\n",
      "\n",
      "Hello, Hijabie!\n"
     ]
    }
   ],
   "source": [
    "name: str = input(\"Enter your name\")\n",
    "print(name)\n",
    "\n",
    "prompt = \"If you tell us who you are, we can personalize the messages you see.\"\n",
    "prompt += \"\\nWhat is your first name? \"\n",
    "name = input(prompt)\n",
    "print(f\"\\nHello, {name}!\")"
   ]
  },
  {
   "cell_type": "code",
   "execution_count": 9,
   "metadata": {},
   "outputs": [
    {
     "data": {
      "text/plain": [
       "[{'name': 'Hijabie', 'place': 'Istanbul'},\n",
       " {'name': 'Ahsaan', 'place': 'Karachi'}]"
      ]
     },
     "metadata": {},
     "output_type": "display_data"
    }
   ],
   "source": [
    "# while loop\n",
    "# while True:\n",
    "#     city = input(\"Enter the name of the city you have visited\")\n",
    "#     if city == \"quit\":\n",
    "#         break\n",
    "#     else:\n",
    "#         print(f\"I'd love to go to {city.title()}!\")\n",
    "\n",
    "data: list[dict[str, str]] = []\n",
    "while True:\n",
    "    name = input(\"Enter your name\")\n",
    "    place = input(\"Enter the place you visited\")\n",
    "    quit_list: list[str] = [\"quit\", \"q\", \"exit\"]\n",
    "    if name.lower() in quit_list or place.lower() in quit_list:\n",
    "        break\n",
    "    data.append({\"name\": name, \"place\": place})\n",
    "\n",
    "display(data)\n"
   ]
  },
  {
   "cell_type": "code",
   "execution_count": 15,
   "metadata": {},
   "outputs": [
    {
     "name": "stdout",
     "output_type": "stream",
     "text": [
      "1\n",
      "2\n",
      "3\n",
      "4\n",
      "6\n",
      "7\n",
      "8\n",
      "9\n",
      "10\n",
      "11\n"
     ]
    }
   ],
   "source": [
    "for i in range(1,12):\n",
    "    if i == 5:\n",
    "        continue\n",
    "    print(i)\n",
    "\n",
    "for i in range(1,1000000):\n",
    "    pass"
   ]
  },
  {
   "cell_type": "code",
   "execution_count": 16,
   "metadata": {},
   "outputs": [
    {
     "name": "stdout",
     "output_type": "stream",
     "text": [
      "Verifying user: Abbasi\n",
      "Verifying user: Hijabie\n",
      "Verifying user: Alizay\n",
      "Abbasi\n",
      "Hijabie\n",
      "Alizay\n"
     ]
    }
   ],
   "source": [
    "unconfiremd_users: list[str] = [\"Alizay\", \"Hijabie\", \"Abbasi\"]\n",
    "confirmed_users: list[str] = []\n",
    "while unconfiremd_users:\n",
    "    currrent_user = unconfiremd_users.pop()\n",
    "    print(f\"Verifying user: {currrent_user.title()}\")\n",
    "    confirmed_users.append(currrent_user)\n",
    "\n",
    "for confirmed_user in confirmed_users:\n",
    "    print(confirmed_user)"
   ]
  },
  {
   "cell_type": "code",
   "execution_count": 21,
   "metadata": {},
   "outputs": [
    {
     "name": "stdout",
     "output_type": "stream",
     "text": [
      "let me see if I can find you a Hundayi Civic\n",
      "They'll have to wait for a table\n",
      "The number is not a multiple of 10\n"
     ]
    }
   ],
   "source": [
    "# 7-1. Rental Car: Write a program that asks the user what kind of rental car they\n",
    "# would like. Print a message about that car, such as “Let me see if I can find you\n",
    "# a Subaru.”\n",
    "rental_car = input(\"What kind of rental car would you like?\")\n",
    "print(f\"let me see if I can find you a {rental_car}\")\n",
    "\n",
    "# 7-2. Restaurant Seating: Write a program that asks the user how many people\n",
    "# are in their dinner group. If the answer is more than eight, print a message saying they’ll have to wait for a table. Otherwise, report that their table is ready.\n",
    "restaurant_seating = int(input(\"How many people are in their dinner group\"))\n",
    "if restaurant_seating > 8:\n",
    "    print(\"They'll have to wait for a table\")\n",
    "else: \n",
    "    print(\"Their table is ready\")\n",
    "# 7-3. Multiples of Ten: Ask the user for a number, and then report whether the\n",
    "# number is a multiple of 10 or not.\n",
    "user_number = int(input(\"Enter a number\"))\n",
    "if user_number % 10 == 0:\n",
    "    print(\"The number is a multiple of 10\")\n",
    "else:\n",
    "    print(\"The number is not a multiple of 10\")"
   ]
  }
 ],
 "metadata": {
  "kernelspec": {
   "display_name": "py12",
   "language": "python",
   "name": "python3"
  },
  "language_info": {
   "codemirror_mode": {
    "name": "ipython",
    "version": 3
   },
   "file_extension": ".py",
   "mimetype": "text/x-python",
   "name": "python",
   "nbconvert_exporter": "python",
   "pygments_lexer": "ipython3",
   "version": "3.12.0"
  }
 },
 "nbformat": 4,
 "nbformat_minor": 2
}
