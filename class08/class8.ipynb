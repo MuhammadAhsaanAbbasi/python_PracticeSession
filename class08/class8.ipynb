{
 "cells": [
  {
   "cell_type": "markdown",
   "metadata": {},
   "source": [
    "# Functions in Python"
   ]
  },
  {
   "cell_type": "code",
   "execution_count": 4,
   "metadata": {},
   "outputs": [
    {
     "name": "stdout",
     "output_type": "stream",
     "text": [
      "Hello World\n",
      "11\n",
      "10\n"
     ]
    }
   ],
   "source": [
    "def my_Function():\n",
    "    print(\"Hello World\")\n",
    "\n",
    "my_Function()\n",
    "\n",
    "def add_numbers(a:int, b:int):\n",
    "    return a + b\n",
    "\n",
    "add = add_numbers(5,6)\n",
    "print(add)\n",
    "\n",
    "def optional_numbers(a:int, b:int = 5):\n",
    "    return a + b\n",
    "\n",
    "add = optional_numbers(5)\n",
    "print(add)"
   ]
  },
  {
   "cell_type": "code",
   "execution_count": 7,
   "metadata": {},
   "outputs": [
    {
     "name": "stdout",
     "output_type": "stream",
     "text": [
      "12\n",
      "False\n"
     ]
    }
   ],
   "source": [
    "def twoValues(a:int,b:int)->int:\n",
    "    return a + b\n",
    "\n",
    "add = twoValues(6,6)\n",
    "print(add)\n",
    "\n",
    "def optional_numbers(a:str, b:int)->int:\n",
    "    return a == b\n",
    "\n",
    "add = optional_numbers(\"Hijabie\",6) # Postitional Argumnets\n",
    "print(add)\n",
    "\n",
    "sub = optional_numbers(b=7,a=\"Hijabie\") #Keywords Arguments\n",
    "print(sub)"
   ]
  },
  {
   "cell_type": "code",
   "execution_count": 14,
   "metadata": {},
   "outputs": [
    {
     "name": "stdout",
     "output_type": "stream",
     "text": [
      "[1, 4, 16, 25, 36, 64, 81]\n",
      "[4, 16, 36, 64]\n",
      "30\n"
     ]
    }
   ],
   "source": [
    "# Lambda Functions\n",
    "from tkinter import Y\n",
    "from typing import Callable\n",
    "\n",
    "\n",
    "a = lambda num1,num2 : num1 + num2\n",
    "a(5,7)\n",
    "\n",
    "data: list[int] = [1,2,4,5,6,8,9]\n",
    "data = list(map(lambda x: x**2, data))\n",
    "print(data)\n",
    "\n",
    "data = list(filter(lambda x: x % 2 == 0, data))\n",
    "print(data)\n",
    "\n",
    "add: Callable[[int,int],int] = lambda x,y: x + y\n",
    "result = add(10,20)\n",
    "print(result)"
   ]
  },
  {
   "cell_type": "code",
   "execution_count": 16,
   "metadata": {},
   "outputs": [
    {
     "name": "stdout",
     "output_type": "stream",
     "text": [
      "(1, 3, 4, 5, 5, 5, 5) <class 'tuple'>\n",
      "{'a': 7, 'b': 8, 'c': 9}\n"
     ]
    }
   ],
   "source": [
    "def abc(*nums):\n",
    "    print(nums,type(nums))\n",
    "    total = 0\n",
    "    for n in nums:\n",
    "        total+=n\n",
    "    return total\n",
    "abc(1,3,4,5,5,5,5)\n",
    "\n",
    "def xyz(**nums):\n",
    "    print(nums)\n",
    "\n",
    "xyz(a=7,b=8,c=9)"
   ]
  },
  {
   "cell_type": "code",
   "execution_count": 26,
   "metadata": {},
   "outputs": [
    {
     "name": "stdout",
     "output_type": "stream",
     "text": [
      "Hijabie\n",
      "Ahsaan\n",
      "Alizay\n",
      "Steve joves\n"
     ]
    }
   ],
   "source": [
    "from typing import Tuple\n",
    "\n",
    "\n",
    "def greet(*names) -> None:\n",
    "    \"\"\"\n",
    "    This Function Greets all persons in the names tuples\n",
    "    \"\"\"\n",
    "    for name in names:\n",
    "        print(name)\n",
    "\n",
    "greet(\"Hijabie\", \"Ahsaan\", \"Alizay\", \"Steve joves\")\n",
    "\n"
   ]
  },
  {
   "cell_type": "code",
   "execution_count": 29,
   "metadata": {},
   "outputs": [
    {
     "name": "stdout",
     "output_type": "stream",
     "text": [
      "I am learning about functions in this chapter\n",
      "One of my favorite books is Alice in Wonderland\n"
     ]
    }
   ],
   "source": [
    "# 8-1. Message: Write a function called display_message() that prints one sentence telling everyone what you are learning about in this chapter. Call the\n",
    "# function, and make sure the message displays correctly.\n",
    "def display_message():\n",
    "    print(\"I am learning about functions in this chapter\")\n",
    "\n",
    "display_message()\n",
    "\n",
    "# 8-2. Favorite Book: Write a function called favorite_book() that accepts one\n",
    "# parameter, title. The function should print a message, such as One of my\n",
    "# favorite books is Alice in Wonderland. Call the function, making sure to\n",
    "# include a book title as an argument in the function call.\n",
    "def favorite_book(title:str):\n",
    "    print(f\"One of my favorite books is {title}\")\n",
    "\n",
    "favorite_book(\"Alice in Wonderland\")"
   ]
  },
  {
   "cell_type": "code",
   "execution_count": 33,
   "metadata": {},
   "outputs": [
    {
     "name": "stdout",
     "output_type": "stream",
     "text": [
      "The size of the shirt is Medium and the message is Pakistan Zindabad\n",
      "The size of the shirt is Medium and the message is Hijabie like you\n",
      "The size of the shirt is large and the message is I Love Python\n",
      "The size of the shirt is Medium and the message is I Love Python\n",
      "Istanbul is in Turkey\n",
      "Karachi is in Pakistan\n",
      "Lahore is in Pakistan\n"
     ]
    }
   ],
   "source": [
    "# 8-3. T-Shirt: Write a function called make_shirt() that accepts a size and the\n",
    "# text of a message that should be printed on the shirt. The function should print\n",
    "# a sentence summarizing the size of the shirt and the message printed on it.\n",
    "# Call the function once using positional arguments to make a shirt. Call the\n",
    "# function a second time using keyword arguments.\n",
    "def make_shirt(size:str, message:str):\n",
    "    print(f\"The size of the shirt is {size} and the message is {message}\")\n",
    "\n",
    "make_shirt(\"Medium\",\"Pakistan Zindabad\")\n",
    "make_shirt(message=\"Hijabie like you\",size=\"Medium\")\n",
    "\n",
    "# 8-4. Large Shirts: Modify the make_shirt() function so that shirts are large\n",
    "# by default with a message that reads I love Python. Make a large shirt and a\n",
    "# medium shirt with the default message, and a shirt of any size with a different\n",
    "# message.\n",
    "\n",
    "def make_shirts(size:str=\"large\", message:str=\"I Love Python\"):\n",
    "    print(f\"The size of the shirt is {size} and the message is {message}\")\n",
    "\n",
    "make_shirts()\n",
    "make_shirts(\"Medium\")\n",
    "\n",
    "# 8-5. Cities: Write a function called describe_city() that accepts the name of\n",
    "# a city and its country. The function should print a simple sentence, such as\n",
    "# Reykjavik is in Iceland. Give the parameter for the country a default value.\n",
    "# Call your function for three different cities, at least one of which is not in the\n",
    "# default country\n",
    "def describe_city(city:str, country:str=\"Turkey\"):\n",
    "    print(f\"{city} is in {country}\")\n",
    "\n",
    "describe_city(\"Istanbul\")\n",
    "describe_city(\"Karachi\",\"Pakistan\")\n",
    "describe_city(\"Lahore\",\"Pakistan\")"
   ]
  },
  {
   "cell_type": "code",
   "execution_count": 2,
   "metadata": {},
   "outputs": [
    {
     "name": "stdout",
     "output_type": "stream",
     "text": [
      "Karachi, Pakistan\n",
      "Istanbul, Turkey\n",
      "Ankara, Turkey\n",
      "{'artist': 'Atif Aslam', 'album title': 'Mustafa pe lakhon salam'}\n",
      "{'artist': 'Ali Zafar', 'album title': 'Mustafa pe lakhon salam', 'tracks': 2}\n"
     ]
    }
   ],
   "source": [
    "# 8-6. City Names: Write a function called city_country() that takes in the name\n",
    "# of a city and its country. The function should return a string formatted like this:\n",
    "# \"Santiago, Chile\"\n",
    "# Call your function with at least three city-country pairs, and print the value\n",
    "# that’s returned.\n",
    "from typing import Union\n",
    "\n",
    "\n",
    "def city_country(city:str, country:str)->str:\n",
    "    return f\"{city}, {country}\"\n",
    "\n",
    "print(city_country(\"Karachi\",\"Pakistan\"))\n",
    "print(city_country(\"Istanbul\",\"Turkey\"))\n",
    "print(city_country(\"Ankara\",\"Turkey\"))\n",
    "\n",
    "# 8-7. Album: Write a function called make_album() that builds a dictionary\n",
    "# describing a music album. The function should take in an artist name and an\n",
    "# album title, and it should return a dictionary containing these two pieces of\n",
    "# information. Use the function to make three dictionaries representing different\n",
    "# albums. Print each return value to show that the dictionaries are storing the\n",
    "# album information correctly.\n",
    "# Add an optional parameter to make_album() that allows you to store the\n",
    "# number of tracks on an album. If the calling line includes a value for the number of tracks, add that value to the album’s dictionary. Make at least one new\n",
    "# function call that includes the number of tracks on an album.\n",
    "value = Union[str,int]\n",
    "def make_albums(artist:str,album_title:str,tracks:int=0)->dict:\n",
    "    album: dict[str,value] = {\n",
    "        \"artist\" : artist,\n",
    "        \"album title\" : album_title\n",
    "    }\n",
    "    if tracks:\n",
    "        album[\"tracks\"] = tracks\n",
    "    return album\n",
    "\n",
    "print(make_albums(\"Atif Aslam\",\"Mustafa pe lakhon salam\"))\n",
    "print(make_albums(\"Ali Zafar\",\"Mustafa pe lakhon salam\",2))"
   ]
  },
  {
   "cell_type": "code",
   "execution_count": 1,
   "metadata": {},
   "outputs": [
    {
     "name": "stdout",
     "output_type": "stream",
     "text": [
      "Welcome to the Album Maker!\n",
      "Enter 'quit' at any time to exit.\n",
      "{'artist': 'ali', 'title': 'no way'}\n"
     ]
    }
   ],
   "source": [
    "# 8-8. User Albums: Start with your program from Exercise 8-7. Write a while\n",
    "# loop that allows users to enter an album’s artist and title. Once you have that\n",
    "# information, call make_album() with the user’s input and print the dictionary\n",
    "#  that’s created. Be sure to include a quit value in the while loop.\n",
    "from typing import Dict, Union\n",
    "value = Union[str,int]\n",
    "def make_album() -> dict:\n",
    "    \"\"\"Create a dictionary representing an album.\"\"\"\n",
    "    print(\"Welcome to the Album Maker!\")\n",
    "    print(\"Enter 'quit' at any time to exit.\")\n",
    "    while True:\n",
    "        artist = input(\"Enter the artist's name: \")\n",
    "        if artist.lower() == 'quit':\n",
    "            break\n",
    "        \n",
    "        title = input(\"Enter the album's title: \")\n",
    "        if title.lower() == 'quit':\n",
    "            break\n",
    "        \n",
    "        album: dict[str,value] = {'artist': artist, 'title': title}\n",
    "    return album\n",
    "\n",
    "print(make_album())"
   ]
  },
  {
   "cell_type": "code",
   "execution_count": 11,
   "metadata": {},
   "outputs": [
    {
     "name": "stdout",
     "output_type": "stream",
     "text": [
      "Hijabie\n",
      "Ahsaan\n",
      "Alizay\n",
      "Steve Joves\n",
      "The Great Hijabie\n",
      "The Great Ahsaan\n",
      "The Great Alizay\n"
     ]
    }
   ],
   "source": [
    "# 8-9. Magicians: Make a list of magician’s names. Pass the list to a function\n",
    "# called show_magicians(), which prints the name of each magician in the list.\n",
    "def show_magicians(magicians:list[str]):\n",
    "    for magician in magicians:\n",
    "        print(magician)\n",
    "\n",
    "magicians = [\"Hijabie\",\"Ahsaan\",\"Alizay\",\"Steve Joves\"]\n",
    "show_magicians(magicians)\n",
    "\n",
    "# 8-10. Great Magicians: Start with a copy of your program from Exercise 8-9.\n",
    "# Write a function called make_great() that modifies the list of magicians by adding the phrase the Great to each magician’s name. Call show_magicians() to\n",
    "# see that the list has actually been modified.\n",
    "def show_magicians2(magicians:list[str]):\n",
    "    for magician in magicians:\n",
    "        print(magician)\n",
    "\n",
    "def make_great(magicians:list[str]):\n",
    "    great: list[str] = []\n",
    "    for magician in magicians:\n",
    "        print(f\"The Great {magician}\")\n",
    "    return great\n",
    "\n",
    "magicians = [\"Hijabie\",\"Ahsaan\",\"Alizay\"]\n",
    "magicians = make_great(magicians)\n",
    "show_magicians(magicians)"
   ]
  },
  {
   "cell_type": "code",
   "execution_count": 13,
   "metadata": {},
   "outputs": [
    {
     "name": "stdout",
     "output_type": "stream",
     "text": [
      "The Great Hijabie\n",
      "The Great Ahsaan\n",
      "The Great Alizay\n",
      "The Great Gossipie\n",
      "Hijabie\n",
      "Ahsaan\n",
      "Alizay\n",
      "Gossipie\n"
     ]
    }
   ],
   "source": [
    "# 8-11. Unchanged Magicians: Start with your work from Exercise 8-10. Call the\n",
    "# function make_great() with a copy of the list of magicians’ names. Because the\n",
    "# original list will be unchanged, return the new list and store it in a separate list.\n",
    "# Call show_magicians() with each list to show that you have one list of the original names and one list with the Great added to each magician’s name.\n",
    "magicians: list[str] = [\"Hijabie\",\"Ahsaan\",\"Alizay\",\"Gossipie\"]\n",
    "make_great(magicians[:])\n",
    "show_magicians(magicians)"
   ]
  },
  {
   "cell_type": "code",
   "execution_count": 18,
   "metadata": {},
   "outputs": [
    {
     "name": "stdout",
     "output_type": "stream",
     "text": [
      "The Sandwich has the following items\n",
      "Bread\n",
      "Butter\n",
      "Cheese\n"
     ]
    },
    {
     "data": {
      "text/plain": [
       "{'first': 'HIjabie',\n",
       " 'last': 'Chuzzi',\n",
       " 'Location': 'Hyderabad',\n",
       " 'Education': 'B.E In Physics'}"
      ]
     },
     "execution_count": 18,
     "metadata": {},
     "output_type": "execute_result"
    }
   ],
   "source": [
    "# 8-12. Sandwiches: Write a function that accepts a list of items a person wants\n",
    "# on a sandwich. The function should have one parameter that collects as many\n",
    "# items as the function call provides, and it should print a summary of the sandwich that is being ordered. Call the function three times, using a different number of arguments each time\n",
    "# from typing import Tuple\n",
    "def sandwich_orders(*items:str):\n",
    "    print(\"The Sandwich has the following items\")\n",
    "    for item in items:\n",
    "        print(item)\n",
    "\n",
    "sandwich_orders(\"Bread\",\"Butter\",\"Cheese\")\n",
    "\n",
    "# 8-13. User Profile: Start with a copy of user_profile.py from page 153. Build\n",
    "# a profile of yourself by calling build_profile(), using your first and last names\n",
    "# and three other key-value pairs that describe you\n",
    "def build_profile(first:str,last:str,**user_info:str):\n",
    "    profile: dict[str,str] = {\n",
    "        \"first\" : first,\n",
    "        \"last\" : last\n",
    "    }\n",
    "    for key, value in user_info.items():\n",
    "        profile[key] = value\n",
    "    return profile\n",
    "\n",
    "build_profile(\"HIjabie\",\"Chuzzi\",Location=\"Hyderabad\",Education=\"B.E In Physics\")"
   ]
  },
  {
   "cell_type": "code",
   "execution_count": 20,
   "metadata": {},
   "outputs": [
    {
     "name": "stdout",
     "output_type": "stream",
     "text": [
      "{'manufacturer': 'Hyndayi Civic', 'model': 'Altas', 'Color': 'Black', 'Year': '2021'}\n"
     ]
    }
   ],
   "source": [
    "# 8-14. Cars: Write a function that stores information about a car in a dictionary. The function should always receive a manufacturer and a model name. It\n",
    "# should then accept an arbitrary number of keyword arguments. Call the function with the required information and two other name-value pairs, such as a\n",
    "# color or an optional feature. Your function should work for a call like this one:\n",
    "# car = make_car('subaru', 'outback', color='blue', tow_package=True)\n",
    "# Print the dictionary that’s returned to make sure all the information was\n",
    "# stored correctly\n",
    "def make_car(manufacturer:str,model:str,**car_infos:str):\n",
    "    car: dict[str,str] = {\n",
    "        \"manufacturer\": manufacturer,\n",
    "        \"model\" : model\n",
    "        }\n",
    "    for key , value in car_infos.items():\n",
    "        car[key] = value\n",
    "    return car\n",
    "\n",
    "car = make_car(\"Hyndayi Civic\",\"Altas\", Color=\"Black\", Year=\"2021\")\n",
    "print(car)"
   ]
  },
  {
   "cell_type": "markdown",
   "metadata": {},
   "source": [
    "# Generator Functions"
   ]
  },
  {
   "cell_type": "code",
   "execution_count": 32,
   "metadata": {},
   "outputs": [
    {
     "name": "stdout",
     "output_type": "stream",
     "text": [
      "1\n",
      "2\n",
      "[3, 4, 5, 6, 7, 8, 9, 10]\n",
      "1\n",
      "2\n",
      "3\n",
      "[4, 5, 6, 7, 8, 9, 10]\n"
     ]
    }
   ],
   "source": [
    "def my_range(start:int, end:int, step:int = 1):\n",
    "    for i in range(start,end+1,step):\n",
    "        yield i\n",
    "\n",
    "a = my_range(1,10)\n",
    "print(next(a))\n",
    "print(next(a))\n",
    "print(list(a))\n",
    "\n",
    "from collections.abc import Iterable\n",
    "def my_function(start:int, end:int, step:int = 1)->Iterable[int]:\n",
    "    for i in range(start,end+1,step):\n",
    "        yield i\n",
    "\n",
    "a: Iterable[int] = my_function(1,10)\n",
    "print(next(iter(a)))\n",
    "print(next(iter(a)))\n",
    "print(next(iter(a)))\n",
    "print(list(a))"
   ]
  },
  {
   "cell_type": "markdown",
   "metadata": {},
   "source": [
    "# Decorator Function"
   ]
  },
  {
   "cell_type": "code",
   "execution_count": 35,
   "metadata": {},
   "outputs": [
    {
     "name": "stdout",
     "output_type": "stream",
     "text": [
      "Something is happening before the function is called.\n",
      "Whee!\n",
      "Something is happening after the function is called.\n",
      "Something is happening before the function is called.\n",
      "11\n",
      "Something is happening after the function is called.\n"
     ]
    }
   ],
   "source": [
    "from typing import Callable\n",
    "def my_decorator(func:Callable[[],None])->Callable[[],None]:\n",
    "    def wrapper():\n",
    "        print(\"Something is happening before the function is called.\")\n",
    "        func()\n",
    "        print(\"Something is happening after the function is called.\")\n",
    "    return wrapper\n",
    "\n",
    "@my_decorator\n",
    "def say_whee():\n",
    "    print(\"Whee!\")\n",
    "\n",
    "say_whee()\n",
    "\n",
    "def add_decorator(func:Callable[[int,int],None])->Callable[[int,int],None]:\n",
    "    def wrapper(num1:int,num2:int):\n",
    "        print(\"Something is happening before the function is called.\")\n",
    "        func(num1,num2)\n",
    "        print(\"Something is happening after the function is called.\")\n",
    "    return wrapper\n",
    "\n",
    "@add_decorator\n",
    "def add_sum(num1:int,num2:int):\n",
    "    print(num1 + num2)\n",
    "\n",
    "add_sum(5,6)"
   ]
  },
  {
   "cell_type": "markdown",
   "metadata": {},
   "source": [
    "# Recursion Functions"
   ]
  },
  {
   "cell_type": "code",
   "execution_count": 37,
   "metadata": {},
   "outputs": [
    {
     "name": "stdout",
     "output_type": "stream",
     "text": [
      "The factorial of 5 is 120\n",
      "The factorial of 6 is 720\n"
     ]
    }
   ],
   "source": [
    "def factorial(num:int)->int:\n",
    "    if num == 0:\n",
    "        return 1\n",
    "    else:\n",
    "        return num * factorial(num-1)\n",
    "\n",
    "num = 5\n",
    "print(f\"The factorial of {num} is {factorial(num)}\")\n",
    "\n",
    "def factorial2(num:int)->int:\n",
    "    if num == 0:\n",
    "        return 1\n",
    "    else:\n",
    "        return num * factorial2(num-1)\n",
    "\n",
    "num = 6\n",
    "print(f\"The factorial of {num} is {factorial2(num)}\")"
   ]
  }
 ],
 "metadata": {
  "kernelspec": {
   "display_name": "py12",
   "language": "python",
   "name": "python3"
  },
  "language_info": {
   "codemirror_mode": {
    "name": "ipython",
    "version": 3
   },
   "file_extension": ".py",
   "mimetype": "text/x-python",
   "name": "python",
   "nbconvert_exporter": "python",
   "pygments_lexer": "ipython3",
   "version": "3.12.0"
  }
 },
 "nbformat": 4,
 "nbformat_minor": 2
}
