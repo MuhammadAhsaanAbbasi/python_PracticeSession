{
 "cells": [
  {
   "cell_type": "markdown",
   "metadata": {},
   "source": [
    "# Lists working With LOOP"
   ]
  },
  {
   "cell_type": "code",
   "execution_count": 3,
   "metadata": {},
   "outputs": [
    {
     "name": "stdout",
     "output_type": "stream",
     "text": [
      "pepperoni\n",
      "I like pepperoni pizza.\n",
      "margherita\n",
      "I like margherita pizza.\n",
      "hawaiian\n",
      "I like hawaiian pizza.\n",
      "\n",
      "I really love pizza!\n",
      "\n",
      "dog\n",
      "A dog would make a great pet.\n",
      "cat\n",
      "A cat would make a great pet.\n",
      "rabbit\n",
      "A rabbit would make a great pet.\n",
      "\n",
      "Any of these animals would make a great pet!\n",
      "\n"
     ]
    }
   ],
   "source": [
    "# 4-1. Pizzas: Think of at least three kinds of your favorite pizza. Store these\n",
    "# pizza names in a list, and then use a for loop to print the name of each pizza.\n",
    "# •\t Modify your for loop to print a sentence using the name of the pizza\n",
    "# instead of printing just the name of the pizza. For each pizza you should\n",
    "# have one line of output containing a simple statement like I like pepperoni\n",
    "# pizza.\n",
    "# •\t Add a line at the end of your program, outside the for loop, that states\n",
    "# how much you like pizza. The output should consist of three or more lines\n",
    "# about the kinds of pizza you like and then an additional sentence, such as\n",
    "# I really love pizza!\n",
    "fav_pizzas = ['pepperoni', 'margherita', 'hawaiian']\n",
    "for pizza in fav_pizzas:\n",
    "    print(pizza)\n",
    "    print(f'I like {pizza} pizza.')\n",
    "print('\\nI really love pizza!\\n')\n",
    "\n",
    "# 4-2. Animals: Think of at least three different animals that have a common characteristic. Store the names of these animals in a list, and then use a for loop to\n",
    "# print out the name of each animal.\n",
    "# •\t Modify your program to print a statement about each animal, such as\n",
    "# A dog would make a great pet.\n",
    "# •\t Add a line at the end of your program stating what these animals have in\n",
    "# common. You could print a sentence such as Any of these animals would\n",
    "# make a great pet!\n",
    "diff_puppies = [\"dog\",\"cat\",\"rabbit\"]\n",
    "for puppy in diff_puppies:\n",
    "    print(puppy)\n",
    "    print(f\"A {puppy} would make a great pet.\")\n",
    "print(\"\\nAny of these animals would make a great pet!\\n\")"
   ]
  },
  {
   "cell_type": "code",
   "execution_count": 8,
   "metadata": {},
   "outputs": [
    {
     "name": "stdout",
     "output_type": "stream",
     "text": [
      "2 X 1 = 2\n",
      "2 X 2 = 4\n",
      "2 X 3 = 6\n",
      "2 X 4 = 8\n",
      "2 X 5 = 10\n",
      "2 X 6 = 12\n",
      "2 X 7 = 14\n",
      "2 X 8 = 16\n",
      "2 X 9 = 18\n",
      "2 X 10 = 20\n"
     ]
    }
   ],
   "source": [
    "# 4-3. Counting to Twenty: Use a for loop to print the numbers from 1 to 20,\n",
    "# inclusive.\n",
    "for i in range(1,11):\n",
    "    print(f\"{2} X {i} = {2*i}\")\n",
    "\n",
    "# 4-4. One Million: Make a list of the numbers from one to one million, and then\n",
    "# use a for loop to print the numbers. (If the output is taking too long, stop it by\n",
    "# pressing ctrl-C or by closing the output window.)\n",
    "for j in range(1,1000001):\n",
    "    print(j)"
   ]
  },
  {
   "cell_type": "code",
   "execution_count": 21,
   "metadata": {},
   "outputs": [
    {
     "name": "stdout",
     "output_type": "stream",
     "text": [
      "1\n",
      "1000000\n",
      "500000500000\n",
      "1\n",
      "3\n",
      "5\n",
      "7\n",
      "9\n",
      "11\n",
      "13\n",
      "15\n",
      "17\n",
      "19\n",
      "2\n",
      "4\n",
      "6\n",
      "8\n",
      "10\n",
      "12\n",
      "14\n",
      "16\n",
      "18\n",
      "20\n"
     ]
    }
   ],
   "source": [
    "# 4-5. Summing a Million: Make a list of the numbers from one to one million,\n",
    "# and then use min() and max() to make sure your list actually starts at one and\n",
    "# ends at one million. Also, use the sum() function to see how quickly Python can\n",
    "# add a million numbers\n",
    "million = list(range(1,1000001))\n",
    "print(min(million))\n",
    "print(max(million))\n",
    "print(sum(million)) # o.3s to add a million numbers\n",
    "\n",
    "# 4-6. Odd Numbers: Use the third argument of the range() function to make a list\n",
    "# of the odd numbers from 1 to 20. Use a for loop to print each number.\n",
    "for i in range(1,21,2):\n",
    "    print(i)\n",
    "\n",
    "for i in range(1,21):\n",
    "    if i%2 == 0:\n",
    "        print(i)\n"
   ]
  },
  {
   "cell_type": "code",
   "execution_count": 25,
   "metadata": {},
   "outputs": [
    {
     "name": "stdout",
     "output_type": "stream",
     "text": [
      "3\n",
      "6\n",
      "9\n",
      "12\n",
      "15\n",
      "18\n",
      "21\n",
      "24\n",
      "27\n",
      "30\n",
      "[1, 8, 27, 64, 125, 216, 343, 512, 729, 1000]\n",
      "[1, 8, 27, 64, 125, 216, 343, 512, 729, 1000]\n"
     ]
    }
   ],
   "source": [
    "# 4-7. Threes: Make a list of the multiples of 3 from 3 to 30. Use a for loop to\n",
    "# print the numbers in your list.\n",
    "for i in range(3,31,3):\n",
    "    print(i)\n",
    "\n",
    "# 4-8. Cubes: A number raised to the third power is called a cube. For example,\n",
    "# the cube of 2 is written as 2**3 in Python. Make a list of the first 10 cubes (that\n",
    "# is, the cube of each integer from 1 through 10), and use a for loop to print out\n",
    "# the value of each cube.\n",
    "cubes = []\n",
    "for i in range(1,11):\n",
    "    cube = i**3\n",
    "    cubes.append(cube)\n",
    "print(cubes)\n",
    "\n",
    "# 4-9. Cube Comprehension: Use a list comprehension to generate a list of the\n",
    "# first 10 cubes.\n",
    "print([i**3 for i in range(1,11)])"
   ]
  },
  {
   "cell_type": "code",
   "execution_count": 34,
   "metadata": {},
   "outputs": [
    {
     "name": "stdout",
     "output_type": "stream",
     "text": [
      "The first three items in the list are: pepperoni\n",
      "\n",
      "The first three items in the list are: margherita\n",
      "\n",
      "The first three items in the list are: hawaiian\n",
      "\n",
      "Three items from the middle of the list are: margherita\n",
      "\n",
      "Three items from the middle of the list are: hawaiian\n",
      "\n",
      "Three items from the middle of the list are: veggie\n",
      "\n",
      "The last three items in the list are: hawaiian\n",
      "\n",
      "The last three items in the list are: veggie\n",
      "\n",
      "The last three items in the list are: cheese\n",
      "\n"
     ]
    }
   ],
   "source": [
    "# 4-10. Slices: Using one of the programs you wrote in this chapter, add several\n",
    "# lines to the end of the program that do the following:\n",
    "# •\t Print the message, The first three items in the list are:. Then use a slice to\n",
    "# print the first three items from that program’s list.\n",
    "# •\t Print the message, Three items from the middle of the list are:. Use a slice\n",
    "# to print three items from the middle of the list.\n",
    "# •\t Print the message, The last three items in the list are:. Use a slice to print\n",
    "# the last three items in the list.\n",
    "pizzas = ['pepperoni', 'margherita', 'hawaiian', 'veggie', 'cheese']\n",
    "for i in pizzas[0:3]:\n",
    "    print(f\"The first three items in the list are: {i}\\n\")\n",
    "\n",
    "for i in pizzas[1:4]:\n",
    "    print(f\"Three items from the middle of the list are: {i}\\n\")\n",
    "\n",
    "for i in range(2,5):\n",
    "    print(f\"The last three items in the list are: {pizzas[i]}\\n\")\n"
   ]
  },
  {
   "cell_type": "code",
   "execution_count": 39,
   "metadata": {},
   "outputs": [
    {
     "name": "stdout",
     "output_type": "stream",
     "text": [
      "My favorite pizzas are: BBQ\n",
      "\n",
      "My favorite pizzas are: margherita\n",
      "\n",
      "My favorite pizzas are: hawaiian\n",
      "\n",
      "My favorite pizzas are: veggie\n",
      "\n",
      "My favorite pizzas are: cheese\n",
      "\n",
      "My friend's favorite pizzas are: Afghani\n",
      "\n",
      "My friend's favorite pizzas are: margherita\n",
      "\n",
      "My friend's favorite pizzas are: hawaiian\n",
      "\n",
      "My friend's favorite pizzas are: veggie\n",
      "\n",
      "My friend's favorite pizzas are: cheese\n",
      "\n",
      "pizza\n",
      "falafel\n",
      "carrot cake\n",
      "Biryani\n",
      "Kabab\n",
      "Kheer\n"
     ]
    }
   ],
   "source": [
    "# 4-11. My Pizzas, Your Pizzas: Start with your program from Exercise 4-1\n",
    "# (page 60). Make a copy of the list of pizzas, and call it friend_pizzas.\n",
    "# Then, do the following:\n",
    "# •\t Add a new pizza to the original list.\n",
    "# •\t Add a different pizza to the list friend_pizzas.\n",
    "# •\t Prove that you have two separate lists. Print the message, My favorite\n",
    "# pizzas are:, and then use a for loop to print the first list. Print the message,\n",
    "# My friend’s favorite pizzas are:, and then use a for loop to print the second list. Make sure each new pizza is stored in the appropriate list.\n",
    "friends_pizzas = pizzas.copy()\n",
    "friends_pizzas[0] = \"Afghani\"\n",
    "pizzas[0] = \"BBQ\"\n",
    "for i in pizzas:\n",
    "    print(f\"My favorite pizzas are: {i}\\n\")\n",
    "\n",
    "for i in friends_pizzas:\n",
    "    print(f\"My friend's favorite pizzas are: {i}\\n\")\n",
    "\n",
    "# 4-12. More Loops: All versions of foods.py in this section have avoided using\n",
    "# for loops when printing to save space. Choose a version of foods.py, and\n",
    "# write two for loops to print each list of foods.\n",
    "foods: list[str] = [\"pizza\", \"falafel\", \"carrot cake\"]\n",
    "food2: list[str] = [\"Biryani\", \"Kabab\", \"Kheer\"]\n",
    "foods.extend(food2)\n",
    "for food in foods:\n",
    "    print(food)"
   ]
  },
  {
   "cell_type": "markdown",
   "metadata": {},
   "source": [
    "# Tuples"
   ]
  },
  {
   "cell_type": "code",
   "execution_count": 49,
   "metadata": {},
   "outputs": [
    {
     "name": "stdout",
     "output_type": "stream",
     "text": [
      "Menu: Afghani Tikka\n",
      "Menu: Shawarma\n",
      "Menu: Biryani\n",
      "Menu: Burger\n",
      "Menu: Pasta\n",
      "Updated Menu: Afghani Tikka\n",
      "Updated Menu: Shawarma\n",
      "Updated Menu: Kabab\n",
      "Updated Menu: Kheer\n",
      "Updated Menu: Pasta\n"
     ]
    }
   ],
   "source": [
    "# 4-13. Buffet: A buffet-style restaurant offers only five basic foods. Think of five\n",
    "# simple foods, and store them in a tuple.\n",
    "# •\t Use a for loop to print each food the restaurant offers.\n",
    "# •\t Try to modify one of the items, and make sure that Python rejects the\n",
    "# change.\n",
    "# •\t The restaurant changes its menu, replacing two of the items with different\n",
    "# foods. Add a block of code that rewrites the tuple, and then use a for\n",
    "# loop to print each of the items on the revised menu.\n",
    "\n",
    "# recipes: tuple[str] = (\"Afghani Tikka\",\"Shawarma\", \"Biryani\",\"Burger\",\"Pasta\")\n",
    "# for menu in recipes:\n",
    "#     print(\"Menu:\",menu)\n",
    "\n",
    "# # recipes[0] = \"Kabab\"\n",
    "# # for menu in recipes:\n",
    "# #     print(\"Menu:\",menu)\n",
    "\n",
    "# recipes: tuple[str] = (\"Afghani Tikka\",\"Shawarma\", \"Kabab\",\"Kheer\",\"Pasta\")\n",
    "# for menu in recipes:\n",
    "#     print(\"Updated Menu:\",menu)"
   ]
  },
  {
   "cell_type": "code",
   "execution_count": 51,
   "metadata": {},
   "outputs": [
    {
     "name": "stdout",
     "output_type": "stream",
     "text": [
      "120\n"
     ]
    }
   ],
   "source": [
    "# V.imp Problem\n",
    "# 4-14. Create a factorial calculator using a while loop\n",
    "number = int(input(\"Enter a number: \"))\n",
    "fact = number-1\n",
    "while fact > 0:\n",
    "    number = number*fact\n",
    "    fact -= 1\n",
    "\n",
    "print(number)"
   ]
  }
 ],
 "metadata": {
  "kernelspec": {
   "display_name": "py12",
   "language": "python",
   "name": "python3"
  },
  "language_info": {
   "codemirror_mode": {
    "name": "ipython",
    "version": 3
   },
   "file_extension": ".py",
   "mimetype": "text/x-python",
   "name": "python",
   "nbconvert_exporter": "python",
   "pygments_lexer": "ipython3",
   "version": "3.12.0"
  }
 },
 "nbformat": 4,
 "nbformat_minor": 2
}
