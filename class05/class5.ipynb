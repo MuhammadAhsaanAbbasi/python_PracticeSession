{
 "cells": [
  {
   "cell_type": "code",
   "execution_count": 16,
   "metadata": {},
   "outputs": [
    {
     "name": "stdout",
     "output_type": "stream",
     "text": [
      "Is car == 'subaru'? I predict True.\n",
      "True\n",
      "\n",
      "Is car == 'audi'? I predict False.\n",
      "False\n",
      "\n",
      "Is car != 'audi'? I predict True.\n",
      "True\n",
      "\n",
      "Is car != 'subaru'? I predict False.\n",
      "False\n",
      "\n",
      "Is car == 'subaru' and car != 'audi'? I predict True.\n",
      "True\n",
      "\n",
      "Is car == 'subaru' or car == 'audi'? I predict True.\n",
      "True\n",
      "\n",
      "Is car == 'subaru' and car == 'audi'? I predict False.\n",
      "False\n",
      "\n",
      "Is car == 'audi' or car != 'audi'? I predict True.\n",
      "True\n",
      "\n",
      "Is car == 'subaru' and car != 'subaru'? I predict False.\n",
      "False\n"
     ]
    }
   ],
   "source": [
    "# 5-1. Conditional Tests: Write a series of conditional tests. Print a statement\n",
    "# describing each test and your prediction for the results of each test. Your code\n",
    "# should look something like this:\n",
    "# car = 'subaru'\n",
    "# print(\"Is car == 'subaru'? I predict True.\")\n",
    "# print(car == 'subaru')\n",
    "# print(\"\\nIs car == 'audi'? I predict False.\")\n",
    "# print(car == 'audi')\n",
    "# •\t Look closely at your results, and make sure you understand why each line\n",
    "# evaluates to True or False.\n",
    "# •\t Create at least 10 tests. Have at least 5 tests evaluate to True and another\n",
    "# 5 tests evaluate to False.\n",
    "car: str = 'subaru'\n",
    "print(\"Is car == 'subaru'? I predict True.\")\n",
    "print(car == 'subaru')\n",
    "print(\"\\nIs car == 'audi'? I predict False.\")\n",
    "print(car == 'audi')\n",
    "print(\"\\nIs car != 'audi'? I predict True.\")\n",
    "print(car != 'audi')\n",
    "print(\"\\nIs car != 'subaru'? I predict False.\")\n",
    "print(car != 'subaru')\n",
    "print(\"\\nIs car == 'subaru' and car != 'audi'? I predict True.\")\n",
    "print(car == 'subaru' and car != 'audi')\n",
    "print(\"\\nIs car == 'subaru' or car == 'audi'? I predict True.\")\n",
    "print(car == 'subaru' or car == 'audi')\n",
    "print(\"\\nIs car == 'subaru' and car == 'audi'? I predict False.\")\n",
    "print(car == 'subaru' and car == 'audi')\n",
    "print(\"\\nIs car == 'audi' or car != 'audi'? I predict True.\")\n",
    "print(car == 'audi' or car != 'audi')\n",
    "print(\"\\nIs car == 'subaru' and car != 'subaru'? I predict False.\")\n",
    "print(car == 'subaru' and car != 'subaru')"
   ]
  },
  {
   "cell_type": "code",
   "execution_count": 27,
   "metadata": {},
   "outputs": [
    {
     "name": "stdout",
     "output_type": "stream",
     "text": [
      "\n",
      "Is car.lower() == 'subaru'? I predict True.\n",
      "True\n",
      "\n",
      "Is car.uper() == 'audi'? I predict False.\n",
      "False\n",
      "\n",
      "Is 1 == 1? I predict True.\n",
      "True\n",
      "\n",
      "Is 1 != 1? I predict False.\n",
      "False\n",
      "\n",
      "Is 5 > 4? I predict True.\n",
      "True\n",
      "\n",
      "Is 5 < 4? I predict False.\n",
      "False\n",
      "\n",
      "Is 5 >= 6? I predict False.\n",
      "False\n",
      "\n",
      "Is 5 <= 6? I predict True.\n",
      "True\n",
      "\n",
      "Is 5 == 5 and 5 != 6? I predict True.\n",
      "True\n",
      "Is Hijabie in names? I predict True\n",
      "Is malika in names? I predict False\n"
     ]
    }
   ],
   "source": [
    "# 5-2. More Conditional Tests: You don’t have to limit the number of tests you\n",
    "# create to 10. If you want to try more comparisons, write more tests and add\n",
    "# them to conditional_tests.py. Have at least one True and one False result for\n",
    "# each of the following:\n",
    "# •\t Tests for equality and inequality with strings\n",
    "# •\t Tests using the lower() function\n",
    "# •\t Numerical tests involving equality and inequality, greater than and\n",
    "# less than, greater than or equal to, and less than or equal to\n",
    "# •\t Tests using the and keyword and the or keyword\n",
    "# •\t Test whether an item is in a list\n",
    "# •\t Test whether an item is not in a list\n",
    "car: str = 'subaru'\n",
    "print(\"\\nIs car.lower() == 'subaru'? I predict True.\")\n",
    "print(car.lower() == 'subaru')\n",
    "print(\"\\nIs car.uper() == 'audi'? I predict False.\")\n",
    "print(car.upper() == 'subaru')\n",
    "print(\"\\nIs 1 == 1? I predict True.\")\n",
    "print(1 == 1)\n",
    "print(\"\\nIs 1 != 1? I predict False.\")\n",
    "print(1 != 1)\n",
    "print(\"\\nIs 5 > 4? I predict True.\")\n",
    "print(5 > 4)\n",
    "print(\"\\nIs 5 < 4? I predict False.\")\n",
    "print(5 < 4)\n",
    "print(\"\\nIs 5 >= 6? I predict False.\")\n",
    "print(5 >= 6)\n",
    "print(\"\\nIs 5 <= 6? I predict True.\")\n",
    "print(5 <= 6)\n",
    "print(\"\\nIs 5 == 5 and 5 != 6? I predict True.\")\n",
    "print(5 == 5 and 5 != 6)\n",
    "names: list[str] = [\"Hijabie\", \"gossipie\", \"Alizay\"]\n",
    "name: str = input(\"Enter a name: \")\n",
    "name2: str = input(\"Enter a name: \")\n",
    "print(f\"Is {name} in names? I predict {name in names}\")\n",
    "print(f\"Is {name2} in names? I predict {name2 in names}\")"
   ]
  },
  {
   "cell_type": "code",
   "execution_count": 29,
   "metadata": {},
   "outputs": [
    {
     "name": "stdout",
     "output_type": "stream",
     "text": [
      "HIjabie I Love You\n"
     ]
    }
   ],
   "source": [
    "if True: \n",
    "    print(\"HIjabie I Love You\")\n",
    "elif True:\n",
    "    print(\"I miss you\")\n",
    "elif False: \n",
    "    print(\"I miss you\")\n",
    "else: \n",
    "    print(\"I miss you\")"
   ]
  },
  {
   "cell_type": "code",
   "execution_count": 38,
   "metadata": {},
   "outputs": [
    {
     "name": "stdout",
     "output_type": "stream",
     "text": [
      "The player just earned 10 points.\n",
      "The player just earned 15 points.\n"
     ]
    }
   ],
   "source": [
    "# 5-3. Alien Colors #1: Imagine an alien was just shot down in a game. Create a\n",
    "# variable called alien_color and assign it a value of 'green', 'yellow', or 'red'.\n",
    "# •\t Write an if statement to test whether the alien’s color is green. If it is, print\n",
    "# a message that the player just earned 5 points.\n",
    "# •\t Write one version of this program that passes the if test and another that\n",
    "# fails. (The version that fails will have no output.)\n",
    "input_color: str = input(\"Enter a color: \")\n",
    "alien_color: list[str] = [\"green\", \"yellow\", \"red\"]\n",
    "if input_color == \"green\" in alien_color:\n",
    "    print(\"The player just earned 5 points.\")"
   ]
  },
  {
   "cell_type": "code",
   "execution_count": null,
   "metadata": {},
   "outputs": [],
   "source": [
    "# 5-4. Alien Colors #2: Choose a color for an alien as you did in Exercise 5-3, and\n",
    "# write an if-else chain.\n",
    "# •\t If the alien’s color is green, print a statement that the player just earned\n",
    "# 5 points for shooting the alien.\n",
    "# •\t If the alien’s color isn’t green, print a statement that the player just earned\n",
    "# 10 points.\n",
    "# •\t Write one version of this program that runs the if block and another that\n",
    "# runs the else block.\n",
    "if input_color == \"green\" in alien_color:\n",
    "    print(\"The player just earned 5 points.\")\n",
    "elif input_color != \"green\" in alien_color:\n",
    "    print(\"The player just earned 10 points.\")"
   ]
  },
  {
   "cell_type": "code",
   "execution_count": 39,
   "metadata": {},
   "outputs": [
    {
     "name": "stdout",
     "output_type": "stream",
     "text": [
      "The player just earned 15 points.\n",
      "The person is an adult.\n"
     ]
    }
   ],
   "source": [
    "# 5-5. Alien Colors #3: Turn your if-else chain from Exercise 5-4 into an if-elifelse chain.\n",
    "# •\t If the alien is green, print a message that the player earned 5 points.\n",
    "# •\t If the alien is yellow, print a message that the player earned 10 points.\n",
    "# •\t If the alien is red, print a message that the player earned 15 points.\n",
    "# •\t Write three versions of this program, making sure each message is printed\n",
    "# for the appropriate color alien.\n",
    "input_color: str = input(\"Enter a color: \")\n",
    "if input_color == \"green\" in alien_color:\n",
    "    print(\"The player just earned 5 points.\")\n",
    "elif input_color == \"yellow\" in alien_color:\n",
    "    print(\"The player just earned 10 points.\")\n",
    "elif input_color == \"red\" in alien_color:\n",
    "    print(\"The player just earned 15 points.\")\n",
    "\n",
    "# 5-6. Stages of Life: Write an if-elif-else chain that determines a person’s\n",
    "# stage of life. Set a value for the variable age, and then:\n",
    "# •\t If the person is less than 2 years old, print a message that the person is\n",
    "# a baby.\n",
    "# •\t If the person is at least 2 years old but less than 4, print a message that\n",
    "# the person is a toddler.\n",
    "# •\t If the person is at least 4 years old but less than 13, print a message that\n",
    "# the person is a kid.\n",
    "# •\t If the person is at least 13 years old but less than 20, print a message that\n",
    "# the person is a teenager.\n",
    "# •\t If the person is at least 20 years old but less than 65, print a message that\n",
    "# the person is an adult.\n",
    "# •\t If the person is age 65 or older, print a message that the person is an\n",
    "# elder.\n",
    "person_age: int = int(input(\"Enter your age: \"))\n",
    "if person_age < 2:\n",
    "    print(\"The person is a baby.\")\n",
    "elif person_age >= 2 and person_age < 4:\n",
    "    print(\"The person is a toddler.\")\n",
    "elif person_age >= 4 and person_age < 13:\n",
    "    print(\"The person is a kid.\")\n",
    "elif person_age >= 13 and person_age < 20:\n",
    "    print(\"The person is a teenager.\")\n",
    "elif person_age >= 20 and person_age < 65:\n",
    "    print(\"The person is an adult.\")\n",
    "else:\n",
    "    print(\"The person is an elder.\")"
   ]
  },
  {
   "cell_type": "code",
   "execution_count": 41,
   "metadata": {},
   "outputs": [
    {
     "name": "stdout",
     "output_type": "stream",
     "text": [
      "You really like apples!\n",
      "You really like bananas!\n",
      "You really like mangoes!\n",
      "Adding mushrooms.\n",
      "\n",
      "Finished making your pizza!\n"
     ]
    }
   ],
   "source": [
    "# 5-7. Favorite Fruit: Make a list of your favorite fruits, and then write a series of\n",
    "# independent if statements that check for certain fruits in your list.\n",
    "# •\t Make a list of your three favorite fruits and call it favorite_fruits.\n",
    "# •\t Write five if statements. Each should check whether a certain kind of fruit\n",
    "# is in your list. If the fruit is in your list, the if block should print a statement,\n",
    "# such as You really like bananas!\n",
    "favourite_fruits: list[str] = [\"apple\", \"banana\", \"mango\"]\n",
    "if \"apple\" in favourite_fruits:\n",
    "    print(\"You really like apples!\")\n",
    "\n",
    "if \"banana\" in favourite_fruits:\n",
    "    print(\"You really like bananas!\")\n",
    "\n",
    "if \"mango\" in favourite_fruits:\n",
    "    print(\"You really like mangoes!\")\n"
   ]
  },
  {
   "cell_type": "code",
   "execution_count": 61,
   "metadata": {},
   "outputs": [
    {
     "name": "stdout",
     "output_type": "stream",
     "text": [
      "User found: Hijabie\n"
     ]
    }
   ],
   "source": [
    "data_base: list[tuple[str,str]] = [(\"Hijabie\",\"hijabie123\"), \n",
    "                                (\"gossipie\", \"gossipie123\"),\n",
    "                                (\"Alizay\", \"alizay123\")\n",
    "                                ]\n",
    "input_name: str = input(\"Enter a name: \")\n",
    "input_password: str = input(\"Enter a password: \")\n",
    "\n",
    "for row in data_base:\n",
    "    user, password = row\n",
    "    if user == input_name and password == input_password:\n",
    "        print(f\"User found: {input_name}\")\n",
    "        break"
   ]
  },
  {
   "cell_type": "code",
   "execution_count": 65,
   "metadata": {},
   "outputs": [
    {
     "name": "stdout",
     "output_type": "stream",
     "text": [
      "[88, 44, 57, 95, 77, 50, 33, 25]\n",
      "['A+', 'D', 'C', 'A+', 'A', 'C', 'E', 'F']\n"
     ]
    },
    {
     "data": {
      "text/plain": [
       "[('A+', 88, 0),\n",
       " ('D', 44, 1),\n",
       " ('C', 57, 2),\n",
       " ('A+', 95, 3),\n",
       " ('A', 77, 4),\n",
       " ('C', 50, 5),\n",
       " ('E', 33, 6),\n",
       " ('F', 25, 7)]"
      ]
     },
     "execution_count": 65,
     "metadata": {},
     "output_type": "execute_result"
    }
   ],
   "source": [
    "from typing import Union\n",
    "\n",
    "\n",
    "PerType = Union[int, float]\n",
    "percentages: list[PerType] = [88, 44, 57, 95, 77, 50, 33, 25]\n",
    "grades: list[str] = []\n",
    "for percentage in percentages:\n",
    "    grade: str = \"\"\n",
    "    if percentage >= 80:\n",
    "        grade = \"A+\"\n",
    "    elif percentage >= 70:\n",
    "        grade = \"A\"\n",
    "    elif percentage >= 60:\n",
    "        grade = \"B\"\n",
    "    elif percentage >= 50:\n",
    "        grade = \"C\"\n",
    "    elif percentage >= 40:\n",
    "        grade = \"D\"\n",
    "    elif percentage >= 33:\n",
    "        grade = \"E\"\n",
    "    else:\n",
    "        grade = \"F\"\n",
    "    grades.append(grade)\n",
    "print(percentages)\n",
    "print(grades)\n",
    "# zip(grades, percentages)\n",
    "list(zip(grades, percentages, list(range(len(percentages)))))"
   ]
  },
  {
   "cell_type": "code",
   "execution_count": 71,
   "metadata": {},
   "outputs": [
    {
     "name": "stdout",
     "output_type": "stream",
     "text": [
      "Hello Hijabie, thank you for logging in again.\n",
      "Hello gossipie, thank you for logging in again.\n",
      "Hello Alizay, thank you for logging in again.\n",
      "Hello admin, would you like to see a status report?\n",
      "Hello Ahsaan, thank you for logging in again.\n",
      "We need to find some users!\n",
      "\n",
      "Hijabie will need to enter a new username.\n",
      "\n"
     ]
    }
   ],
   "source": [
    "# 5-8. Hello Admin: Make a list of five or more usernames, including the name\n",
    "# 'admin'. Imagine you are writing code that will print a greeting to each user\n",
    "# after they log in to a website. Loop through the list, and print a greeting to\n",
    "# each user:\n",
    "# •\t If the username is 'admin', print a special greeting, such as Hello admin,\n",
    "# would you like to see a status report?\n",
    "# •\t Otherwise, print a generic greeting, such as Hello Eric, thank you for logging in again.\n",
    "user_names: list[str] = [\"Hijabie\", \"gossipie\", \"Alizay\", \"admin\", \"Ahsaan\"]\n",
    "for user in user_names:\n",
    "    if user == \"admin\":\n",
    "        print(f\"Hello admin, would you like to see a status report?\")\n",
    "    else:\n",
    "        print(f\"Hello {user}, thank you for logging in again.\")\n",
    "\n",
    "# 5-9. No Users: Add an if test to hello_admin.py to make sure the list of users is\n",
    "# not empty.\n",
    "# •\t If the list is empty, print the message We need to find some users!\n",
    "# •\t Remove all of the usernames from your list, and make sure the correct\n",
    "# message is printed.\n",
    "hello_admin: list[str] = []\n",
    "if hello_admin.__len__() == 0:\n",
    "    print(\"We need to find some users!\")\n",
    "\n",
    "# 5-10. Checking Usernames: Do the following to create a program that simulates\n",
    "# how websites ensure that everyone has a unique username.\n",
    "# •\t Make a list of five or more usernames called current_users.\n",
    "# •\t Make another list of five usernames called new_users. Make sure one or\n",
    "# two of the new usernames are also in the current_users list.\n",
    "# •\t Loop through the new_users list to see if each new username has already\n",
    "# been used. If it has, print a message that the person will need to enter a\n",
    "# new username. If a username has not been used, print a message saying\n",
    "# that the username is available.\n",
    "# •\t Make sure your comparison is case insensitive. If 'John' has been used,\n",
    "# 'JOHN' should not be accepted.\n",
    "current_users: list[str] = [\"Hijabie\", \"gossipie\", \"Alizay\", \"admin\", \"Ahsaan\"]\n",
    "new_users: list[str] = []\n",
    "users = input(\"Enter a username: \")\n",
    "new_users.append(users)\n",
    "for user in new_users:\n",
    "    if user in current_users:\n",
    "        print(f\"\\n{user} will need to enter a new username.\\n\")\n",
    "    else:\n",
    "        print(f\"\\n{user} is available.\\n\")"
   ]
  },
  {
   "cell_type": "code",
   "execution_count": 72,
   "metadata": {},
   "outputs": [
    {
     "name": "stdout",
     "output_type": "stream",
     "text": [
      "1st\n",
      "2nd\n",
      "3rd\n",
      "4th\n",
      "5th\n",
      "6th\n",
      "7th\n",
      "8th\n",
      "9th\n"
     ]
    }
   ],
   "source": [
    "# 5-11. Ordinal Numbers: Ordinal numbers indicate their position in a list, such\n",
    "# as 1st or 2nd. Most ordinal numbers end in th, except 1, 2, and 3.\n",
    "# •\t Store the numbers 1 through 9 in a list.\n",
    "# •\t Loop through the list.\n",
    "# •\t Use an if-elif-else chain inside the loop to print the proper ordinal ending for each number. Your output should read \"1st 2nd 3rd 4th 5th 6th\n",
    "# 7th 8th 9th\", and each result should be on a separate line.\n",
    "ordinal_numbers: list[int] = [1, 2, 3, 4, 5, 6, 7, 8, 9]\n",
    "for number in ordinal_numbers:\n",
    "    if number == 1:\n",
    "        print(f\"{number}st\")\n",
    "    elif number == 2:\n",
    "        print(f\"{number}nd\")\n",
    "    elif number == 3:\n",
    "        print(f\"{number}rd\")\n",
    "    else:\n",
    "        print(f\"{number}th\")"
   ]
  }
 ],
 "metadata": {
  "kernelspec": {
   "display_name": "py12",
   "language": "python",
   "name": "python3"
  },
  "language_info": {
   "codemirror_mode": {
    "name": "ipython",
    "version": 3
   },
   "file_extension": ".py",
   "mimetype": "text/x-python",
   "name": "python",
   "nbconvert_exporter": "python",
   "pygments_lexer": "ipython3",
   "version": "3.12.0"
  }
 },
 "nbformat": 4,
 "nbformat_minor": 2
}
