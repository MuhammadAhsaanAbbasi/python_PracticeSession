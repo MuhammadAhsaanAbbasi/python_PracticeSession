{
 "cells": [
  {
   "cell_type": "code",
   "execution_count": 2,
   "metadata": {},
   "outputs": [
    {
     "name": "stdout",
     "output_type": "stream",
     "text": [
      "[1 2 3 4]\n"
     ]
    }
   ],
   "source": [
    "import numpy as np\n",
    "\n",
    "a: np.ndarray = np.array([1, 2, 3, 4])\n",
    "print(a)"
   ]
  },
  {
   "cell_type": "markdown",
   "metadata": {},
   "source": [
    "# Scaler Values"
   ]
  },
  {
   "cell_type": "code",
   "execution_count": 8,
   "metadata": {},
   "outputs": [
    {
     "data": {
      "text/plain": [
       "1"
      ]
     },
     "metadata": {},
     "output_type": "display_data"
    },
    {
     "data": {
      "text/plain": [
       "4"
      ]
     },
     "metadata": {},
     "output_type": "display_data"
    }
   ],
   "source": [
    "a: np.ndarray = np.array(100)\n",
    "display(a)\n",
    "display(a.shape)\n",
    "display(a.dtype)\n",
    "display(a.ndim)\n",
    "display(type(a))\n",
    "display(a.size)\n",
    "display(a.itemsize)"
   ]
  },
  {
   "cell_type": "markdown",
   "metadata": {},
   "source": [
    "# Vector Values"
   ]
  },
  {
   "cell_type": "code",
   "execution_count": 9,
   "metadata": {},
   "outputs": [
    {
     "data": {
      "text/plain": [
       "array([1, 2, 3, 4])"
      ]
     },
     "metadata": {},
     "output_type": "display_data"
    },
    {
     "data": {
      "text/plain": [
       "(4,)"
      ]
     },
     "metadata": {},
     "output_type": "display_data"
    },
    {
     "data": {
      "text/plain": [
       "dtype('int32')"
      ]
     },
     "metadata": {},
     "output_type": "display_data"
    },
    {
     "data": {
      "text/plain": [
       "1"
      ]
     },
     "metadata": {},
     "output_type": "display_data"
    },
    {
     "data": {
      "text/plain": [
       "numpy.ndarray"
      ]
     },
     "metadata": {},
     "output_type": "display_data"
    },
    {
     "data": {
      "text/plain": [
       "4"
      ]
     },
     "metadata": {},
     "output_type": "display_data"
    },
    {
     "data": {
      "text/plain": [
       "4"
      ]
     },
     "metadata": {},
     "output_type": "display_data"
    }
   ],
   "source": [
    "a: np.ndarray = np.array([1, 2, 3, 4])\n",
    "display(a)\n",
    "display(a.shape)\n",
    "display(a.dtype)\n",
    "display(a.ndim)\n",
    "display(type(a))\n",
    "display(a.size)\n",
    "display(a.itemsize)"
   ]
  },
  {
   "cell_type": "markdown",
   "metadata": {},
   "source": [
    "# Matrix Values"
   ]
  },
  {
   "cell_type": "code",
   "execution_count": 11,
   "metadata": {},
   "outputs": [
    {
     "data": {
      "text/plain": [
       "array([[1, 3, 4, 5],\n",
       "       [2, 3, 4, 5],\n",
       "       [3, 3, 4, 5],\n",
       "       [4, 3, 4, 5]])"
      ]
     },
     "metadata": {},
     "output_type": "display_data"
    },
    {
     "data": {
      "text/plain": [
       "(4, 4)"
      ]
     },
     "metadata": {},
     "output_type": "display_data"
    },
    {
     "data": {
      "text/plain": [
       "dtype('int32')"
      ]
     },
     "metadata": {},
     "output_type": "display_data"
    },
    {
     "data": {
      "text/plain": [
       "2"
      ]
     },
     "metadata": {},
     "output_type": "display_data"
    },
    {
     "data": {
      "text/plain": [
       "numpy.ndarray"
      ]
     },
     "metadata": {},
     "output_type": "display_data"
    },
    {
     "data": {
      "text/plain": [
       "16"
      ]
     },
     "metadata": {},
     "output_type": "display_data"
    },
    {
     "data": {
      "text/plain": [
       "4"
      ]
     },
     "metadata": {},
     "output_type": "display_data"
    }
   ],
   "source": [
    "data : np.ndarray = np.array([[1,3,4,5,],\n",
    "    [2,3,4,5,],\n",
    "    [3,3,4,5,],\n",
    "    [4,3,4,5,]])\n",
    "\n",
    "display(data)\n",
    "display(data.shape)\n",
    "display(data.dtype)\n",
    "display(data.ndim)\n",
    "display(type(data))\n",
    "display(data.size)\n",
    "display(data.itemsize)"
   ]
  },
  {
   "cell_type": "markdown",
   "metadata": {},
   "source": [
    "## Numpy with NDArray typing support"
   ]
  },
  {
   "cell_type": "code",
   "execution_count": 35,
   "metadata": {},
   "outputs": [
    {
     "name": "stdout",
     "output_type": "stream",
     "text": [
      "[1 2 3 4 5 6 7 8 9]\n",
      "[ 6  7  8  9 10 11 12 13 14]\n"
     ]
    }
   ],
   "source": [
    "from nptyping import NDArray, Shape, UInt64\n",
    "\n",
    "data: NDArray[Shape[\"10\"], UInt64] = np.arange(1, 10).astype(UInt64)\n",
    "print(data)\n",
    "data2 = data + 5\n",
    "print(data2)"
   ]
  },
  {
   "cell_type": "code",
   "execution_count": 38,
   "metadata": {},
   "outputs": [
    {
     "name": "stdout",
     "output_type": "stream",
     "text": [
      "[ 1  2  3  4  5  6  7  8  9 10 11 12 13 14 15 16 17 18 19 20]\n",
      "[ 6  7  8  9 10 11]\n",
      "[  1   2   3   4   5 500 500 500 500 500 500  12  13  14  15  16  17  18\n",
      "  19  20]\n",
      "[ 1  5  8 10]\n"
     ]
    }
   ],
   "source": [
    "# Numpy advanced operations vs List Operations\n",
    "ndata: NDArray[Shape[\"10\"], UInt64] = np.arange(1, 21).astype(UInt64)\n",
    "print(ndata)\n",
    "print(ndata[5:11])\n",
    "ndata[5:11] = 500\n",
    "print(ndata)\n"
   ]
  },
  {
   "cell_type": "markdown",
   "metadata": {},
   "source": [
    "# Bool Arrays in Numpy"
   ]
  },
  {
   "cell_type": "code",
   "execution_count": 39,
   "metadata": {},
   "outputs": [
    {
     "name": "stdout",
     "output_type": "stream",
     "text": [
      "[ 1  5  8 10]\n",
      "[1 8]\n"
     ]
    }
   ],
   "source": [
    "from nptyping import Bool\n",
    "ndata2: NDArray[Shape[\"4\"], UInt64] = np.array([1, 5, 8, 10])\n",
    "\n",
    "print(ndata2)\n",
    "\n",
    "select: NDArray[Shape[\"4\"],Bool] = np.array([True, False, True, False])\n",
    "print(ndata2[select])"
   ]
  },
  {
   "cell_type": "code",
   "execution_count": 40,
   "metadata": {},
   "outputs": [
    {
     "data": {
      "text/plain": [
       "array([ 2,  4, 10])"
      ]
     },
     "execution_count": 40,
     "metadata": {},
     "output_type": "execute_result"
    }
   ],
   "source": [
    "ndata: NDArray[Shape[\"4\"],UInt64] = np.array([1, 2, 4, 7, 10])\n",
    "ndata[ndata % 2 == 0]"
   ]
  },
  {
   "cell_type": "code",
   "execution_count": 47,
   "metadata": {},
   "outputs": [
    {
     "name": "stdout",
     "output_type": "stream",
     "text": [
      "[ 1  3  6  7 10]\n",
      "[127 158  69  95 144  93  32  40  46   3  80 105  82  84 176  79  93 116\n",
      " 167 133]\n",
      "[3]\n",
      "[3.]\n"
     ]
    }
   ],
   "source": [
    "state_bank: NDArray[Shape[\"4\"],UInt64] = np.array([1, 3, 6, 7, 10])\n",
    "ubl_bank: NDArray[Shape[\"20\"],UInt64] = np.random.randint(1,200,20).astype(UInt64)\n",
    "print(state_bank)\n",
    "print(ubl_bank)\n",
    "print(state_bank[np.in1d(state_bank,ubl_bank)])\n",
    "print(np.intersect1d(state_bank,ubl_bank))"
   ]
  },
  {
   "cell_type": "code",
   "execution_count": 49,
   "metadata": {},
   "outputs": [
    {
     "data": {
      "text/plain": [
       "array([6, 4, 3, 9, 5])"
      ]
     },
     "execution_count": 49,
     "metadata": {},
     "output_type": "execute_result"
    }
   ],
   "source": [
    "x: NDArray[Shape[\"20\"],UInt64] = np.array([1, 2, 3, 9, 5])\n",
    "y: NDArray[Shape[\"20\"],UInt64] = np.array([6, 4, 3, 8, 5])\n",
    "np.where(x>=y,x,y)"
   ]
  },
  {
   "cell_type": "code",
   "execution_count": 53,
   "metadata": {},
   "outputs": [
    {
     "name": "stdout",
     "output_type": "stream",
     "text": [
      "[[ 1  2  3  4]\n",
      " [ 5  6  7  8]\n",
      " [ 9 10 11 12]]\n",
      "[[ 1  2  3]\n",
      " [ 5  6  7]\n",
      " [ 9 10 11]]\n",
      "[[ 1  2]\n",
      " [ 5  6]\n",
      " [ 9 10]]\n"
     ]
    }
   ],
   "source": [
    "a: NDArray[Shape[\"*, *\"], UInt64] = np.array([[1, 2, 3, 4],\n",
    "                                            [5, 6, 7, 8],\n",
    "                                            [9, 10, 11, 12],])\n",
    "print(a)\n",
    "a: NDArray[Shape[\"*, *\"], UInt64] = np.array([[1, 2, 3],\n",
    "                                            [5, 6, 7],\n",
    "                                            [9, 10, 11],])\n",
    "print(a)\n",
    "a: NDArray[Shape[\"*, *\"], UInt64] = np.array([[1, 2],\n",
    "                                            [5, 6],\n",
    "                                            [9, 10],])\n",
    "print(a)\n",
    "\n"
   ]
  },
  {
   "cell_type": "code",
   "execution_count": 60,
   "metadata": {},
   "outputs": [
    {
     "name": "stdout",
     "output_type": "stream",
     "text": [
      "[[ 1  2  3  4  5  6]\n",
      " [ 7  8  9 10 11 12]]\n"
     ]
    }
   ],
   "source": [
    "a : NDArray[Shape[\"Size, Size\"], UInt64] = np.array([[1, 2, 3, 4, 5, 6],\n",
    "                                                    [7, 8, 9, 10, 11, 12]])\n",
    "print(a)"
   ]
  },
  {
   "cell_type": "code",
   "execution_count": 69,
   "metadata": {},
   "outputs": [
    {
     "name": "stdout",
     "output_type": "stream",
     "text": [
      "[[[ 0  1]\n",
      "  [ 2  3]\n",
      "  [ 4  5]]\n",
      "\n",
      " [[12 13]\n",
      "  [14 15]\n",
      "  [16 17]]]\n",
      "[[[ 0  1]\n",
      "  [ 2  3]\n",
      "  [ 4  5]]\n",
      "\n",
      " [[18 19]\n",
      "  [20 21]\n",
      "  [22 23]]]\n"
     ]
    }
   ],
   "source": [
    "# a: NDArray[Shape[\"Size, Size\"], UInt64] = np.arange(4*4).reshape(4,4).astype(UInt64)\n",
    "\n",
    "# print(a)\n",
    "\n",
    "# a: NDArray[Shape[\"Size, Size\"], UInt64] = np.arange(3*2).reshape(3,2).astype(UInt64)\n",
    "\n",
    "# print(a)\n",
    "\n",
    "a: NDArray[Shape[\"Size, Size\"], UInt64] = np.arange(4*3*2).reshape(4,3,2).astype(UInt64)\n",
    "\n",
    "# print(a)\n",
    "\n",
    "print(a[::2,::,::])\n",
    "print(a[[0,-1],::,::])"
   ]
  },
  {
   "cell_type": "code",
   "execution_count": 74,
   "metadata": {},
   "outputs": [
    {
     "name": "stdout",
     "output_type": "stream",
     "text": [
      "[ 2  4  6  8 10 12 14]\n",
      "[ 1  2  3  4  5  6  7  8  9 10 11 12 13 14 15 16 17 18 19 20]\n",
      "1\n",
      "20\n",
      "19\n",
      "0\n",
      "10.5\n",
      "Mode 10.50\n",
      "5.766281297335398\n",
      "210\n",
      "[  1   3   6  10  15  21  28  36  45  55  66  78  91 105 120 136 153 171\n",
      " 190 210]\n"
     ]
    }
   ],
   "source": [
    "a: NDArray[Shape[\"5\"],UInt64] = np.asarray([[1, 2, 3, 4, 5, 6, 7],\n",
    "                                            [8, 9, 10, 11, 12, 13, 14],])\n",
    "print(a[a % 2 == 0])\n",
    "\n",
    "ndata: NDArray[Shape[\"20\"],UInt64] = np.arange(1,21).astype(UInt64)\n",
    "\n",
    "print(ndata)\n",
    "print(ndata.min())\n",
    "print(ndata.max())\n",
    "print(ndata.argmax())\n",
    "print(ndata.argmin())\n",
    "print(ndata.mean())\n",
    "print(ndata.std())\n",
    "print(ndata.sum())\n",
    "print(ndata.cumsum())"
   ]
  },
  {
   "cell_type": "code",
   "execution_count": 95,
   "metadata": {},
   "outputs": [
    {
     "name": "stdout",
     "output_type": "stream",
     "text": [
      "[1 2 3 4 5]\n",
      "[[0 0 0]\n",
      " [0 0 0]\n",
      " [0 0 0]]\n",
      "[10 12 14 16 18 20]\n",
      "[  1   4   9  16  25  36  49  64  81 100]\n",
      "[ 1  2  3  4  5  6  7  8  9 19]\n",
      "The Sum of Arr1 is 64\n",
      "The min of Arr1 is 1\n",
      "The max of Arr1 is 19\n"
     ]
    }
   ],
   "source": [
    "from typing import Any\n",
    "# Create a NumPy array with the elements [1, 2, 3, 4, 5].\n",
    "nexer: NDArray[Shape[\"5\"], UInt64] = np.array([1, 2, 3, 4, 5])\n",
    "\n",
    "print(nexer)\n",
    "\n",
    "# Create a 3x3 NumPy array with all elements being 0.\n",
    "nexer2: NDArray[Shape[\"3, 3 \"], UInt64] = np.zeros((3,3)).astype(UInt64)\n",
    "print(nexer2)\n",
    "\n",
    "# excercise 3\n",
    "nexer3: NDArray[Shape[\"10\"],UInt64] = np.arange(10,21,2).astype(UInt64)\n",
    "print(nexer3)\n",
    "\n",
    "# excercise 4 Create a NumPy array containing the squares of numbers from 1 to 10.\n",
    "nexer4: NDArray[Shape[\"10\"], UInt64] = np.square(np.arange(1,11))\n",
    "print(nexer4)\n",
    "\n",
    "# excercise 5 \n",
    "arr1: NDArray[Shape[\"5\"], UInt64] = np.array([1, 2, 3, 4, 5])\n",
    "arr2: NDArray[Shape[\"5\"], UInt64] = np.array([6,7,8,9,19])\n",
    "print(np.concatenate((arr1,arr2)))\n",
    "\n",
    "# exercise 6\n",
    "arr1: NDArray[Shape[\"5\"], UInt64] = np.array([1, 2, 3, 4, 5,6,7,8,9,19])\n",
    "print(f\"The Sum of Arr1 is {arr1.sum()}\")\n",
    "\n",
    "# exercise 7 \n",
    "print(f\"The min of Arr1 is {arr1.min()}\")\n",
    "print(f\"The max of Arr1 is {arr1.max()}\")"
   ]
  }
 ],
 "metadata": {
  "kernelspec": {
   "display_name": "py12",
   "language": "python",
   "name": "python3"
  },
  "language_info": {
   "codemirror_mode": {
    "name": "ipython",
    "version": 3
   },
   "file_extension": ".py",
   "mimetype": "text/x-python",
   "name": "python",
   "nbconvert_exporter": "python",
   "pygments_lexer": "ipython3",
   "version": "3.12.0"
  }
 },
 "nbformat": 4,
 "nbformat_minor": 2
}
