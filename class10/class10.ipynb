{
 "cells": [
  {
   "cell_type": "code",
   "execution_count": 5,
   "metadata": {},
   "outputs": [
    {
     "name": "stdout",
     "output_type": "stream",
     "text": [
      "Student: Hijabie with id: 5\n",
      "Hijabie\n",
      "5\n"
     ]
    }
   ],
   "source": [
    "class Teacher():\n",
    "    def __init__(self,title: str, _id:int) -> None:\n",
    "        self.name: str = title\n",
    "        self._id: int = _id\n",
    "    \n",
    "    def _student(self):\n",
    "        print(f\"Student: {self.name} with id: {self._id}\")\n",
    "\n",
    "teacher1: Teacher = Teacher(\"Hijabie\",5)\n",
    "teacher1._student()\n",
    "print(teacher1.name)"
   ]
  },
  {
   "cell_type": "code",
   "execution_count": 9,
   "metadata": {},
   "outputs": [
    {
     "name": "stdout",
     "output_type": "stream",
     "text": [
      "Parent has Black hair color and Brown eye color and 5.5 height\n",
      "Black\n",
      "Parent has Black hair color and Brown eye color and 5.5 height\n",
      "Black\n"
     ]
    }
   ],
   "source": [
    "class Parent():\n",
    "    def __init__(self) -> None:\n",
    "        self.hair_color: str = \"Black\"\n",
    "        self.eye_color: str = \"Brown\"\n",
    "        self.height: float = 5.5\n",
    "    def intro(self):\n",
    "        print(f\"Parent has {self.hair_color} hair color and {self.eye_color} eye color and {self.height} height\")\n",
    "\n",
    "class Child(Parent):\n",
    "    pass\n",
    "\n",
    "obj1: Parent = Parent()\n",
    "obj1.intro()\n",
    "print(obj1.hair_color)\n",
    "\n",
    "obj2: Child = Child()\n",
    "obj2.intro()\n",
    "print(obj2.hair_color)"
   ]
  },
  {
   "cell_type": "code",
   "execution_count": 14,
   "metadata": {},
   "outputs": [
    {
     "name": "stdout",
     "output_type": "stream",
     "text": [
      "Employee name is Hijabie with age 21 and education B.E In Physics and title Designer\n",
      "Hijabie\n",
      "Employee name is Hijabie with age 21 and education B.E In Physics and title Generative A.I Developer\n",
      "Developer name is Hijabie\n"
     ]
    }
   ],
   "source": [
    "class Employee():\n",
    "    def __init__(self, name: str, age: int, education: str, salary: int) -> None:\n",
    "        self.name: str = name\n",
    "        self.age: int = age\n",
    "        self.education: str = education\n",
    "        self.salary: int = salary\n",
    "    def intro(self):\n",
    "        print(f\"Employee name is {self.name} with age {self.age} and education {self.education}\")\n",
    "\n",
    "class Designer(Employee):\n",
    "    def __init__(self, name: str, age: int, education: str, salary: int) -> None:\n",
    "        super().__init__(name, age, education, salary)\n",
    "        self.name: str = name\n",
    "        self.age: int = age\n",
    "        self.education: str = education\n",
    "        self.salary: int = salary\n",
    "    def intro(self,job_title: str):\n",
    "        print(f\"Employee name is {self.name} with age {self.age} and education {self.education} and title {job_title}\")\n",
    "\n",
    "designer1: Designer = Designer(\"Hijabie\", 21, \"B.E In Physics\", 600000)\n",
    "designer1.intro(\"Designer\")\n",
    "print(designer1.name)\n",
    "\n",
    "class Developer(Employee):\n",
    "    def __init__(self, name: str, age: int, education: str, salary: int) -> None:\n",
    "        super().__init__(name, age, education, salary)\n",
    "    def intro(self,job_title: str):\n",
    "        print(f\"Employee name is {self.name} with age {self.age} and education {self.education} and title {job_title}\")\n",
    "\n",
    "developer: Developer = Developer(\"Hijabie\", 21, \"B.E In Physics\", 700000)\n",
    "developer.intro(\"Generative A.I Developer\")\n",
    "print(f\"Developer name is {developer.name}\")"
   ]
  }
 ],
 "metadata": {
  "kernelspec": {
   "display_name": "py12",
   "language": "python",
   "name": "python3"
  },
  "language_info": {
   "codemirror_mode": {
    "name": "ipython",
    "version": 3
   },
   "file_extension": ".py",
   "mimetype": "text/x-python",
   "name": "python",
   "nbconvert_exporter": "python",
   "pygments_lexer": "ipython3",
   "version": "3.12.0"
  }
 },
 "nbformat": 4,
 "nbformat_minor": 2
}
