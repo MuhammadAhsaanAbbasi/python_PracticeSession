{
 "cells": [
  {
   "cell_type": "code",
   "execution_count": 5,
   "metadata": {},
   "outputs": [
    {
     "name": "stdout",
     "output_type": "stream",
     "text": [
      "Student: Hijabie with id: 5\n",
      "Hijabie\n",
      "5\n"
     ]
    }
   ],
   "source": [
    "class Teacher():\n",
    "    def __init__(self,title: str, _id:int) -> None:\n",
    "        self.name: str = title\n",
    "        self._id: int = _id\n",
    "    \n",
    "    def _student(self):\n",
    "        print(f\"Student: {self.name} with id: {self._id}\")\n",
    "\n",
    "teacher1: Teacher = Teacher(\"Hijabie\",5)\n",
    "teacher1._student()\n",
    "print(teacher1.name)"
   ]
  },
  {
   "cell_type": "code",
   "execution_count": 9,
   "metadata": {},
   "outputs": [
    {
     "name": "stdout",
     "output_type": "stream",
     "text": [
      "Parent has Black hair color and Brown eye color and 5.5 height\n",
      "Black\n",
      "Parent has Black hair color and Brown eye color and 5.5 height\n",
      "Black\n"
     ]
    }
   ],
   "source": [
    "class Parent():\n",
    "    def __init__(self) -> None:\n",
    "        self.hair_color: str = \"Black\"\n",
    "        self.eye_color: str = \"Brown\"\n",
    "        self.height: float = 5.5\n",
    "    def intro(self):\n",
    "        print(f\"Parent has {self.hair_color} hair color and {self.eye_color} eye color and {self.height} height\")\n",
    "\n",
    "class Child(Parent):\n",
    "    pass\n",
    "\n",
    "obj1: Parent = Parent()\n",
    "obj1.intro()\n",
    "print(obj1.hair_color)\n",
    "\n",
    "obj2: Child = Child()\n",
    "obj2.intro()\n",
    "print(obj2.hair_color)"
   ]
  },
  {
   "cell_type": "code",
   "execution_count": 30,
   "metadata": {},
   "outputs": [
    {
     "name": "stdout",
     "output_type": "stream",
     "text": [
      "Restaurant Name: HRK Cuisine and Cuisine Type: Pakistani, Indian\n",
      "HRK Cuisine is open\n",
      "Restaurant Name: HRK Cuisine and Cuisine Type: Pakistani, Indian\n",
      "Restaurant Name: Abbasi Cuisine and Cuisine Type: Pakistani, Indian, Chinese\n",
      "Restaurant Name: Al Nassar and Cuisine Type: Pakistani, Indian, Chinese, Arabian\n"
     ]
    }
   ],
   "source": [
    "# 9-1. Restaurant: Make a class called Restaurant. The __init__() method for\n",
    "# Restaurant should store two attributes: a restaurant_name and a cuisine_type.\n",
    "# Make a method called describe_restaurant() that prints these two pieces of\n",
    "# information, and a method called open_restaurant() that prints a message indicating that the restaurant is open.\n",
    "# Make an instance called restaurant from your class. Print the two attributes individually, and then call both methods.\n",
    "class Restaurant():\n",
    "    def __init__(self,restaurant_name,cuisine_type) -> None:\n",
    "        self.restaurant_name: str = restaurant_name\n",
    "        self.cuisine_type: str = cuisine_type\n",
    "    def describe_restaurant(self):\n",
    "        print(f\"Restaurant Name: {self.restaurant_name} and Cuisine Type: {self.cuisine_type}\")\n",
    "    def open_restaurant(self):\n",
    "        print(f\"{self.restaurant_name} is open\")\n",
    "\n",
    "restaurant: Restaurant = Restaurant(\"HRK Cuisine\", \"Pakistani, Indian\")\n",
    "restaurant.describe_restaurant()\n",
    "restaurant.open_restaurant()\n",
    "\n",
    "# 9-2. Three Restaurants: Start with your class from Exercise 9-1. Create three\n",
    "# different instances from the class, and call describe_restaurant() for each\n",
    "# instance.\n",
    "restaurant1: Restaurant = Restaurant(\"HRK Cuisine\", \"Pakistani, Indian\")\n",
    "restaurant1.describe_restaurant()\n",
    "restaurant2: Restaurant = Restaurant(\"Abbasi Cuisine\", \"Pakistani, Indian, Chinese\")\n",
    "restaurant2.describe_restaurant()\n",
    "restaurant3: Restaurant = Restaurant(\"Al Nassar\", \"Pakistani, Indian, Chinese, Arabian\")\n",
    "restaurant3.describe_restaurant()"
   ]
  },
  {
   "cell_type": "code",
   "execution_count": 32,
   "metadata": {},
   "outputs": [
    {
     "name": "stdout",
     "output_type": "stream",
     "text": [
      "First Name: HIjabie, Last Name: Rabail Khan, Age: 21\n",
      "Hello HIjabie Rabail Khan\n",
      "First Name: Fajar, Last Name: Rabail Khan, Age: 24\n",
      "Hello Fajar Rabail Khan\n",
      "First Name: Rawa, Last Name: Rabail Khan, Age: 27\n",
      "Hello Rawa Rabail Khan\n"
     ]
    }
   ],
   "source": [
    "# 9-3. Users: Make a class called User. Create two attributes called first_name\n",
    "# and last_name, and then create several other attributes that are typically stored\n",
    "# in a user profile. Make a method called describe_user() that prints a summary\n",
    "# of the user’s information. Make another method called greet_user() that prints\n",
    "# a personalized greeting to the user.\n",
    "# Create several instances representing different users, and call both methods\n",
    "# for each user.\n",
    "class User():\n",
    "    def __init__(self,first_name: str, last_name: str, age: int) -> None:\n",
    "        self.first_name: str = first_name\n",
    "        self.last_name: str = last_name\n",
    "        self.age: int = age\n",
    "    def describe_user(self):\n",
    "        print(f\"First Name: {self.first_name}, Last Name: {self.last_name}, Age: {self.age}\")\n",
    "    def greet_user(self):\n",
    "        print(f\"Hello {self.first_name} {self.last_name}\")\n",
    "\n",
    "user1: User = User(\"HIjabie\", \"Rabail Khan\", 21)\n",
    "user1.describe_user()\n",
    "user1.greet_user()\n",
    "user2: User = User(\"Fajar\", \"Rabail Khan\", 24)\n",
    "user2.describe_user()\n",
    "user2.greet_user()\n",
    "user3: User = User(\"Rawa\", \"Rabail Khan\", 27)\n",
    "user3.describe_user()\n",
    "user3.greet_user()"
   ]
  },
  {
   "cell_type": "code",
   "execution_count": 14,
   "metadata": {},
   "outputs": [
    {
     "name": "stdout",
     "output_type": "stream",
     "text": [
      "Employee name is Hijabie with age 21 and education B.E In Physics and title Designer\n",
      "Hijabie\n",
      "Employee name is Hijabie with age 21 and education B.E In Physics and title Generative A.I Developer\n",
      "Developer name is Hijabie\n"
     ]
    }
   ],
   "source": [
    "class Employee():\n",
    "    def __init__(self, name: str, age: int, education: str, salary: int) -> None:\n",
    "        self.name: str = name\n",
    "        self.age: int = age\n",
    "        self.education: str = education\n",
    "        self.salary: int = salary\n",
    "    def intro(self):\n",
    "        print(f\"Employee name is {self.name} with age {self.age} and education {self.education}\")\n",
    "\n",
    "class Designer(Employee):\n",
    "    def __init__(self, name: str, age: int, education: str, salary: int) -> None:\n",
    "        super().__init__(name, age, education, salary)\n",
    "        self.name: str = name\n",
    "        self.age: int = age\n",
    "        self.education: str = education\n",
    "        self.salary: int = salary\n",
    "    def intro(self,job_title: str):\n",
    "        print(f\"Employee name is {self.name} with age {self.age} and education {self.education} and title {job_title}\")\n",
    "\n",
    "designer1: Designer = Designer(\"Hijabie\", 21, \"B.E In Physics\", 600000)\n",
    "designer1.intro(\"Designer\")\n",
    "print(designer1.name)\n",
    "\n",
    "class Developer(Employee):\n",
    "    def __init__(self, name: str, age: int, education: str, salary: int) -> None:\n",
    "        super().__init__(name, age, education, salary)\n",
    "    def intro(self,job_title: str):\n",
    "        print(f\"Employee name is {self.name} with age {self.age} and education {self.education} and title {job_title}\")\n",
    "\n",
    "developer: Developer = Developer(\"Hijabie\", 21, \"B.E In Physics\", 700000)\n",
    "developer.intro(\"Generative A.I Developer\")\n",
    "print(f\"Developer name is {developer.name}\")"
   ]
  },
  {
   "cell_type": "code",
   "execution_count": 42,
   "metadata": {},
   "outputs": [
    {
     "name": "stdout",
     "output_type": "stream",
     "text": [
      "Mother name is Naheed Israr and speaks Hijabie is good girl\n"
     ]
    }
   ],
   "source": [
    "class Mother():\n",
    "    def __init__(self, m_name: str) -> None:\n",
    "        self.name: str = m_name\n",
    "        self.eye_color: str = \"Brown\"\n",
    "    def speak(self, words: str):\n",
    "        print(f\"Mother name is {self.name} and speaks {words}\")\n",
    "\n",
    "\n",
    "class Father():\n",
    "    def __init__(self, name: str) -> None:\n",
    "        self.name: str = name\n",
    "        self.height: float = 5.5\n",
    "    def speak(self, words: str):\n",
    "        print(f\"Father name is {self.name} and speaks {words}\")\n",
    "\n",
    "\n",
    "class Child(Mother,Father):\n",
    "    def __init__(self, mother_name: str, father_name: str, child_name: str) -> None:\n",
    "        Father.__init__(self,father_name)\n",
    "        Mother.__init__(self,mother_name)\n",
    "        self.child_name: str = child_name\n",
    "\n",
    "child1: Child = Child(\"Naheed Israr\", \"M. Israr\", \"Muhammad Ahsaan Abbasi\")\n",
    "child1.speak(\"Hijabie is good girl\")"
   ]
  },
  {
   "cell_type": "markdown",
   "metadata": {},
   "source": [
    "# Function OverLoad "
   ]
  },
  {
   "cell_type": "code",
   "execution_count": 1,
   "metadata": {},
   "outputs": [
    {
     "name": "stdout",
     "output_type": "stream",
     "text": [
      "11\n",
      "30.0\n",
      "HijabieAbbasi\n"
     ]
    }
   ],
   "source": [
    "from typing import overload, Union\n",
    "\n",
    "@overload\n",
    "def add(a: int, b: int) -> int:\n",
    "    ...\n",
    "\n",
    "@overload\n",
    "def add(a: float, b: float) -> float:\n",
    "    ...\n",
    "\n",
    "@overload\n",
    "def add(a: str, b: str) -> str:\n",
    "    ...\n",
    "\n",
    "def add(a: Union[int, float, str], b: Union[int, float, str]) -> Union[int, float, str]:\n",
    "    if isinstance(a, int) and isinstance(b, int):\n",
    "        return a + b\n",
    "    elif isinstance(a, float) and isinstance(b, float):\n",
    "        return a * b\n",
    "    elif isinstance(a, str) and isinstance(b, str):\n",
    "        return a + b\n",
    "    else:\n",
    "        raise TypeError(\"Invalid type\")\n",
    "\n",
    "print(add(5, 6))\n",
    "print(add(5.0, 6.0))\n",
    "print(add(\"Hijabie\", \"Abbasi\"))\n"
   ]
  },
  {
   "cell_type": "markdown",
   "metadata": {},
   "source": [
    "# Method Overload"
   ]
  },
  {
   "cell_type": "code",
   "execution_count": 2,
   "metadata": {},
   "outputs": [
    {
     "name": "stdout",
     "output_type": "stream",
     "text": [
      "11\n",
      "HijabieAbbasi\n",
      "30.0\n"
     ]
    }
   ],
   "source": [
    "class Student():\n",
    "    def __init__(self, name: str, age: int, education: str, salary: int) -> None:\n",
    "        self.name: str = name\n",
    "        self.age: int = age\n",
    "        self.education: str = education\n",
    "        self.salary: int = salary\n",
    "    @overload\n",
    "    def calculate(self, a: int, b: int) -> int:\n",
    "        ...\n",
    "    @overload\n",
    "    def calculate(self, a: float, b: float) -> float:\n",
    "        ...\n",
    "    @overload\n",
    "    def calculate(self, a: str, b: str) -> str:\n",
    "        ...\n",
    "    def calculate(self, a: Union[int, float, str], b: Union[int, float, str]) -> Union[int, float, str]:\n",
    "        if isinstance(a, int) and isinstance(b, int):\n",
    "            return a + b\n",
    "        elif isinstance(a, float) and isinstance(b, float):\n",
    "            return a * b\n",
    "        elif isinstance(a, str) and isinstance(b, str):\n",
    "            return a + b\n",
    "        else:\n",
    "            raise TypeError(\"Invalid type\")\n",
    "\n",
    "student1: Student = Student(\"Hijabie\", 21, \"B.E In Physics\", 600000)\n",
    "result1 = student1.calculate(5,6)\n",
    "result2 = student1.calculate(\"Hijabie\", \"Abbasi\")\n",
    "result3 = student1.calculate(5.0,6.0)\n",
    "print(result1)\n",
    "print(result2)\n",
    "print(result3)"
   ]
  },
  {
   "cell_type": "code",
   "execution_count": 4,
   "metadata": {},
   "outputs": [
    {
     "name": "stdout",
     "output_type": "stream",
     "text": [
      "9\n",
      "24.75\n",
      "HIabieAhsaan\n"
     ]
    }
   ],
   "source": [
    "\n",
    "@overload\n",
    "def add(a:int, b:int) -> int:\n",
    "    ...\n",
    "\n",
    "@overload\n",
    "def add(a:float, b:float) -> float:\n",
    "    ...\n",
    "\n",
    "@overload\n",
    "def add(a:str, b:str) -> str:\n",
    "    ...\n",
    "\n",
    "def add(a: Union[int, float, str], b: Union[int, float, str]) -> Union[int, float, str]:\n",
    "    if isinstance(a, int) and isinstance(b, int):\n",
    "        return a + b\n",
    "    elif isinstance(a, float) and isinstance(b, float):\n",
    "        return a * b\n",
    "    elif isinstance(a, str) and isinstance(b, str):\n",
    "        return a + b\n",
    "    else:\n",
    "        raise TypeError(\"Invalid Type Arrguments!\")\n",
    "\n",
    "result1 = add(5,4)\n",
    "result2 = add(5.5,4.5)\n",
    "result3 = add(\"HIabie\",\"Ahsaan\")\n",
    "print(result1)\n",
    "print(result2)\n",
    "print(result3)"
   ]
  },
  {
   "cell_type": "markdown",
   "metadata": {},
   "source": [
    "# Over-Ridding "
   ]
  },
  {
   "cell_type": "code",
   "execution_count": 12,
   "metadata": {},
   "outputs": [
    {
     "name": "stdout",
     "output_type": "stream",
     "text": [
      "Animal is eating Grass\n",
      "Bird is eating Bread\n",
      "Animal is eating Grass\n",
      "<class '__main__.Animal'>\n",
      "Bird is eating Grass\n",
      "<class '__main__.Bird'>\n"
     ]
    }
   ],
   "source": [
    "class Animal():\n",
    "    def eating(self,food:str)->None:\n",
    "        print(f\"Animal is eating {food}\")\n",
    "\n",
    "class Bird(Animal):\n",
    "    def eating(self, food: str) -> None:\n",
    "        print(f\"Bird is eating {food}\")\n",
    "\n",
    "animal: Animal = Animal()\n",
    "animal.eating(\"Grass\")\n",
    "\n",
    "bird: Bird = Bird()\n",
    "bird.eating(\"Bread\")\n",
    "\n",
    "animal: Bird = Animal()\n",
    "animal.eating(\"Grass\")\n",
    "print(type(animal))\n",
    "\n",
    "bird : Animal = Bird()\n",
    "bird.eating(\"Grass\")\n",
    "print(type(bird))"
   ]
  },
  {
   "cell_type": "markdown",
   "metadata": {},
   "source": [
    "## Static Variables & Methods"
   ]
  },
  {
   "cell_type": "code",
   "execution_count": 16,
   "metadata": {},
   "outputs": [
    {
     "name": "stdout",
     "output_type": "stream",
     "text": [
      "17\n",
      "30\n"
     ]
    },
    {
     "data": {
      "text/plain": [
       "'P.I.A.I.C'"
      ]
     },
     "execution_count": 16,
     "metadata": {},
     "output_type": "execute_result"
    }
   ],
   "source": [
    "class MathOperations():\n",
    "    counter: int = 0\n",
    "    org: str = \"P.I.A.I.C\"\n",
    "    @staticmethod\n",
    "    def add(a: int, b: int) -> int:\n",
    "        return a + b\n",
    "    @staticmethod\n",
    "    def multiply(a: int, b: int) -> int:\n",
    "        return a * b\n",
    "\n",
    "res = MathOperations.add(8,9)\n",
    "print(res)\n",
    "print(MathOperations.multiply(5,6))\n",
    "MathOperations.org\n",
    "\n"
   ]
  },
  {
   "cell_type": "code",
   "execution_count": 3,
   "metadata": {},
   "outputs": [
    {
     "name": "stdout",
     "output_type": "stream",
     "text": [
      "not really callable\n"
     ]
    }
   ],
   "source": [
    "class NonCallable:\n",
    "    def __call__(self):\n",
    "        print(\"not really callable\")\n",
    "\n",
    "\n",
    "instance = NonCallable()\n",
    "callable(instance)\n",
    "True\n",
    "\n",
    "instance()"
   ]
  },
  {
   "cell_type": "markdown",
   "metadata": {},
   "source": [
    "# Callable Function"
   ]
  },
  {
   "cell_type": "code",
   "execution_count": 5,
   "metadata": {},
   "outputs": [
    {
     "name": "stdout",
     "output_type": "stream",
     "text": [
      "Muhammad Ahsaan Abbasi is my name and my age is 20\n",
      "[10]\n",
      "10.0\n",
      "[10, 12]\n",
      "11.0\n",
      "[10, 12, 14]\n",
      "12.0\n"
     ]
    }
   ],
   "source": [
    "from typing import Any\n",
    "\n",
    "\n",
    "class Human():\n",
    "    def __init__(self):\n",
    "        self.name: str = \"Muhammad\"\n",
    "    \n",
    "    def __call__(self, last_name: str, age: int):\n",
    "        return f\"{self.name} {last_name} is my name and my age is {age}\"\n",
    "\n",
    "human1 = Human()\n",
    "print(human1(\"Ahsaan Abbasi\",20))\n",
    "\n",
    "class CustomAverage():\n",
    "    def __init__(self) -> None:\n",
    "        self.data: list[int] = []\n",
    "    \n",
    "    def __call__(self, new_value: int):\n",
    "        self.data.append(new_value)\n",
    "        print(self.data)\n",
    "        return sum(self.data) / len(self.data)\n",
    "\n",
    "stream_average = CustomAverage()\n",
    "print(stream_average(10))\n",
    "print(stream_average(12))\n",
    "print(stream_average(14))"
   ]
  },
  {
   "cell_type": "markdown",
   "metadata": {},
   "source": [
    "# File Module"
   ]
  },
  {
   "cell_type": "code",
   "execution_count": 6,
   "metadata": {},
   "outputs": [
    {
     "name": "stdout",
     "output_type": "stream",
     "text": [
      "Execution time 0.0088 ms\n"
     ]
    },
    {
     "data": {
      "text/plain": [
       "[0, 1, 4, 9, 16, 25, 36, 49, 64, 81]"
      ]
     },
     "execution_count": 6,
     "metadata": {},
     "output_type": "execute_result"
    }
   ],
   "source": [
    "from piaic.genai import ExecutionTimer\n",
    "\n",
    "@ExecutionTimer\n",
    "def square(numbers: list[int]) -> list[int]:\n",
    "    return [number**2 for number in numbers]\n",
    "\n",
    "square(list(range(10)))"
   ]
  },
  {
   "cell_type": "markdown",
   "metadata": {},
   "source": [
    "# Encapsulation"
   ]
  },
  {
   "cell_type": "code",
   "execution_count": 17,
   "metadata": {},
   "outputs": [
    {
     "name": "stdout",
     "output_type": "stream",
     "text": [
      "Login Successfully\n",
      "Valid User\n",
      "Student Login User Name: abbasi and Password: 1234\n",
      "Student Login User Name: abbasi and Password: 5678\n"
     ]
    }
   ],
   "source": [
    "class StudentLogin():\n",
    "    def __init__(self) -> None:\n",
    "        self.__username: str = \"abbasi\"\n",
    "        self.__password: str = \"1234\"\n",
    "    def _dbconnectivity(self, user: str, password: str):\n",
    "        if user == self.__username and password == self.__password:\n",
    "            print(\"Login Successfully\")\n",
    "            return \"Valid User\"\n",
    "        else:\n",
    "            return \"Invalid User\"\n",
    "    def update_password(self, new_password: str):\n",
    "        self.__password = new_password\n",
    "    def login(self, user: str, password: str):\n",
    "        message: str = self._dbconnectivity(user, password)\n",
    "        print(message)\n",
    "    def display_info(self) -> str:\n",
    "        return f\"Student Login User Name: {self.__username} and Password: {self.__password}\"\n",
    "\n",
    "abbasi: StudentLogin = StudentLogin()\n",
    "abbasi.login(\"abbasi\", \"1234\")\n",
    "print(abbasi.display_info())\n",
    "abbasi.update_password(\"5678\")\n",
    "print(abbasi.display_info())"
   ]
  },
  {
   "cell_type": "markdown",
   "metadata": {},
   "source": [
    "# Abstraction"
   ]
  },
  {
   "cell_type": "code",
   "execution_count": 23,
   "metadata": {},
   "outputs": [
    {
     "name": "stdout",
     "output_type": "stream",
     "text": [
      "True\n",
      "Cat is eating Fish\n"
     ]
    }
   ],
   "source": [
    "from abc import ABC, abstractmethod\n",
    "class Animal(ABC):\n",
    "    @abstractmethod\n",
    "    def __init__(self) -> None:\n",
    "        super().__init__()\n",
    "        self.living: bool = True\n",
    "    @abstractmethod\n",
    "    def eating(self, food: str) -> None:\n",
    "        ...\n",
    "\n",
    "class Cat(Animal):\n",
    "    def __init__(self) -> None:\n",
    "        super().__init__()\n",
    "    def eating(self, food: str) -> None:\n",
    "        return f\"Cat is eating {food}\"\n",
    "\n",
    "cat1: Cat = Cat()\n",
    "print(cat1.living)\n",
    "print(cat1.eating(\"Fish\"))"
   ]
  },
  {
   "cell_type": "markdown",
   "metadata": {},
   "source": [
    "# Duck Typing"
   ]
  },
  {
   "cell_type": "code",
   "execution_count": 26,
   "metadata": {},
   "outputs": [
    {
     "name": "stdout",
     "output_type": "stream",
     "text": [
      "Duck is quacking\n",
      "Person is quacking\n"
     ]
    }
   ],
   "source": [
    "class Duck():\n",
    "    def quack(self)->str:\n",
    "        return \"Duck is quacking\"\n",
    "\n",
    "class Person:\n",
    "    def quack(self)->str:\n",
    "        return \"Person is quacking\"\n",
    "\n",
    "def in_the_forest(duck):\n",
    "    print(duck.quack())\n",
    "\n",
    "donald: Duck = Duck()\n",
    "hijabie: Person = Person()\n",
    "in_the_forest(donald)\n",
    "in_the_forest(hijabie)"
   ]
  },
  {
   "cell_type": "code",
   "execution_count": null,
   "metadata": {},
   "outputs": [],
   "source": []
  }
 ],
 "metadata": {
  "kernelspec": {
   "display_name": "py12",
   "language": "python",
   "name": "python3"
  },
  "language_info": {
   "codemirror_mode": {
    "name": "ipython",
    "version": 3
   },
   "file_extension": ".py",
   "mimetype": "text/x-python",
   "name": "python",
   "nbconvert_exporter": "python",
   "pygments_lexer": "ipython3",
   "version": "3.12.0"
  }
 },
 "nbformat": 4,
 "nbformat_minor": 2
}
