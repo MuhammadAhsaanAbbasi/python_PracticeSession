{
 "cells": [
  {
   "cell_type": "code",
   "execution_count": 5,
   "metadata": {},
   "outputs": [
    {
     "name": "stdout",
     "output_type": "stream",
     "text": [
      "Student: Hijabie with id: 5\n",
      "Hijabie\n",
      "5\n"
     ]
    }
   ],
   "source": [
    "class Teacher():\n",
    "    def __init__(self,title: str, _id:int) -> None:\n",
    "        self.name: str = title\n",
    "        self._id: int = _id\n",
    "    \n",
    "    def _student(self):\n",
    "        print(f\"Student: {self.name} with id: {self._id}\")\n",
    "\n",
    "teacher1: Teacher = Teacher(\"Hijabie\",5)\n",
    "teacher1._student()\n",
    "print(teacher1.name)"
   ]
  },
  {
   "cell_type": "code",
   "execution_count": 9,
   "metadata": {},
   "outputs": [
    {
     "name": "stdout",
     "output_type": "stream",
     "text": [
      "Parent has Black hair color and Brown eye color and 5.5 height\n",
      "Black\n",
      "Parent has Black hair color and Brown eye color and 5.5 height\n",
      "Black\n"
     ]
    }
   ],
   "source": [
    "class Parent():\n",
    "    def __init__(self) -> None:\n",
    "        self.hair_color: str = \"Black\"\n",
    "        self.eye_color: str = \"Brown\"\n",
    "        self.height: float = 5.5\n",
    "    def intro(self):\n",
    "        print(f\"Parent has {self.hair_color} hair color and {self.eye_color} eye color and {self.height} height\")\n",
    "\n",
    "class Child(Parent):\n",
    "    pass\n",
    "\n",
    "obj1: Parent = Parent()\n",
    "obj1.intro()\n",
    "print(obj1.hair_color)\n",
    "\n",
    "obj2: Child = Child()\n",
    "obj2.intro()\n",
    "print(obj2.hair_color)"
   ]
  },
  {
   "cell_type": "code",
   "execution_count": 14,
   "metadata": {},
   "outputs": [
    {
     "name": "stdout",
     "output_type": "stream",
     "text": [
      "Employee name is Hijabie with age 21 and education B.E In Physics and title Designer\n",
      "Hijabie\n",
      "Employee name is Hijabie with age 21 and education B.E In Physics and title Generative A.I Developer\n",
      "Developer name is Hijabie\n"
     ]
    }
   ],
   "source": [
    "class Employee():\n",
    "    def __init__(self, name: str, age: int, education: str, salary: int) -> None:\n",
    "        self.name: str = name\n",
    "        self.age: int = age\n",
    "        self.education: str = education\n",
    "        self.salary: int = salary\n",
    "    def intro(self):\n",
    "        print(f\"Employee name is {self.name} with age {self.age} and education {self.education}\")\n",
    "\n",
    "class Designer(Employee):\n",
    "    def __init__(self, name: str, age: int, education: str, salary: int) -> None:\n",
    "        super().__init__(name, age, education, salary)\n",
    "        self.name: str = name\n",
    "        self.age: int = age\n",
    "        self.education: str = education\n",
    "        self.salary: int = salary\n",
    "    def intro(self,job_title: str):\n",
    "        print(f\"Employee name is {self.name} with age {self.age} and education {self.education} and title {job_title}\")\n",
    "\n",
    "designer1: Designer = Designer(\"Hijabie\", 21, \"B.E In Physics\", 600000)\n",
    "designer1.intro(\"Designer\")\n",
    "print(designer1.name)\n",
    "\n",
    "class Developer(Employee):\n",
    "    def __init__(self, name: str, age: int, education: str, salary: int) -> None:\n",
    "        super().__init__(name, age, education, salary)\n",
    "    def intro(self,job_title: str):\n",
    "        print(f\"Employee name is {self.name} with age {self.age} and education {self.education} and title {job_title}\")\n",
    "\n",
    "developer: Developer = Developer(\"Hijabie\", 21, \"B.E In Physics\", 700000)\n",
    "developer.intro(\"Generative A.I Developer\")\n",
    "print(f\"Developer name is {developer.name}\")"
   ]
  },
  {
   "cell_type": "code",
   "execution_count": 42,
   "metadata": {},
   "outputs": [
    {
     "name": "stdout",
     "output_type": "stream",
     "text": [
      "Mother name is Naheed Israr and speaks Hijabie is good girl\n"
     ]
    }
   ],
   "source": [
    "class Mother():\n",
    "    def __init__(self, m_name: str) -> None:\n",
    "        self.name: str = m_name\n",
    "        self.eye_color: str = \"Brown\"\n",
    "    def speak(self, words: str):\n",
    "        print(f\"Mother name is {self.name} and speaks {words}\")\n",
    "\n",
    "\n",
    "class Father():\n",
    "    def __init__(self, name: str) -> None:\n",
    "        self.name: str = name\n",
    "        self.height: float = 5.5\n",
    "    def speak(self, words: str):\n",
    "        print(f\"Father name is {self.name} and speaks {words}\")\n",
    "\n",
    "\n",
    "class Child(Mother,Father):\n",
    "    def __init__(self, mother_name: str, father_name: str, child_name: str) -> None:\n",
    "        Father.__init__(self,father_name)\n",
    "        Mother.__init__(self,mother_name)\n",
    "        self.child_name: str = child_name\n",
    "\n",
    "child1: Child = Child(\"Naheed Israr\", \"M. Israr\", \"Muhammad Ahsaan Abbasi\")\n",
    "child1.speak(\"Hijabie is good girl\")"
   ]
  },
  {
   "cell_type": "markdown",
   "metadata": {},
   "source": [
    "# Function OverLoad "
   ]
  },
  {
   "cell_type": "code",
   "execution_count": 1,
   "metadata": {},
   "outputs": [
    {
     "name": "stdout",
     "output_type": "stream",
     "text": [
      "11\n",
      "30.0\n",
      "HijabieAbbasi\n"
     ]
    }
   ],
   "source": [
    "from typing import overload, Union\n",
    "\n",
    "@overload\n",
    "def add(a: int, b: int) -> int:\n",
    "    ...\n",
    "\n",
    "@overload\n",
    "def add(a: float, b: float) -> float:\n",
    "    ...\n",
    "\n",
    "@overload\n",
    "def add(a: str, b: str) -> str:\n",
    "    ...\n",
    "\n",
    "def add(a: Union[int, float, str], b: Union[int, float, str]) -> Union[int, float, str]:\n",
    "    if isinstance(a, int) and isinstance(b, int):\n",
    "        return a + b\n",
    "    elif isinstance(a, float) and isinstance(b, float):\n",
    "        return a * b\n",
    "    elif isinstance(a, str) and isinstance(b, str):\n",
    "        return a + b\n",
    "    else:\n",
    "        raise TypeError(\"Invalid type\")\n",
    "\n",
    "print(add(5, 6))\n",
    "print(add(5.0, 6.0))\n",
    "print(add(\"Hijabie\", \"Abbasi\"))\n"
   ]
  },
  {
   "cell_type": "markdown",
   "metadata": {},
   "source": [
    "# Method Overload"
   ]
  },
  {
   "cell_type": "code",
   "execution_count": 2,
   "metadata": {},
   "outputs": [
    {
     "name": "stdout",
     "output_type": "stream",
     "text": [
      "11\n",
      "HijabieAbbasi\n",
      "30.0\n"
     ]
    }
   ],
   "source": [
    "class Student():\n",
    "    def __init__(self, name: str, age: int, education: str, salary: int) -> None:\n",
    "        self.name: str = name\n",
    "        self.age: int = age\n",
    "        self.education: str = education\n",
    "        self.salary: int = salary\n",
    "    @overload\n",
    "    def calculate(self, a: int, b: int) -> int:\n",
    "        ...\n",
    "    @overload\n",
    "    def calculate(self, a: float, b: float) -> float:\n",
    "        ...\n",
    "    @overload\n",
    "    def calculate(self, a: str, b: str) -> str:\n",
    "        ...\n",
    "    def calculate(self, a: Union[int, float, str], b: Union[int, float, str]) -> Union[int, float, str]:\n",
    "        if isinstance(a, int) and isinstance(b, int):\n",
    "            return a + b\n",
    "        elif isinstance(a, float) and isinstance(b, float):\n",
    "            return a * b\n",
    "        elif isinstance(a, str) and isinstance(b, str):\n",
    "            return a + b\n",
    "        else:\n",
    "            raise TypeError(\"Invalid type\")\n",
    "\n",
    "student1: Student = Student(\"Hijabie\", 21, \"B.E In Physics\", 600000)\n",
    "result1 = student1.calculate(5,6)\n",
    "result2 = student1.calculate(\"Hijabie\", \"Abbasi\")\n",
    "result3 = student1.calculate(5.0,6.0)\n",
    "print(result1)\n",
    "print(result2)\n",
    "print(result3)"
   ]
  },
  {
   "cell_type": "code",
   "execution_count": 4,
   "metadata": {},
   "outputs": [
    {
     "name": "stdout",
     "output_type": "stream",
     "text": [
      "9\n",
      "24.75\n",
      "HIabieAhsaan\n"
     ]
    }
   ],
   "source": [
    "\n",
    "@overload\n",
    "def add(a:int, b:int) -> int:\n",
    "    ...\n",
    "\n",
    "@overload\n",
    "def add(a:float, b:float) -> float:\n",
    "    ...\n",
    "\n",
    "@overload\n",
    "def add(a:str, b:str) -> str:\n",
    "    ...\n",
    "\n",
    "def add(a: Union[int, float, str], b: Union[int, float, str]) -> Union[int, float, str]:\n",
    "    if isinstance(a, int) and isinstance(b, int):\n",
    "        return a + b\n",
    "    elif isinstance(a, float) and isinstance(b, float):\n",
    "        return a * b\n",
    "    elif isinstance(a, str) and isinstance(b, str):\n",
    "        return a + b\n",
    "    else:\n",
    "        raise TypeError(\"Invalid Type Arrguments!\")\n",
    "\n",
    "result1 = add(5,4)\n",
    "result2 = add(5.5,4.5)\n",
    "result3 = add(\"HIabie\",\"Ahsaan\")\n",
    "print(result1)\n",
    "print(result2)\n",
    "print(result3)"
   ]
  },
  {
   "cell_type": "markdown",
   "metadata": {},
   "source": [
    "# Over-Ridding "
   ]
  },
  {
   "cell_type": "code",
   "execution_count": 12,
   "metadata": {},
   "outputs": [
    {
     "name": "stdout",
     "output_type": "stream",
     "text": [
      "Animal is eating Grass\n",
      "Bird is eating Bread\n",
      "Animal is eating Grass\n",
      "<class '__main__.Animal'>\n",
      "Bird is eating Grass\n",
      "<class '__main__.Bird'>\n"
     ]
    }
   ],
   "source": [
    "class Animal():\n",
    "    def eating(self,food:str)->None:\n",
    "        print(f\"Animal is eating {food}\")\n",
    "\n",
    "class Bird(Animal):\n",
    "    def eating(self, food: str) -> None:\n",
    "        print(f\"Bird is eating {food}\")\n",
    "\n",
    "animal: Animal = Animal()\n",
    "animal.eating(\"Grass\")\n",
    "\n",
    "bird: Bird = Bird()\n",
    "bird.eating(\"Bread\")\n",
    "\n",
    "animal: Bird = Animal()\n",
    "animal.eating(\"Grass\")\n",
    "print(type(animal))\n",
    "\n",
    "bird : Animal = Bird()\n",
    "bird.eating(\"Grass\")\n",
    "print(type(bird))"
   ]
  },
  {
   "cell_type": "markdown",
   "metadata": {},
   "source": [
    "## Static Variables & Methods"
   ]
  },
  {
   "cell_type": "code",
   "execution_count": 16,
   "metadata": {},
   "outputs": [
    {
     "name": "stdout",
     "output_type": "stream",
     "text": [
      "17\n",
      "30\n"
     ]
    },
    {
     "data": {
      "text/plain": [
       "'P.I.A.I.C'"
      ]
     },
     "execution_count": 16,
     "metadata": {},
     "output_type": "execute_result"
    }
   ],
   "source": [
    "class MathOperations():\n",
    "    counter: int = 0\n",
    "    org: str = \"P.I.A.I.C\"\n",
    "    @staticmethod\n",
    "    def add(a: int, b: int) -> int:\n",
    "        return a + b\n",
    "    @staticmethod\n",
    "    def multiply(a: int, b: int) -> int:\n",
    "        return a * b\n",
    "\n",
    "res = MathOperations.add(8,9)\n",
    "print(res)\n",
    "print(MathOperations.multiply(5,6))\n",
    "MathOperations.org\n",
    "\n"
   ]
  }
 ],
 "metadata": {
  "kernelspec": {
   "display_name": "py12",
   "language": "python",
   "name": "python3"
  },
  "language_info": {
   "codemirror_mode": {
    "name": "ipython",
    "version": 3
   },
   "file_extension": ".py",
   "mimetype": "text/x-python",
   "name": "python",
   "nbconvert_exporter": "python",
   "pygments_lexer": "ipython3",
   "version": "3.12.0"
  }
 },
 "nbformat": 4,
 "nbformat_minor": 2
}
