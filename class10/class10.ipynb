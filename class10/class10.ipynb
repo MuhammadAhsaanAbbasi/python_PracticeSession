{
 "cells": [
  {
   "cell_type": "code",
   "execution_count": 5,
   "metadata": {},
   "outputs": [
    {
     "name": "stdout",
     "output_type": "stream",
     "text": [
      "Student: Hijabie with id: 5\n",
      "Hijabie\n",
      "5\n"
     ]
    }
   ],
   "source": [
    "class Teacher():\n",
    "    def __init__(self,title: str, _id:int) -> None:\n",
    "        self.name: str = title\n",
    "        self._id: int = _id\n",
    "    \n",
    "    def _student(self):\n",
    "        print(f\"Student: {self.name} with id: {self._id}\")\n",
    "\n",
    "teacher1: Teacher = Teacher(\"Hijabie\",5)\n",
    "teacher1._student()\n",
    "print(teacher1.name)"
   ]
  },
  {
   "cell_type": "code",
   "execution_count": 9,
   "metadata": {},
   "outputs": [
    {
     "name": "stdout",
     "output_type": "stream",
     "text": [
      "Parent has Black hair color and Brown eye color and 5.5 height\n",
      "Black\n",
      "Parent has Black hair color and Brown eye color and 5.5 height\n",
      "Black\n"
     ]
    }
   ],
   "source": [
    "class Parent():\n",
    "    def __init__(self) -> None:\n",
    "        self.hair_color: str = \"Black\"\n",
    "        self.eye_color: str = \"Brown\"\n",
    "        self.height: float = 5.5\n",
    "    def intro(self):\n",
    "        print(f\"Parent has {self.hair_color} hair color and {self.eye_color} eye color and {self.height} height\")\n",
    "\n",
    "class Child(Parent):\n",
    "    pass\n",
    "\n",
    "obj1: Parent = Parent()\n",
    "obj1.intro()\n",
    "print(obj1.hair_color)\n",
    "\n",
    "obj2: Child = Child()\n",
    "obj2.intro()\n",
    "print(obj2.hair_color)"
   ]
  },
  {
   "cell_type": "code",
   "execution_count": 30,
   "metadata": {},
   "outputs": [
    {
     "name": "stdout",
     "output_type": "stream",
     "text": [
      "Restaurant Name: HRK Cuisine and Cuisine Type: Pakistani, Indian\n",
      "HRK Cuisine is open\n",
      "Restaurant Name: HRK Cuisine and Cuisine Type: Pakistani, Indian\n",
      "Restaurant Name: Abbasi Cuisine and Cuisine Type: Pakistani, Indian, Chinese\n",
      "Restaurant Name: Al Nassar and Cuisine Type: Pakistani, Indian, Chinese, Arabian\n"
     ]
    }
   ],
   "source": [
    "# 9-1. Restaurant: Make a class called Restaurant. The __init__() method for\n",
    "# Restaurant should store two attributes: a restaurant_name and a cuisine_type.\n",
    "# Make a method called describe_restaurant() that prints these two pieces of\n",
    "# information, and a method called open_restaurant() that prints a message indicating that the restaurant is open.\n",
    "# Make an instance called restaurant from your class. Print the two attributes individually, and then call both methods.\n",
    "class Restaurant():\n",
    "    def __init__(self,restaurant_name,cuisine_type) -> None:\n",
    "        self.restaurant_name: str = restaurant_name\n",
    "        self.cuisine_type: str = cuisine_type\n",
    "    def describe_restaurant(self):\n",
    "        print(f\"Restaurant Name: {self.restaurant_name} and Cuisine Type: {self.cuisine_type}\")\n",
    "    def open_restaurant(self):\n",
    "        print(f\"{self.restaurant_name} is open\")\n",
    "\n",
    "restaurant: Restaurant = Restaurant(\"HRK Cuisine\", \"Pakistani, Indian\")\n",
    "restaurant.describe_restaurant()\n",
    "restaurant.open_restaurant()\n",
    "\n",
    "# 9-2. Three Restaurants: Start with your class from Exercise 9-1. Create three\n",
    "# different instances from the class, and call describe_restaurant() for each\n",
    "# instance.\n",
    "restaurant1: Restaurant = Restaurant(\"HRK Cuisine\", \"Pakistani, Indian\")\n",
    "restaurant1.describe_restaurant()\n",
    "restaurant2: Restaurant = Restaurant(\"Abbasi Cuisine\", \"Pakistani, Indian, Chinese\")\n",
    "restaurant2.describe_restaurant()\n",
    "restaurant3: Restaurant = Restaurant(\"Al Nassar\", \"Pakistani, Indian, Chinese, Arabian\")\n",
    "restaurant3.describe_restaurant()"
   ]
  },
  {
   "cell_type": "code",
   "execution_count": 32,
   "metadata": {},
   "outputs": [
    {
     "name": "stdout",
     "output_type": "stream",
     "text": [
      "First Name: HIjabie, Last Name: Rabail Khan, Age: 21\n",
      "Hello HIjabie Rabail Khan\n",
      "First Name: Fajar, Last Name: Rabail Khan, Age: 24\n",
      "Hello Fajar Rabail Khan\n",
      "First Name: Rawa, Last Name: Rabail Khan, Age: 27\n",
      "Hello Rawa Rabail Khan\n"
     ]
    }
   ],
   "source": [
    "# 9-3. Users: Make a class called User. Create two attributes called first_name\n",
    "# and last_name, and then create several other attributes that are typically stored\n",
    "# in a user profile. Make a method called describe_user() that prints a summary\n",
    "# of the user’s information. Make another method called greet_user() that prints\n",
    "# a personalized greeting to the user.\n",
    "# Create several instances representing different users, and call both methods\n",
    "# for each user.\n",
    "class User():\n",
    "    def __init__(self,first_name: str, last_name: str, age: int) -> None:\n",
    "        self.first_name: str = first_name\n",
    "        self.last_name: str = last_name\n",
    "        self.age: int = age\n",
    "    def describe_user(self):\n",
    "        print(f\"First Name: {self.first_name}, Last Name: {self.last_name}, Age: {self.age}\")\n",
    "    def greet_user(self):\n",
    "        print(f\"Hello {self.first_name} {self.last_name}\")\n",
    "\n",
    "user1: User = User(\"HIjabie\", \"Rabail Khan\", 21)\n",
    "user1.describe_user()\n",
    "user1.greet_user()\n",
    "user2: User = User(\"Fajar\", \"Rabail Khan\", 24)\n",
    "user2.describe_user()\n",
    "user2.greet_user()\n",
    "user3: User = User(\"Rawa\", \"Rabail Khan\", 27)\n",
    "user3.describe_user()\n",
    "user3.greet_user()"
   ]
  },
  {
   "cell_type": "code",
   "execution_count": 39,
   "metadata": {},
   "outputs": [
    {
     "name": "stdout",
     "output_type": "stream",
     "text": [
      "0\n",
      "10\n",
      "15\n",
      "20\n",
      "Restaurant Name: HRK Cuisine and Cuisine Type: Pakistani, Indian\n",
      "HRK Cuisine is open\n"
     ]
    }
   ],
   "source": [
    "# 9-4. Number Served: Start with your program from Exercise 9-1 (page 166).\n",
    "# Add an attribute called number_served with a default value of 0. Create an\n",
    "# instance called restaurant from this class. Print the number of customers the\n",
    "# restaurant has served, and then change this value and print it again.\n",
    "# Add a method called set_number_served() that lets you set the number\n",
    "# of customers that have been served. Call this method with a new number and\n",
    "# print the value again.\n",
    "# Add a method called increment_number_served() that lets you increment\n",
    "# the number of customers who’ve been served. Call this method with any number you like that could represent how many customers were served in, say, a\n",
    "# day of business.\n",
    "class Restaurant():\n",
    "    def __init__(self,restaurant_name,cuisine_type) -> None:\n",
    "        self.restaurant_name: str = restaurant_name\n",
    "        self.cuisine_type: str = cuisine_type\n",
    "        self.number_served: int = 0\n",
    "    def set_number_served(self, number: int):\n",
    "        self.number_served = number\n",
    "    def increment_number_served(self, number: int):\n",
    "        self.number_served += number\n",
    "    def describe_restaurant(self):\n",
    "        print(f\"Restaurant Name: {self.restaurant_name} and Cuisine Type: {self.cuisine_type}\")\n",
    "    def open_restaurant(self):\n",
    "        print(f\"{self.restaurant_name} is open\")\n",
    "\n",
    "restaurant: Restaurant = Restaurant(\"HRK Cuisine\", \"Pakistani, Indian\")\n",
    "print(restaurant.number_served)\n",
    "restaurant.number_served = 10\n",
    "print(restaurant.number_served)\n",
    "restaurant.set_number_served(15)\n",
    "print(restaurant.number_served)\n",
    "restaurant.increment_number_served(5)\n",
    "print(restaurant.number_served)\n",
    "restaurant.describe_restaurant()\n",
    "restaurant.open_restaurant()\n"
   ]
  },
  {
   "cell_type": "code",
   "execution_count": 44,
   "metadata": {},
   "outputs": [
    {
     "name": "stdout",
     "output_type": "stream",
     "text": [
      "0\n",
      "2\n",
      "3\n",
      "0\n",
      "First Name: HIjabie, Last Name: Rabail Khan, Age: 21\n",
      "Hello HIjabie Rabail Khan\n"
     ]
    }
   ],
   "source": [
    "# 9-5. Login Attempts: Add an attribute called login_attempts to your User\n",
    "# class from Exercise 9-3 (page 166). Write a method called increment_\n",
    "# login_attempts() that increments the value of login_attempts by 1. Write\n",
    "# another method called reset_login_attempts() that resets the value of login_\n",
    "# attempts to 0.\n",
    "# Make an instance of the User class and call increment_login_attempts()\n",
    "# several times. Print the value of login_attempts to make sure it was incremented\n",
    "# properly, and then call reset_login_attempts(). Print login_attempts again to\n",
    "# make sure it was reset to 0\n",
    "class User():\n",
    "    def __init__(self,first_name: str, last_name: str, age: int) -> None:\n",
    "        self.first_name: str = first_name\n",
    "        self.last_name: str = last_name\n",
    "        self.age: int = age\n",
    "        self.login_attempts: int = 0\n",
    "    def describe_user(self):\n",
    "        print(f\"First Name: {self.first_name}, Last Name: {self.last_name}, Age: {self.age}\")\n",
    "    def greet_user(self):\n",
    "        print(f\"Hello {self.first_name} {self.last_name}\")\n",
    "    def incremnet_login_attempts(self):\n",
    "        self.login_attempts += 1\n",
    "    def reset_login_attempts(self):\n",
    "        self.login_attempts = 0\n",
    "\n",
    "user1: User = User(\"HIjabie\", \"Rabail Khan\", 21)\n",
    "print(user1.login_attempts)\n",
    "user1.login_attempts = 2\n",
    "print(user1.login_attempts)\n",
    "user1.incremnet_login_attempts()\n",
    "print(user1.login_attempts)\n",
    "user1.reset_login_attempts()\n",
    "print(user1.login_attempts)\n",
    "user1.describe_user()\n",
    "user1.greet_user()"
   ]
  },
  {
   "cell_type": "markdown",
   "metadata": {},
   "source": [
    "# Inheritence"
   ]
  },
  {
   "cell_type": "code",
   "execution_count": 14,
   "metadata": {},
   "outputs": [
    {
     "name": "stdout",
     "output_type": "stream",
     "text": [
      "Employee name is Hijabie with age 21 and education B.E In Physics and title Designer\n",
      "Hijabie\n",
      "Employee name is Hijabie with age 21 and education B.E In Physics and title Generative A.I Developer\n",
      "Developer name is Hijabie\n"
     ]
    }
   ],
   "source": [
    "class Employee():\n",
    "    def __init__(self, name: str, age: int, education: str, salary: int) -> None:\n",
    "        self.name: str = name\n",
    "        self.age: int = age\n",
    "        self.education: str = education\n",
    "        self.salary: int = salary\n",
    "    def intro(self):\n",
    "        print(f\"Employee name is {self.name} with age {self.age} and education {self.education}\")\n",
    "\n",
    "class Designer(Employee):\n",
    "    def __init__(self, name: str, age: int, education: str, salary: int) -> None:\n",
    "        super().__init__(name, age, education, salary)\n",
    "        self.name: str = name\n",
    "        self.age: int = age\n",
    "        self.education: str = education\n",
    "        self.salary: int = salary\n",
    "    def intro(self,job_title: str):\n",
    "        print(f\"Employee name is {self.name} with age {self.age} and education {self.education} and title {job_title}\")\n",
    "\n",
    "designer1: Designer = Designer(\"Hijabie\", 21, \"B.E In Physics\", 600000)\n",
    "designer1.intro(\"Designer\")\n",
    "print(designer1.name)\n",
    "\n",
    "class Developer(Employee):\n",
    "    def __init__(self, name: str, age: int, education: str, salary: int) -> None:\n",
    "        super().__init__(name, age, education, salary)\n",
    "    def intro(self,job_title: str):\n",
    "        print(f\"Employee name is {self.name} with age {self.age} and education {self.education} and title {job_title}\")\n",
    "\n",
    "developer: Developer = Developer(\"Hijabie\", 21, \"B.E In Physics\", 700000)\n",
    "developer.intro(\"Generative A.I Developer\")\n",
    "print(f\"Developer name is {developer.name}\")"
   ]
  },
  {
   "cell_type": "code",
   "execution_count": 42,
   "metadata": {},
   "outputs": [
    {
     "name": "stdout",
     "output_type": "stream",
     "text": [
      "Mother name is Naheed Israr and speaks Hijabie is good girl\n"
     ]
    }
   ],
   "source": [
    "class Mother():\n",
    "    def __init__(self, m_name: str) -> None:\n",
    "        self.name: str = m_name\n",
    "        self.eye_color: str = \"Brown\"\n",
    "    def speak(self, words: str):\n",
    "        print(f\"Mother name is {self.name} and speaks {words}\")\n",
    "\n",
    "\n",
    "class Father():\n",
    "    def __init__(self, name: str) -> None:\n",
    "        self.name: str = name\n",
    "        self.height: float = 5.5\n",
    "    def speak(self, words: str):\n",
    "        print(f\"Father name is {self.name} and speaks {words}\")\n",
    "\n",
    "\n",
    "class Child(Mother,Father):\n",
    "    def __init__(self, mother_name: str, father_name: str, child_name: str) -> None:\n",
    "        Father.__init__(self,father_name)\n",
    "        Mother.__init__(self,mother_name)\n",
    "        self.child_name: str = child_name\n",
    "\n",
    "child1: Child = Child(\"Naheed Israr\", \"M. Israr\", \"Muhammad Ahsaan Abbasi\")\n",
    "child1.speak(\"Hijabie is good girl\")"
   ]
  },
  {
   "cell_type": "markdown",
   "metadata": {},
   "source": [
    "# Function OverLoad "
   ]
  },
  {
   "cell_type": "code",
   "execution_count": 1,
   "metadata": {},
   "outputs": [
    {
     "name": "stdout",
     "output_type": "stream",
     "text": [
      "11\n",
      "30.0\n",
      "HijabieAbbasi\n"
     ]
    }
   ],
   "source": [
    "from typing import overload, Union\n",
    "\n",
    "@overload\n",
    "def add(a: int, b: int) -> int:\n",
    "    ...\n",
    "\n",
    "@overload\n",
    "def add(a: float, b: float) -> float:\n",
    "    ...\n",
    "\n",
    "@overload\n",
    "def add(a: str, b: str) -> str:\n",
    "    ...\n",
    "\n",
    "def add(a: Union[int, float, str], b: Union[int, float, str]) -> Union[int, float, str]:\n",
    "    if isinstance(a, int) and isinstance(b, int):\n",
    "        return a + b\n",
    "    elif isinstance(a, float) and isinstance(b, float):\n",
    "        return a * b\n",
    "    elif isinstance(a, str) and isinstance(b, str):\n",
    "        return a + b\n",
    "    else:\n",
    "        raise TypeError(\"Invalid type\")\n",
    "\n",
    "print(add(5, 6))\n",
    "print(add(5.0, 6.0))\n",
    "print(add(\"Hijabie\", \"Abbasi\"))\n"
   ]
  },
  {
   "cell_type": "markdown",
   "metadata": {},
   "source": [
    "# Method Overload"
   ]
  },
  {
   "cell_type": "code",
   "execution_count": 2,
   "metadata": {},
   "outputs": [
    {
     "name": "stdout",
     "output_type": "stream",
     "text": [
      "11\n",
      "HijabieAbbasi\n",
      "30.0\n"
     ]
    }
   ],
   "source": [
    "class Student():\n",
    "    def __init__(self, name: str, age: int, education: str, salary: int) -> None:\n",
    "        self.name: str = name\n",
    "        self.age: int = age\n",
    "        self.education: str = education\n",
    "        self.salary: int = salary\n",
    "    @overload\n",
    "    def calculate(self, a: int, b: int) -> int:\n",
    "        ...\n",
    "    @overload\n",
    "    def calculate(self, a: float, b: float) -> float:\n",
    "        ...\n",
    "    @overload\n",
    "    def calculate(self, a: str, b: str) -> str:\n",
    "        ...\n",
    "    def calculate(self, a: Union[int, float, str], b: Union[int, float, str]) -> Union[int, float, str]:\n",
    "        if isinstance(a, int) and isinstance(b, int):\n",
    "            return a + b\n",
    "        elif isinstance(a, float) and isinstance(b, float):\n",
    "            return a * b\n",
    "        elif isinstance(a, str) and isinstance(b, str):\n",
    "            return a + b\n",
    "        else:\n",
    "            raise TypeError(\"Invalid type\")\n",
    "\n",
    "student1: Student = Student(\"Hijabie\", 21, \"B.E In Physics\", 600000)\n",
    "result1 = student1.calculate(5,6)\n",
    "result2 = student1.calculate(\"Hijabie\", \"Abbasi\")\n",
    "result3 = student1.calculate(5.0,6.0)\n",
    "print(result1)\n",
    "print(result2)\n",
    "print(result3)"
   ]
  },
  {
   "cell_type": "code",
   "execution_count": 4,
   "metadata": {},
   "outputs": [
    {
     "name": "stdout",
     "output_type": "stream",
     "text": [
      "9\n",
      "24.75\n",
      "HIabieAhsaan\n"
     ]
    }
   ],
   "source": [
    "\n",
    "@overload\n",
    "def add(a:int, b:int) -> int:\n",
    "    ...\n",
    "\n",
    "@overload\n",
    "def add(a:float, b:float) -> float:\n",
    "    ...\n",
    "\n",
    "@overload\n",
    "def add(a:str, b:str) -> str:\n",
    "    ...\n",
    "\n",
    "def add(a: Union[int, float, str], b: Union[int, float, str]) -> Union[int, float, str]:\n",
    "    if isinstance(a, int) and isinstance(b, int):\n",
    "        return a + b\n",
    "    elif isinstance(a, float) and isinstance(b, float):\n",
    "        return a * b\n",
    "    elif isinstance(a, str) and isinstance(b, str):\n",
    "        return a + b\n",
    "    else:\n",
    "        raise TypeError(\"Invalid Type Arrguments!\")\n",
    "\n",
    "result1 = add(5,4)\n",
    "result2 = add(5.5,4.5)\n",
    "result3 = add(\"HIabie\",\"Ahsaan\")\n",
    "print(result1)\n",
    "print(result2)\n",
    "print(result3)"
   ]
  },
  {
   "cell_type": "markdown",
   "metadata": {},
   "source": [
    "# Over-Ridding "
   ]
  },
  {
   "cell_type": "code",
   "execution_count": 12,
   "metadata": {},
   "outputs": [
    {
     "name": "stdout",
     "output_type": "stream",
     "text": [
      "Animal is eating Grass\n",
      "Bird is eating Bread\n",
      "Animal is eating Grass\n",
      "<class '__main__.Animal'>\n",
      "Bird is eating Grass\n",
      "<class '__main__.Bird'>\n"
     ]
    }
   ],
   "source": [
    "class Animal():\n",
    "    def eating(self,food:str)->None:\n",
    "        print(f\"Animal is eating {food}\")\n",
    "\n",
    "class Bird(Animal):\n",
    "    def eating(self, food: str) -> None:\n",
    "        print(f\"Bird is eating {food}\")\n",
    "\n",
    "animals: Animal = Animal()\n",
    "animals.eating(\"Grass\")\n",
    "\n",
    "birds: Bird = Bird()\n",
    "birds.eating(\"Bread\")\n",
    "\n",
    "animal: Bird = Bird()\n",
    "animal.eating(\"Grass\")\n",
    "print(type(animal))\n",
    "\n",
    "bird : Animal = Bird()\n",
    "bird.eating(\"Grass\")\n",
    "print(type(bird))"
   ]
  },
  {
   "cell_type": "markdown",
   "metadata": {},
   "source": [
    "## Static Variables & Methods"
   ]
  },
  {
   "cell_type": "code",
   "execution_count": 16,
   "metadata": {},
   "outputs": [
    {
     "name": "stdout",
     "output_type": "stream",
     "text": [
      "17\n",
      "30\n"
     ]
    },
    {
     "data": {
      "text/plain": [
       "'P.I.A.I.C'"
      ]
     },
     "execution_count": 16,
     "metadata": {},
     "output_type": "execute_result"
    }
   ],
   "source": [
    "class MathOperations():\n",
    "    counter: int = 0\n",
    "    org: str = \"P.I.A.I.C\"\n",
    "    @staticmethod\n",
    "    def add(a: int, b: int) -> int:\n",
    "        return a + b\n",
    "    @staticmethod\n",
    "    def multiply(a: int, b: int) -> int:\n",
    "        return a * b\n",
    "\n",
    "res = MathOperations.add(8,9)\n",
    "print(res)\n",
    "print(MathOperations.multiply(5,6))\n",
    "MathOperations.org\n",
    "\n"
   ]
  },
  {
   "cell_type": "code",
   "execution_count": 3,
   "metadata": {},
   "outputs": [
    {
     "name": "stdout",
     "output_type": "stream",
     "text": [
      "not really callable\n"
     ]
    }
   ],
   "source": [
    "class NonCallable:\n",
    "    def __call__(self):\n",
    "        print(\"not really callable\")\n",
    "\n",
    "\n",
    "instance = NonCallable()\n",
    "callable(instance)\n",
    "True\n",
    "\n",
    "instance()"
   ]
  },
  {
   "cell_type": "markdown",
   "metadata": {},
   "source": [
    "# Callable Function"
   ]
  },
  {
   "cell_type": "code",
   "execution_count": 5,
   "metadata": {},
   "outputs": [
    {
     "name": "stdout",
     "output_type": "stream",
     "text": [
      "Muhammad Ahsaan Abbasi is my name and my age is 20\n",
      "[10]\n",
      "10.0\n",
      "[10, 12]\n",
      "11.0\n",
      "[10, 12, 14]\n",
      "12.0\n"
     ]
    }
   ],
   "source": [
    "from typing import Any\n",
    "\n",
    "\n",
    "class Human():\n",
    "    def __init__(self):\n",
    "        self.name: str = \"Muhammad\"\n",
    "    \n",
    "    def __call__(self, last_name: str, age: int):\n",
    "        return f\"{self.name} {last_name} is my name and my age is {age}\"\n",
    "\n",
    "human1 = Human()\n",
    "print(human1(\"Ahsaan Abbasi\",20))\n",
    "\n",
    "class CustomAverage():\n",
    "    def __init__(self) -> None:\n",
    "        self.data: list[int] = []\n",
    "    \n",
    "    def __call__(self, new_value: int):\n",
    "        self.data.append(new_value)\n",
    "        print(self.data)\n",
    "        return sum(self.data) / len(self.data)\n",
    "\n",
    "stream_average = CustomAverage()\n",
    "print(stream_average(10))\n",
    "print(stream_average(12))\n",
    "print(stream_average(14))"
   ]
  },
  {
   "cell_type": "markdown",
   "metadata": {},
   "source": [
    "# File Module"
   ]
  },
  {
   "cell_type": "code",
   "execution_count": 6,
   "metadata": {},
   "outputs": [
    {
     "name": "stdout",
     "output_type": "stream",
     "text": [
      "Execution time 0.0088 ms\n"
     ]
    },
    {
     "data": {
      "text/plain": [
       "[0, 1, 4, 9, 16, 25, 36, 49, 64, 81]"
      ]
     },
     "execution_count": 6,
     "metadata": {},
     "output_type": "execute_result"
    }
   ],
   "source": [
    "from piaic.genai import ExecutionTimer\n",
    "\n",
    "@ExecutionTimer\n",
    "def square(numbers: list[int]) -> list[int]:\n",
    "    return [number**2 for number in numbers]\n",
    "\n",
    "square(list(range(10)))"
   ]
  },
  {
   "cell_type": "markdown",
   "metadata": {},
   "source": [
    "# Encapsulation"
   ]
  },
  {
   "cell_type": "code",
   "execution_count": 17,
   "metadata": {},
   "outputs": [
    {
     "name": "stdout",
     "output_type": "stream",
     "text": [
      "Login Successfully\n",
      "Valid User\n",
      "Student Login User Name: abbasi and Password: 1234\n",
      "Student Login User Name: abbasi and Password: 5678\n"
     ]
    }
   ],
   "source": [
    "class StudentLogin():\n",
    "    def __init__(self) -> None:\n",
    "        self.__username: str = \"abbasi\"\n",
    "        self.__password: str = \"1234\"\n",
    "    def _dbconnectivity(self, user: str, password: str):\n",
    "        if user == self.__username and password == self.__password:\n",
    "            print(\"Login Successfully\")\n",
    "            return \"Valid User\"\n",
    "        else:\n",
    "            return \"Invalid User\"\n",
    "    def update_password(self, new_password: str):\n",
    "        self.__password = new_password\n",
    "    def login(self, user: str, password: str):\n",
    "        message: str = self._dbconnectivity(user, password)\n",
    "        print(message)\n",
    "    def display_info(self) -> str:\n",
    "        return f\"Student Login User Name: {self.__username} and Password: {self.__password}\"\n",
    "\n",
    "abbasi: StudentLogin = StudentLogin()\n",
    "abbasi.login(\"abbasi\", \"1234\")\n",
    "print(abbasi.display_info())\n",
    "abbasi.update_password(\"5678\")\n",
    "print(abbasi.display_info())"
   ]
  },
  {
   "cell_type": "code",
   "execution_count": 82,
   "metadata": {},
   "outputs": [
    {
     "name": "stdout",
     "output_type": "stream",
     "text": [
      "Login Successfully\n",
      "Valid User\n"
     ]
    },
    {
     "data": {
      "text/plain": [
       "'User Name: abbasi and Password: 1234'"
      ]
     },
     "execution_count": 82,
     "metadata": {},
     "output_type": "execute_result"
    }
   ],
   "source": [
    "class Login_User():\n",
    "    def __init__(self) -> None:\n",
    "        self.__username = \"abbasi\"\n",
    "        self.__password = \"1234\"\n",
    "    def __dbconnectivity(self, user: str, password:str):\n",
    "        if user == self.__username and password == self.__password:\n",
    "            print(\"Login Successfully\")\n",
    "            return \"Valid User\"\n",
    "        else:\n",
    "            return \"Invalid User\"\n",
    "    def update_passwords(self, new_password: str):\n",
    "        self.__password = new_password\n",
    "    def login(self, user: str, password: str):\n",
    "        message = self.__dbconnectivity(user, password)\n",
    "        print(message)\n",
    "    def display_login(self):\n",
    "        return f\"User Name: {self.__username} and Password: {self.__password}\"\n",
    "\n",
    "abbasi: Login_User = Login_User()\n",
    "user_name: str = input(\"Enter User Name: \")\n",
    "password: str = input(\"Enter Password: \")\n",
    "abbasi.login(user_name, password)\n",
    "abbasi.display_login()"
   ]
  },
  {
   "cell_type": "markdown",
   "metadata": {},
   "source": [
    "# Abstraction"
   ]
  },
  {
   "cell_type": "code",
   "execution_count": 23,
   "metadata": {},
   "outputs": [
    {
     "name": "stdout",
     "output_type": "stream",
     "text": [
      "True\n",
      "Cat is eating Fish\n"
     ]
    }
   ],
   "source": [
    "from abc import ABC, abstractmethod\n",
    "class Animal(ABC):\n",
    "    @abstractmethod\n",
    "    def __init__(self) -> None:\n",
    "        super().__init__()\n",
    "        self.living: bool = True\n",
    "    @abstractmethod\n",
    "    def eating(self, food: str) -> str:\n",
    "        ...\n",
    "\n",
    "class Cat(Animal):\n",
    "    def __init__(self) -> None:\n",
    "        super().__init__()\n",
    "    def eating(self, food: str) -> str:\n",
    "        return f\"Cat is eating {food}\"\n",
    "\n",
    "cat1: Cat = Cat()\n",
    "print(cat1.living)\n",
    "print(cat1.eating(\"Fish\"))"
   ]
  },
  {
   "cell_type": "code",
   "execution_count": 79,
   "metadata": {},
   "outputs": [
    {
     "data": {
      "text/plain": [
       "11"
      ]
     },
     "execution_count": 79,
     "metadata": {},
     "output_type": "execute_result"
    }
   ],
   "source": [
    "from abc import ABC, abstractmethod\n",
    "class Component(ABC):\n",
    "    @abstractmethod\n",
    "    def operation(self) -> int:\n",
    "        ...\n",
    "\n",
    "class Header(Component):\n",
    "    def __init__(self) -> None:\n",
    "        super().__init__()\n",
    "    def operation(self, num1: int, num2:int) -> int:\n",
    "        return num1 + num2\n",
    "\n",
    "header1: Header = Header()\n",
    "header1.operation(5,6)"
   ]
  },
  {
   "cell_type": "markdown",
   "metadata": {},
   "source": [
    "# Duck Typing"
   ]
  },
  {
   "cell_type": "code",
   "execution_count": 26,
   "metadata": {},
   "outputs": [
    {
     "name": "stdout",
     "output_type": "stream",
     "text": [
      "Duck is quacking\n",
      "Person is quacking\n"
     ]
    }
   ],
   "source": [
    "class Duck():\n",
    "    def quack(self)->str:\n",
    "        return \"Duck is quacking\"\n",
    "\n",
    "class Person:\n",
    "    def quack(self)->str:\n",
    "        return \"Person is quacking\"\n",
    "\n",
    "def in_the_forest(duck):\n",
    "    print(duck.quack())\n",
    "\n",
    "donald: Duck = Duck()\n",
    "hijabie: Person = Person()\n",
    "in_the_forest(donald)\n",
    "in_the_forest(hijabie)"
   ]
  },
  {
   "cell_type": "code",
   "execution_count": 59,
   "metadata": {},
   "outputs": [
    {
     "name": "stdout",
     "output_type": "stream",
     "text": [
      "['Strawberry']\n",
      "<class 'list'>\n",
      "Strawberry\n",
      "Chocolate\n"
     ]
    }
   ],
   "source": [
    "# 9-6. Ice Cream Stand: An ice cream stand is a specific kind of restaurant. Write\n",
    "# a class called IceCreamStand that inherits from the Restaurant class you wrote\n",
    "# in Exercise 9-1 (page 166) or Exercise 9-4 (page 171). Either version of\n",
    "# the class will work; just pick the one you like better. Add an attribute called\n",
    "# flavors that stores a list of ice cream flavors. Write a method that displays\n",
    "# these flavors. Create an instance of IceCreamStand, and call this method.\n",
    "class IceCreamStand(Restaurant):\n",
    "    def __init__(self, restaurant_name: str, cuisine_type: str, flavors: list[str] = [\"Chocolate\"]) -> None:\n",
    "        super().__init__(restaurant_name, cuisine_type)\n",
    "        self.flavors: list[str] = flavors\n",
    "    def add_flavors(self, flavor: str):\n",
    "        self.flavors.append(flavor)\n",
    "    def flavors_display(self):\n",
    "        for flavor in self.flavors:\n",
    "            print(flavor)\n",
    "\n",
    "ice_cream: IceCreamStand = IceCreamStand(\"Hijabie Ice Cream\", \"Pakistani, Indian, Chinese, Arabian\",[\"Strawberry\"])\n",
    "print(ice_cream.flavors)\n",
    "print(type(ice_cream.flavors))\n",
    "ice_cream.add_flavors(\"Chocolate\")\n",
    "ice_cream.flavors_display()"
   ]
  },
  {
   "cell_type": "code",
   "execution_count": 60,
   "metadata": {},
   "outputs": [
    {
     "name": "stdout",
     "output_type": "stream",
     "text": [
      "['can add post']\n",
      "<class 'list'>\n",
      "can add post\n",
      "can delete post\n"
     ]
    }
   ],
   "source": [
    "# 9-7. Admin: An administrator is a special kind of user. Write a class called\n",
    "# Admin that inherits from the User class you wrote in Exercise 9-3 (page 166)\n",
    "# or Exercise 9-5 (page 171). Add an attribute, privileges, that stores a list\n",
    "# of strings like \"can add post\", \"can delete post\", \"can ban user\", and so on.\n",
    "# Write a method called show_privileges() that lists the administrator’s set of\n",
    "# privileges. Create an instance of Admin, and call your method.\n",
    "class Admin(User):\n",
    "    def __init__(self, first_name: str, last_name: str, age: int, privileges: list[str]) -> None:\n",
    "        super().__init__(first_name, last_name, age)\n",
    "        self.privileges: list[str] = privileges\n",
    "    def add_privileges(self, privileges: str):\n",
    "        self.privileges.append(privileges)\n",
    "        self.privileges.append(privileges)\n",
    "    def show_privileges(self):\n",
    "        for privilege in self.privileges:\n",
    "            print(privilege)\n",
    "\n",
    "admin: Admin = Admin(\"Hijabie\", \"Rabail Khan\", 21, [\"can add post\"])\n",
    "print(admin.privileges)\n",
    "print(type(admin.privileges))\n",
    "admin.add_privileges(\"can delete post\")\n",
    "admin.show_privileges()"
   ]
  },
  {
   "cell_type": "code",
   "execution_count": null,
   "metadata": {},
   "outputs": [],
   "source": [
    "# 9-8. Privileges: Write a separate Privileges class. The class should have one\n",
    "# attribute, privileges, that stores a list of strings as described in Exercise 9-7.\n",
    "# Move the show_privileges() method to this class. Make a Privileges instance\n",
    "# as an attribute in the Admin class. Create a new instance of Admin and use your\n",
    "# method to show its privileges.\n",
    "class Privileges(Admin):\n",
    "    def __init__(self, first_name: str, last_name: str, age: int, privileges: list[str]) -> None:\n",
    "        super().__init__(first_name, last_name, age, privileges)\n",
    "        self.privileges: list[str] = privileges\n",
    "    def add_privileges(self, privileges: str):\n",
    "        self.privileges.append(privileges)\n",
    "\n",
    "privileage: Privileges = Privileges(\"Hijabie\", \"Rabail Khan\", 21, [\"can add post\"])\n",
    "print(privileage.privileges)\n",
    "print(type(privileage.privileges))\n",
    "privileage.add_privileges(\"can delete post\")\n",
    "privileage.show_privileges()"
   ]
  },
  {
   "cell_type": "code",
   "execution_count": 63,
   "metadata": {},
   "outputs": [
    {
     "name": "stdout",
     "output_type": "stream",
     "text": [
      "260\n",
      "300\n"
     ]
    }
   ],
   "source": [
    "# 9-9. Battery Upgrade: Use the final version of electric_car.py from this section.\n",
    "# Add a method to the Battery class called upgrade_battery(). This method\n",
    "# should check the battery size and set the capacity to 85 if it isn’t already.\n",
    "# Make an electric car with a default battery size, call get_range() once, and\n",
    "# then call get_range() a second time after upgrading the battery. You should\n",
    "# see an increase in the car’s range\n",
    "class Electric_Car():\n",
    "    def __init__(self, battery_size: int = 75) -> None:\n",
    "        self.battery_size: int = battery_size\n",
    "    def upgrade_battery(self):\n",
    "        if self.battery_size != 85:\n",
    "            self.battery_size = 85\n",
    "    def get_range(self):\n",
    "        if self.battery_size == 75:\n",
    "            range = 260\n",
    "        elif self.battery_size == 85:\n",
    "            range = 300\n",
    "        return range\n",
    "\n",
    "electric_car: Electric_Car = Electric_Car()\n",
    "print(electric_car.get_range())\n",
    "electric_car.upgrade_battery()\n",
    "print(electric_car.get_range())"
   ]
  },
  {
   "cell_type": "code",
   "execution_count": 78,
   "metadata": {},
   "outputs": [],
   "source": [
    "# from piaic.genai import SumValues\n",
    "\n",
    "# @SumValues\n",
    "# def square(numbers: int, num2: int) -> int:\n",
    "#     return numbers * num2\n",
    "\n",
    "# result = square(5, 6)\n",
    "# print(result)"
   ]
  },
  {
   "cell_type": "code",
   "execution_count": 85,
   "metadata": {},
   "outputs": [
    {
     "name": "stdout",
     "output_type": "stream",
     "text": [
      "User Created Successfully\n",
      "Login Successfully\n",
      "Valid User\n"
     ]
    }
   ],
   "source": [
    "class User_login():\n",
    "    def __init__(self, user_info : dict[str,str] = {\"abbasi\":\"1234\"}):\n",
    "        self.__username = user_info\n",
    "    def __signup(self, user: str, password: str)->str:\n",
    "        if user not in self.__username.keys() and password not in self.__username.values():\n",
    "            self.__username[user] = password\n",
    "            return \"User Created Successfully\"\n",
    "        else:\n",
    "            return \"User Already Exist\"\n",
    "    def __login(self, user: str, password: str):\n",
    "        if user in self.__username.keys() and password in self.__username.values():\n",
    "            print(\"Login Successfully\")\n",
    "            return \"Valid User\"\n",
    "        else:\n",
    "            return \"Invalid User\"\n",
    "    def login(self, user: str, password: str):\n",
    "        message = self.__login(user, password)\n",
    "        print(message)\n",
    "    def signup(self, user: str, password: str):\n",
    "        message: str = self.__signup(user, password)\n",
    "        print(message)\n",
    "    def display_infos(self) -> dict[str,str]:\n",
    "        return self.__username\n",
    "\n",
    "name: str = input(\"Enter User Name: \")\n",
    "password: str = input(\"Enter Password: \")\n",
    "user1: User_login = User_login()\n",
    "user1.signup(name, password)\n",
    "name: str = input(\"Enter Login User Name: \")\n",
    "password: str = input(\"Enter Login Password: \")\n",
    "user1.login(name, password)"
   ]
  }
 ],
 "metadata": {
  "kernelspec": {
   "display_name": "py12",
   "language": "python",
   "name": "python3"
  },
  "language_info": {
   "codemirror_mode": {
    "name": "ipython",
    "version": 3
   },
   "file_extension": ".py",
   "mimetype": "text/x-python",
   "name": "python",
   "nbconvert_exporter": "python",
   "pygments_lexer": "ipython3",
   "version": "3.12.0"
  }
 },
 "nbformat": 4,
 "nbformat_minor": 2
}
