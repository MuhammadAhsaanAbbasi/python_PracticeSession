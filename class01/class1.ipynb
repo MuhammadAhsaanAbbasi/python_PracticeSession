{
 "cells": [
  {
   "cell_type": "code",
   "execution_count": 2,
   "metadata": {},
   "outputs": [
    {
     "name": "stdout",
     "output_type": "stream",
     "text": [
      "Hello HIjabie\n",
      "Hello Rawa\n",
      "Rawa\n"
     ]
    }
   ],
   "source": [
    "print(\"Hello HIjabie\")\n",
    "print(\"Hello Rawa\")\n",
    "\n",
    "name: str = \"Hijabie\"\n",
    "name = \"Rawa\"\n",
    "print(name)"
   ]
  },
  {
   "cell_type": "code",
   "execution_count": 9,
   "metadata": {},
   "outputs": [
    {
     "name": "stdout",
     "output_type": "stream",
     "text": [
      "25\n",
      "<class 'int'>\n",
      "['conjugate', 'denominator', 'imag', 'numerator', 'real']\n",
      "<built-in method conjugate of int object at 0x00007FFDB9944CB8>\n"
     ]
    }
   ],
   "source": [
    "age: int = 25\n",
    "print(age)\n",
    "print(type(age))\n",
    "print([i for i in dir(age) if \"_\" not in i])\n",
    "print(age.conjugate)"
   ]
  },
  {
   "cell_type": "code",
   "execution_count": 1,
   "metadata": {},
   "outputs": [
    {
     "name": "stdout",
     "output_type": "stream",
     "text": [
      "\n",
      "name: Hijabie\n",
      "Father Name: Arshad\n",
      "Education: BE in Pyhsics\n",
      "Age: 21\n",
      "\n"
     ]
    }
   ],
   "source": [
    "student: str = \"Hijabie\"\n",
    "fName: str = \"Arshad\"\n",
    "education: str = \"BE in Pyhsics\"\n",
    "age: int = 21\n",
    "\n",
    "card: str = f\"\"\"\n",
    "name: {student}\n",
    "Father Name: {fName}\n",
    "Education: {education}\n",
    "Age: {age}\n",
    "\"\"\"\n",
    "\n",
    "print(card)"
   ]
  },
  {
   "cell_type": "code",
   "execution_count": 4,
   "metadata": {},
   "outputs": [
    {
     "data": {
      "text/plain": [
       "'\\nname: Hijabie\\nfather name: Arshad\\neducation: BE in Pyhsics   \\nage: 21\\n'"
      ]
     },
     "execution_count": 4,
     "metadata": {},
     "output_type": "execute_result"
    }
   ],
   "source": [
    "\"\"\"\n",
    "name: {}\n",
    "father name: {}\n",
    "education: {}   \n",
    "age: {}\n",
    "\"\"\".format(student, fName, education, age)"
   ]
  },
  {
   "cell_type": "code",
   "execution_count": 7,
   "metadata": {},
   "outputs": [
    {
     "name": "stdout",
     "output_type": "stream",
     "text": [
      "Hello, I'm Ahsaan and I love Hijabie\n",
      "Hello, I'm Ahsaan and I love Hijabie and she doesn't love me\n"
     ]
    }
   ],
   "source": [
    "# 2-1. Simple Message: Store a message in a variable, and then print that\n",
    "# message.\n",
    "message: str = \"Hello, I'm Ahsaan and I love Hijabie\"\n",
    "print(message)\n",
    "\n",
    "# 2-2. Simple Messages: Store a message in a variable, and print that message.\n",
    "# Then change the value of your variable to a new message, and print the new\n",
    "# message.\n",
    "message:str = \"Hello, I'm Ahsaan and I love Hijabie and she doesn't love me\"\n",
    "print(message)"
   ]
  },
  {
   "cell_type": "code",
   "execution_count": 12,
   "metadata": {},
   "outputs": [
    {
     "name": "stdout",
     "output_type": "stream",
     "text": [
      "Hello I'm Ahsaan and I love you hIjabie too much\n",
      "hijabie\n",
      "HIJABIE\n",
      "Hijabie\n"
     ]
    }
   ],
   "source": [
    "# 2-3. Personal Message: Store a person’s name in a variable, and print a message to that person. Your message should be simple, such as, “Hello Eric,\n",
    "# would you like to learn some Python today?”\n",
    "person: str = \"hIjabie\"\n",
    "message: str = f\"Hello I'm Ahsaan and I love you {person} too much\"\n",
    "print(message)\n",
    "\n",
    "# 2-4. Name Cases: Store a person’s name in a variable, and then print that person’s name in lowercase, uppercase, and titlecase.\n",
    "print(person.lower())\n",
    "print(person.upper())\n",
    "print(person.title())"
   ]
  },
  {
   "cell_type": "code",
   "execution_count": 29,
   "metadata": {},
   "outputs": [
    {
     "name": "stdout",
     "output_type": "stream",
     "text": [
      "Albert Einstein once said,\n",
      "\"A person who never made a mistake never tried anything new.\" \n",
      " \n",
      "Mirza Ghalib once said,\n",
      "\"In countless wounds, many a life departed with each pain,\n",
      "In every agony, many a soul departed again\" \n",
      " \tAhsaan\n",
      "Abbasi\n",
      "Ahsaan\n",
      "Abbasi\n",
      " \tAhsaan\n",
      "Abbasi\n",
      "Ahsaan\n",
      "Abbasi\n"
     ]
    }
   ],
   "source": [
    "# 2-5. Famous Quote: Find a quote from a famous person you admire. Print the\n",
    "# quote and the name of its author. Your output should look something like the\n",
    "# following, including the quotation marks:\n",
    "# Albert Einstein once said, “A person who never made a\n",
    "# mistake never tried anything new.”\n",
    "author: str = \"Albert Einstein\"\n",
    "quote: str = \"A person who never made a mistake never tried anything new.\"\n",
    "message: str = f\"\"\"{author} once said,\n",
    "\"{quote}\" \"\"\"\n",
    "print(message)\n",
    "\n",
    "# 2-6. Famous Quote 2: Repeat Exercise 2-5, but this time store the famous person’s name in a variable called famous_person. Then compose your message\n",
    "# and store it in a new variable called message. Print your message.\n",
    "\n",
    "author2: str = \"Mirza Ghalib\"\n",
    "quote2: str = \"\"\"In countless wounds, many a life departed with each pain,\n",
    "In every agony, many a soul departed again\"\"\"\n",
    "message2: str = f\"\"\" \n",
    "{author2} once said,\n",
    "\"{quote2}\" \"\"\"\n",
    "print(message2)\n",
    "\n",
    "# 2-7. Stripping Names: Store a person’s name, and include some whitespace\n",
    "# characters at the beginning and end of the name. Make sure you use each\n",
    "# character combination, \"\\t\" and \"\\n\", at least once.\n",
    "# Print the name once, so the whitespace around the name is displayed.\n",
    "# Then print the name using each of the three stripping functions, lstrip(),\n",
    "# rstrip(), and strip().\n",
    "personName: str = \" \\tAhsaan\\nAbbasi\"\n",
    "print(personName)\n",
    "print(personName.lstrip())\n",
    "print(personName.rstrip())\n",
    "print(personName.strip())"
   ]
  },
  {
   "cell_type": "code",
   "execution_count": 33,
   "metadata": {},
   "outputs": [
    {
     "name": "stdout",
     "output_type": "stream",
     "text": [
      "8\n",
      "8\n",
      "8\n",
      "8.0\n",
      "My favorite number is 5\n"
     ]
    }
   ],
   "source": [
    "# 2-8. Number Eight: Write addition, subtraction, multiplication, and division\n",
    "# operations that each result in the number 8. Be sure to enclose your operations\n",
    "# in print statements to see the results. You should create four lines that look\n",
    "# like this:\n",
    "# print(5 + 3)\n",
    "# Your output should simply be four lines with the number 8 appearing once\n",
    "# on each line.\n",
    "print(5+3)\n",
    "print(10-2)\n",
    "print(4*2)\n",
    "print(16/2)\n",
    "# 2-9. Favorite Number: Store your favorite number in a variable. Then, using\n",
    "# that variable, create a message that reveals your favorite number. Print that\n",
    "# message.\n",
    "favNumber: int = 5\n",
    "message: str = f\"My favorite number is {favNumber}\"\n",
    "print(message)"
   ]
  },
  {
   "cell_type": "code",
   "execution_count": null,
   "metadata": {},
   "outputs": [],
   "source": [
    "# 2-10. Adding Comments: Choose two of the programs you’ve written, and\n",
    "# add at least one comment to each. If you don’t have anything specific to write\n",
    "# because your programs are too simple at this point, just add your name and\n",
    "# the current date at the top of each program file. Then write one sentence\n",
    "# describing what the program does.\n",
    "\n",
    "# print(\"Hijabie I love you so much and I can't live without you\")"
   ]
  },
  {
   "cell_type": "code",
   "execution_count": 3,
   "metadata": {},
   "outputs": [
    {
     "name": "stdout",
     "output_type": "stream",
     "text": [
      "4.6\n",
      "<class 'float'>\n"
     ]
    }
   ],
   "source": [
    "number:float= 4.6\n",
    "print(number)\n",
    "print(type(number))"
   ]
  }
 ],
 "metadata": {
  "kernelspec": {
   "display_name": "python12",
   "language": "python",
   "name": "python3"
  },
  "language_info": {
   "codemirror_mode": {
    "name": "ipython",
    "version": 3
   },
   "file_extension": ".py",
   "mimetype": "text/x-python",
   "name": "python",
   "nbconvert_exporter": "python",
   "pygments_lexer": "ipython3",
   "version": "3.12.0"
  }
 },
 "nbformat": 4,
 "nbformat_minor": 2
}
