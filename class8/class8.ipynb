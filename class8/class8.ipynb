{
 "cells": [
  {
   "cell_type": "markdown",
   "metadata": {},
   "source": [
    "# Functions in Python"
   ]
  },
  {
   "cell_type": "code",
   "execution_count": 4,
   "metadata": {},
   "outputs": [
    {
     "name": "stdout",
     "output_type": "stream",
     "text": [
      "Hello World\n",
      "11\n",
      "10\n"
     ]
    }
   ],
   "source": [
    "def my_Function():\n",
    "    print(\"Hello World\")\n",
    "\n",
    "my_Function()\n",
    "\n",
    "def add_numbers(a:int, b:int):\n",
    "    return a + b\n",
    "\n",
    "add = add_numbers(5,6)\n",
    "print(add)\n",
    "\n",
    "def optional_numbers(a:int, b:int = 5):\n",
    "    return a + b\n",
    "\n",
    "add = optional_numbers(5)\n",
    "print(add)"
   ]
  },
  {
   "cell_type": "code",
   "execution_count": 7,
   "metadata": {},
   "outputs": [
    {
     "name": "stdout",
     "output_type": "stream",
     "text": [
      "12\n",
      "False\n"
     ]
    }
   ],
   "source": [
    "def twoValues(a:int,b:int)->int:\n",
    "    return a + b\n",
    "\n",
    "add = twoValues(6,6)\n",
    "print(add)\n",
    "\n",
    "def optional_numbers(a:str, b:int)->int:\n",
    "    return a == b\n",
    "\n",
    "add = optional_numbers(\"Hijabie\",6) # Postitional Argumnets\n",
    "print(add)\n",
    "\n",
    "sub = optional_numbers(b=7,a=\"Hijabie\") #Keywords Arguments\n",
    "print(sub)"
   ]
  },
  {
   "cell_type": "code",
   "execution_count": 14,
   "metadata": {},
   "outputs": [
    {
     "name": "stdout",
     "output_type": "stream",
     "text": [
      "[1, 4, 16, 25, 36, 64, 81]\n",
      "[4, 16, 36, 64]\n",
      "30\n"
     ]
    }
   ],
   "source": [
    "# Lambda Functions\n",
    "from tkinter import Y\n",
    "from typing import Callable\n",
    "\n",
    "\n",
    "a = lambda num1,num2 : num1 + num2\n",
    "a(5,7)\n",
    "\n",
    "data: list[int] = [1,2,4,5,6,8,9]\n",
    "data = list(map(lambda x: x**2, data))\n",
    "print(data)\n",
    "\n",
    "data = list(filter(lambda x: x % 2 == 0, data))\n",
    "print(data)\n",
    "\n",
    "add: Callable[[int,int],int] = lambda x,y: x + y\n",
    "result = add(10,20)\n",
    "print(result)"
   ]
  },
  {
   "cell_type": "code",
   "execution_count": 16,
   "metadata": {},
   "outputs": [
    {
     "name": "stdout",
     "output_type": "stream",
     "text": [
      "(1, 3, 4, 5, 5, 5, 5) <class 'tuple'>\n",
      "{'a': 7, 'b': 8, 'c': 9}\n"
     ]
    }
   ],
   "source": [
    "def abc(*nums):\n",
    "    print(nums,type(nums))\n",
    "    total = 0\n",
    "    for n in nums:\n",
    "        total+=n\n",
    "    return total\n",
    "abc(1,3,4,5,5,5,5)\n",
    "\n",
    "def xyz(**nums):\n",
    "    print(nums)\n",
    "\n",
    "xyz(a=7,b=8,c=9)"
   ]
  },
  {
   "cell_type": "code",
   "execution_count": 26,
   "metadata": {},
   "outputs": [
    {
     "name": "stdout",
     "output_type": "stream",
     "text": [
      "Hijabie\n",
      "Ahsaan\n",
      "Alizay\n",
      "Steve joves\n"
     ]
    }
   ],
   "source": [
    "from typing import Tuple\n",
    "\n",
    "\n",
    "def greet(*names) -> None:\n",
    "    \"\"\"\n",
    "    This Function Greets all persons in the names tuples\n",
    "    \"\"\"\n",
    "    for name in names:\n",
    "        print(name)\n",
    "\n",
    "greet(\"Hijabie\", \"Ahsaan\", \"Alizay\", \"Steve joves\")\n",
    "\n"
   ]
  },
  {
   "cell_type": "code",
   "execution_count": 29,
   "metadata": {},
   "outputs": [
    {
     "name": "stdout",
     "output_type": "stream",
     "text": [
      "I am learning about functions in this chapter\n",
      "One of my favorite books is Alice in Wonderland\n"
     ]
    }
   ],
   "source": [
    "# 8-1. Message: Write a function called display_message() that prints one sentence telling everyone what you are learning about in this chapter. Call the\n",
    "# function, and make sure the message displays correctly.\n",
    "def display_message():\n",
    "    print(\"I am learning about functions in this chapter\")\n",
    "\n",
    "display_message()\n",
    "\n",
    "# 8-2. Favorite Book: Write a function called favorite_book() that accepts one\n",
    "# parameter, title. The function should print a message, such as One of my\n",
    "# favorite books is Alice in Wonderland. Call the function, making sure to\n",
    "# include a book title as an argument in the function call.\n",
    "def favorite_book(title:str):\n",
    "    print(f\"One of my favorite books is {title}\")\n",
    "\n",
    "favorite_book(\"Alice in Wonderland\")"
   ]
  },
  {
   "cell_type": "code",
   "execution_count": 33,
   "metadata": {},
   "outputs": [
    {
     "name": "stdout",
     "output_type": "stream",
     "text": [
      "The size of the shirt is Medium and the message is Pakistan Zindabad\n",
      "The size of the shirt is Medium and the message is Hijabie like you\n",
      "The size of the shirt is large and the message is I Love Python\n",
      "The size of the shirt is Medium and the message is I Love Python\n",
      "Istanbul is in Turkey\n",
      "Karachi is in Pakistan\n",
      "Lahore is in Pakistan\n"
     ]
    }
   ],
   "source": [
    "# 8-3. T-Shirt: Write a function called make_shirt() that accepts a size and the\n",
    "# text of a message that should be printed on the shirt. The function should print\n",
    "# a sentence summarizing the size of the shirt and the message printed on it.\n",
    "# Call the function once using positional arguments to make a shirt. Call the\n",
    "# function a second time using keyword arguments.\n",
    "def make_shirt(size:str, message:str):\n",
    "    print(f\"The size of the shirt is {size} and the message is {message}\")\n",
    "\n",
    "make_shirt(\"Medium\",\"Pakistan Zindabad\")\n",
    "make_shirt(message=\"Hijabie like you\",size=\"Medium\")\n",
    "\n",
    "# 8-4. Large Shirts: Modify the make_shirt() function so that shirts are large\n",
    "# by default with a message that reads I love Python. Make a large shirt and a\n",
    "# medium shirt with the default message, and a shirt of any size with a different\n",
    "# message.\n",
    "\n",
    "def make_shirts(size:str=\"large\", message:str=\"I Love Python\"):\n",
    "    print(f\"The size of the shirt is {size} and the message is {message}\")\n",
    "\n",
    "make_shirts()\n",
    "make_shirts(\"Medium\")\n",
    "\n",
    "# 8-5. Cities: Write a function called describe_city() that accepts the name of\n",
    "# a city and its country. The function should print a simple sentence, such as\n",
    "# Reykjavik is in Iceland. Give the parameter for the country a default value.\n",
    "# Call your function for three different cities, at least one of which is not in the\n",
    "# default country\n",
    "def describe_city(city:str, country:str=\"Turkey\"):\n",
    "    print(f\"{city} is in {country}\")\n",
    "\n",
    "describe_city(\"Istanbul\")\n",
    "describe_city(\"Karachi\",\"Pakistan\")\n",
    "describe_city(\"Lahore\",\"Pakistan\")"
   ]
  },
  {
   "cell_type": "code",
   "execution_count": 2,
   "metadata": {},
   "outputs": [
    {
     "name": "stdout",
     "output_type": "stream",
     "text": [
      "Karachi, Pakistan\n",
      "Istanbul, Turkey\n",
      "Ankara, Turkey\n"
     ]
    }
   ],
   "source": [
    "# 8-6. City Names: Write a function called city_country() that takes in the name\n",
    "# of a city and its country. The function should return a string formatted like this:\n",
    "# \"Santiago, Chile\"\n",
    "# Call your function with at least three city-country pairs, and print the value\n",
    "# that’s returned.\n",
    "def city_country(city:str, country:str)->str:\n",
    "    return f\"{city}, {country}\"\n",
    "\n",
    "print(city_country(\"Karachi\",\"Pakistan\"))\n",
    "print(city_country(\"Istanbul\",\"Turkey\"))\n",
    "print(city_country(\"Ankara\",\"Turkey\"))\n",
    "\n",
    "# 8-7. Album: Write a function called make_album() that builds a dictionary\n",
    "# describing a music album. The function should take in an artist name and an\n",
    "# album title, and it should return a dictionary containing these two pieces of\n",
    "# information. Use the function to make three dictionaries representing different\n",
    "# albums. Print each return value to show that the dictionaries are storing the\n",
    "# album information correctly.\n",
    "# Add an optional parameter to make_album() that allows you to store the\n",
    "# number of tracks on an album. If the calling line includes a value for the number of tracks, add that value to the album’s dictionary. Make at least one new\n",
    "# function call that includes the number of tracks on an album.\n",
    "\n",
    "def make_album(artist:str,album_title:str,tracks:int=0)->dict:\n",
    "    album = {\n",
    "                        \"artist\":artist,\n",
    "                        \"album_title\":album\n",
    "    }\n",
    "    if tracks:\n",
    "        album[\"tracks\"] = tracks\n",
    "    return album\n"
   ]
  }
 ],
 "metadata": {
  "kernelspec": {
   "display_name": "py12",
   "language": "python",
   "name": "python3"
  },
  "language_info": {
   "codemirror_mode": {
    "name": "ipython",
    "version": 3
   },
   "file_extension": ".py",
   "mimetype": "text/x-python",
   "name": "python",
   "nbconvert_exporter": "python",
   "pygments_lexer": "ipython3",
   "version": "3.12.0"
  }
 },
 "nbformat": 4,
 "nbformat_minor": 2
}
