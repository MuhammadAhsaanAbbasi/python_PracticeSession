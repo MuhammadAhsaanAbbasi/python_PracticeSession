{
 "cells": [
  {
   "cell_type": "markdown",
   "metadata": {},
   "source": [
    "# Functions in Python"
   ]
  },
  {
   "cell_type": "code",
   "execution_count": 4,
   "metadata": {},
   "outputs": [
    {
     "name": "stdout",
     "output_type": "stream",
     "text": [
      "Hello World\n",
      "11\n",
      "10\n"
     ]
    }
   ],
   "source": [
    "def my_Function():\n",
    "    print(\"Hello World\")\n",
    "\n",
    "my_Function()\n",
    "\n",
    "def add_numbers(a:int, b:int):\n",
    "    return a + b\n",
    "\n",
    "add = add_numbers(5,6)\n",
    "print(add)\n",
    "\n",
    "def optional_numbers(a:int, b:int = 5):\n",
    "    return a + b\n",
    "\n",
    "add = optional_numbers(5)\n",
    "print(add)"
   ]
  },
  {
   "cell_type": "code",
   "execution_count": 7,
   "metadata": {},
   "outputs": [
    {
     "name": "stdout",
     "output_type": "stream",
     "text": [
      "12\n",
      "False\n"
     ]
    }
   ],
   "source": [
    "def twoValues(a:int,b:int)->int:\n",
    "    return a + b\n",
    "\n",
    "add = twoValues(6,6)\n",
    "print(add)\n",
    "\n",
    "def optional_numbers(a:str, b:int)->int:\n",
    "    return a == b\n",
    "\n",
    "add = optional_numbers(\"Hijabie\",6) # Postitional Argumnets\n",
    "print(add)\n",
    "\n",
    "sub = optional_numbers(b=7,a=\"Hijabie\") #Keywords Arguments\n",
    "print(sub)"
   ]
  },
  {
   "cell_type": "code",
   "execution_count": 14,
   "metadata": {},
   "outputs": [
    {
     "name": "stdout",
     "output_type": "stream",
     "text": [
      "[1, 4, 16, 25, 36, 64, 81]\n",
      "[4, 16, 36, 64]\n",
      "30\n"
     ]
    }
   ],
   "source": [
    "# Lambda Functions\n",
    "from tkinter import Y\n",
    "from typing import Callable\n",
    "\n",
    "\n",
    "a = lambda num1,num2 : num1 + num2\n",
    "a(5,7)\n",
    "\n",
    "data: list[int] = [1,2,4,5,6,8,9]\n",
    "data = list(map(lambda x: x**2, data))\n",
    "print(data)\n",
    "\n",
    "data = list(filter(lambda x: x % 2 == 0, data))\n",
    "print(data)\n",
    "\n",
    "add: Callable[[int,int],int] = lambda x,y: x + y\n",
    "result = add(10,20)\n",
    "print(result)"
   ]
  }
 ],
 "metadata": {
  "kernelspec": {
   "display_name": "py12",
   "language": "python",
   "name": "python3"
  },
  "language_info": {
   "codemirror_mode": {
    "name": "ipython",
    "version": 3
   },
   "file_extension": ".py",
   "mimetype": "text/x-python",
   "name": "python",
   "nbconvert_exporter": "python",
   "pygments_lexer": "ipython3",
   "version": "3.12.0"
  }
 },
 "nbformat": 4,
 "nbformat_minor": 2
}
