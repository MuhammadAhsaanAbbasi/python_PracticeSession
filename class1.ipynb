{
 "cells": [
  {
   "cell_type": "code",
   "execution_count": 2,
   "metadata": {},
   "outputs": [
    {
     "name": "stdout",
     "output_type": "stream",
     "text": [
      "Hello HIjabie\n",
      "Hello Rawa\n",
      "Rawa\n"
     ]
    }
   ],
   "source": [
    "print(\"Hello HIjabie\")\n",
    "print(\"Hello Rawa\")\n",
    "\n",
    "name: str = \"Hijabie\"\n",
    "name = \"Rawa\"\n",
    "print(name)"
   ]
  },
  {
   "cell_type": "code",
   "execution_count": 9,
   "metadata": {},
   "outputs": [
    {
     "name": "stdout",
     "output_type": "stream",
     "text": [
      "25\n",
      "<class 'int'>\n",
      "['conjugate', 'denominator', 'imag', 'numerator', 'real']\n",
      "<built-in method conjugate of int object at 0x00007FFDB9944CB8>\n"
     ]
    }
   ],
   "source": [
    "age: int = 25\n",
    "print(age)\n",
    "print(type(age))    \n",
    "print([i for i in dir(age) if \"_\" not in i])\n",
    "print(age.conjugate)"
   ]
  },
  {
   "cell_type": "code",
   "execution_count": 1,
   "metadata": {},
   "outputs": [
    {
     "name": "stdout",
     "output_type": "stream",
     "text": [
      "\n",
      "name: Hijabie\n",
      "Father Name: Arshad\n",
      "Education: BE in Pyhsics\n",
      "Age: 21\n",
      "\n"
     ]
    }
   ],
   "source": [
    "student: str = \"Hijabie\"\n",
    "fName: str = \"Arshad\"\n",
    "education: str = \"BE in Pyhsics\"\n",
    "age: int = 21\n",
    "\n",
    "card: str = f\"\"\"\n",
    "name: {student}\n",
    "Father Name: {fName}\n",
    "Education: {education}\n",
    "Age: {age}\n",
    "\"\"\"\n",
    "\n",
    "print(card)"
   ]
  },
  {
   "cell_type": "code",
   "execution_count": 4,
   "metadata": {},
   "outputs": [
    {
     "data": {
      "text/plain": [
       "'\\nname: Hijabie\\nfather name: Arshad\\neducation: BE in Pyhsics   \\nage: 21\\n'"
      ]
     },
     "execution_count": 4,
     "metadata": {},
     "output_type": "execute_result"
    }
   ],
   "source": [
    "\"\"\"\n",
    "name: {}\n",
    "father name: {}\n",
    "education: {}   \n",
    "age: {}\n",
    "\"\"\".format(student, fName, education, age)"
   ]
  },
  {
   "cell_type": "code",
   "execution_count": 7,
   "metadata": {},
   "outputs": [
    {
     "name": "stdout",
     "output_type": "stream",
     "text": [
      "Hello, I'm Ahsaan and I love Hijabie\n",
      "Hello, I'm Ahsaan and I love Hijabie and she doesn't love me\n"
     ]
    }
   ],
   "source": [
    "# 2-1. Simple Message: Store a message in a variable, and then print that\n",
    "# message.\n",
    "message: str = \"Hello, I'm Ahsaan and I love Hijabie\"\n",
    "print(message)\n",
    "\n",
    "# 2-2. Simple Messages: Store a message in a variable, and print that message.\n",
    "# Then change the value of your variable to a new message, and print the new\n",
    "# message.\n",
    "message:str = \"Hello, I'm Ahsaan and I love Hijabie and she doesn't love me\"\n",
    "print(message)"
   ]
  },
  {
   "cell_type": "code",
   "execution_count": 11,
   "metadata": {},
   "outputs": [
    {
     "name": "stdout",
     "output_type": "stream",
     "text": [
      "Hello I'm Ahsaan and I love you Hijabie too much\n",
      "hijabie\n",
      "HIJABIE\n"
     ]
    }
   ],
   "source": [
    "# 2-3. Personal Message: Store a person’s name in a variable, and print a message to that person. Your message should be simple, such as, “Hello Eric,\n",
    "# would you like to learn some Python today?”\n",
    "person: str = \"hIjabie\"\n",
    "message: str = f\"Hello I'm Ahsaan and I love you {person} too much\"\n",
    "print(message)\n",
    "\n",
    "# 2-4. Name Cases: Store a person’s name in a variable, and then print that person’s name in lowercase, uppercase, and titlecase.\n",
    "print(person.lower())\n",
    "print(person.upper())\n",
    "print(person.title())"
   ]
  }
 ],
 "metadata": {
  "kernelspec": {
   "display_name": "python12",
   "language": "python",
   "name": "python3"
  },
  "language_info": {
   "codemirror_mode": {
    "name": "ipython",
    "version": 3
   },
   "file_extension": ".py",
   "mimetype": "text/x-python",
   "name": "python",
   "nbconvert_exporter": "python",
   "pygments_lexer": "ipython3",
   "version": "3.12.0"
  }
 },
 "nbformat": 4,
 "nbformat_minor": 2
}
