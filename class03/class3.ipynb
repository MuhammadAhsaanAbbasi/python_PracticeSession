{
 "cells": [
  {
   "cell_type": "markdown",
   "metadata": {},
   "source": [
    "# Lists"
   ]
  },
  {
   "cell_type": "code",
   "execution_count": 6,
   "metadata": {},
   "outputs": [
    {
     "name": "stdout",
     "output_type": "stream",
     "text": [
      "Muqqads\n",
      "Hijabie\n",
      "Alizay\n",
      "Zyab\n",
      "Hello, Muqqads\n",
      "Hello, Hijabie\n",
      "Hello, Alizay\n",
      "Hello, Zyab\n",
      "I would like to own a Car\n",
      "I would like to own a Bike\n",
      "I would like to own a Cycle\n",
      "I would like to own a Rickshaw\n"
     ]
    }
   ],
   "source": [
    "# 3-1. Names: Store the names of a few of your friends in a list called names. Print\n",
    "# each person’s name by accessing each element in the list, one at a time.\n",
    "names: list[str] = [\"Muqqads\",\"Hijabie\",\"Alizay\",\"Zyab\"]\n",
    "print(names[0])\n",
    "print(names[1])\n",
    "print(names[2])\n",
    "print(names[3])\n",
    "\n",
    "# 3-2. Greetings: Start with the list you used in Exercise 3-1, but instead of just\n",
    "# printing each person’s name, print a message to them. The text of each message should be the same, but each message should be personalized with the\n",
    "# person’s name.\n",
    "message: str = \"Hello, \"\n",
    "print(f\"{message}{names[0]}\")\n",
    "print(f\"{message}{names[1]}\")\n",
    "print(f\"{message}{names[2]}\")\n",
    "print(f\"{message}{names[3]}\")\n",
    "\n",
    "# 3-3. Your Own List: Think of your favorite mode of transportation, such as a\n",
    "# motorcycle or a car, and make a list that stores several examples. Use your list\n",
    "# to print a series of statements about these items, such as “I would like to own a\n",
    "# Honda motorcycle.”\n",
    "transportation: list[str] = [\"Car\",\"Bike\",\"Cycle\",\"Rickshaw\"]\n",
    "print(f\"I would like to own a {transportation[0]}\")\n",
    "print(f\"I would like to own a {transportation[1]}\")\n",
    "print(f\"I would like to own a {transportation[2]}\")\n",
    "print(f\"I would like to own a {transportation[3]}\")"
   ]
  },
  {
   "cell_type": "code",
   "execution_count": 83,
   "metadata": {},
   "outputs": [
    {
     "name": "stdout",
     "output_type": "stream",
     "text": [
      "Hello Muqqads, I would like to invite you to dinner.\n",
      "Hello Hijabie, I would like to invite you to dinner.\n",
      "Hello Alizay, I would like to invite you to dinner.\n",
      "Alizay can't make it to the dinner.\n",
      "Hello Muqqads, I would like to invite you to dinner.\n",
      "Hello Hijabie, I would like to invite you to dinner.\n",
      "Hello Zyab, I would like to invite you to dinner.\n",
      "Hello Muqqads, I found a bigger dinner table for our dinner.\n",
      "Hello Hijabie, I found a bigger dinner table for our dinner.\n",
      "Hello Zyab, I found a bigger dinner table for our dinner.\n",
      "Hello Rawa, I would like to invite you to dinner.\n",
      "Hello Muqqads, I would like to invite you to dinner.\n",
      "Hello Fajar, I would like to invite you to dinner.\n",
      "Hello Hijabie, I would like to invite you to dinner.\n",
      "Hello Zyab, I would like to invite you to dinner.\n",
      "Hello Muneeb, I would like to invite you to dinner.\n"
     ]
    }
   ],
   "source": [
    "# 3-4. Guest List: If you could invite anyone, living or deceased, to dinner, who\n",
    "# would you invite? Make a list that includes at least three people you’d like to\n",
    "# invite to dinner. Then use your list to print a message to each person, inviting\n",
    "# them to dinner.\n",
    "guests: list[str] = [\"Muqqads\",\"Hijabie\",\"Alizay\"]\n",
    "for guest in guests:\n",
    "    print(f\"Hello {guest}, I would like to invite you to dinner.\")\n",
    "\n",
    "# 3-5. Changing Guest List: You just heard that one of your guests can’t make the\n",
    "# dinner, so you need to send out a new set of invitations. You’ll have to think of\n",
    "# someone else to invite.\n",
    "# •\t Start with your program from Exercise 3-4. Add a print statement at the\n",
    "# end of your program stating the name of the guest who can’t make it.\n",
    "# •\t Modify your list, replacing the name of the guest who can’t make it with\n",
    "# the name of the new person you are inviting.\n",
    "# •\t Print a second set of invitation messages, one for each person who is still\n",
    "# in your list.\n",
    "\n",
    "print(f\"{guests[2]} can't make it to the dinner.\")\n",
    "guests[2] = \"Zyab\"\n",
    "for guest in guests:\n",
    "    print(f\"Hello {guest}, I would like to invite you to dinner.\")\n",
    "\n",
    "# 3-6. More Guests: You just found a bigger dinner table, so now more space is\n",
    "# available. Think of three more guests to invite to dinner.\n",
    "# •\t Start with your program from Exercise 3-4 or Exercise 3-5. Add a print\n",
    "# statement to the end of your program informing people that you found a\n",
    "# bigger dinner table.\n",
    "# •\t Use insert() to add one new guest to the beginning of your list.\n",
    "# •\t Use insert() to add one new guest to the middle of your list.\n",
    "# •\t Use append() to add one new guest to the end of your list.\n",
    "# •\t Print a new set of invitation messages, one for each person in your list.\n",
    "# Introducing Lists 47\n",
    "for guest in guests:\n",
    "    print(f\"Hello {guest}, I found a bigger dinner table for our dinner.\")\n",
    "\n",
    "guests.insert(0,\"Rawa\")\n",
    "guests.insert(2,\"Fajar\")\n",
    "guests.append(\"Muneeb\")\n",
    "\n",
    "for guest in guests:\n",
    "    print(f\"Hello {guest}, I would like to invite you to dinner.\")\n"
   ]
  },
  {
   "cell_type": "code",
   "execution_count": 84,
   "metadata": {},
   "outputs": [
    {
     "name": "stdout",
     "output_type": "stream",
     "text": [
      "I can invite only two people for dinner.\n",
      "Sorry Muneeb, I can't invite you to dinner.\n",
      "Sorry Zyab, I can't invite you to dinner.\n",
      "Sorry Rawa, I can't invite you to dinner.\n",
      "Sorry Fajar, I can't invite you to dinner.\n",
      "['Muqqads', 'Hijabie']\n",
      "Hello Muqqads, I would like to invite you to dinner.\n",
      "Hello Hijabie, I would like to invite you to dinner.\n",
      "[]\n"
     ]
    }
   ],
   "source": [
    "# 3-7. Shrinking Guest List: You just found out that your new dinner table won’t\n",
    "# arrive in time for the dinner, and you have space for only two guests.\n",
    "# •\t Start with your program from Exercise 3-6. Add a new line that prints a\n",
    "# message saying that you can invite only two people for dinner.\n",
    "# •\t Use pop() to remove guests from your list one at a time until only two\n",
    "# names remain in your list. Each time you pop a name from your list, print\n",
    "# a message to that person letting them know you’re sorry you can’t invite\n",
    "# them to dinner.\n",
    "# •\t Print a message to each of the two people still on your list, letting them\n",
    "# know they’re still invited.\n",
    "# •\t Use del to remove the last two names from your list, so you have an empty\n",
    "# list. Print your list to make sure you actually have an empty list at the end\n",
    "# of your program.\n",
    "\n",
    "print(\"I can invite only two people for dinner.\")\n",
    "print(f\"Sorry {guests.pop()}, I can't invite you to dinner.\")\n",
    "print(f\"Sorry {guests.pop()}, I can't invite you to dinner.\")\n",
    "print(f\"Sorry {guests.pop(0)}, I can't invite you to dinner.\")\n",
    "print(f\"Sorry {guests.pop(1)}, I can't invite you to dinner.\")\n",
    "print(guests)\n",
    "for guest in guests:\n",
    "    print(f\"Hello {guest}, I would like to invite you to dinner.\")\n",
    "del guests[0]\n",
    "del guests[0]\n",
    "print(guests)\n"
   ]
  },
  {
   "cell_type": "code",
   "execution_count": 77,
   "metadata": {},
   "outputs": [
    {
     "name": "stdout",
     "output_type": "stream",
     "text": [
      "['paris', 'london', 'new york', 'dubai', 'istanbul']\n",
      "['dubai', 'istanbul', 'london', 'new york', 'paris'] sorted\n",
      "['paris', 'london', 'new york', 'dubai', 'istanbul'] original\n",
      "['paris', 'new york', 'london', 'istanbul', 'dubai'] reversed Sorted\n",
      "['paris', 'london', 'new york', 'dubai', 'istanbul'] original\n",
      "['istanbul', 'dubai', 'new york', 'london', 'paris'] reversed\n",
      "['paris', 'london', 'new york', 'dubai', 'istanbul'] original\n",
      "['dubai', 'istanbul', 'london', 'new york', 'paris'] sorted\n",
      "['paris', 'new york', 'london', 'istanbul', 'dubai'] reversed sorted\n"
     ]
    }
   ],
   "source": [
    "# 3-8. Seeing the World: Think of at least five places in the world you’d like to\n",
    "# visit.\n",
    "# •\t Store the locations in a list. Make sure the list is not in alphabetical order.\n",
    "# •\t Print your list in its original order. Don’t worry about printing the list neatly,\n",
    "# just print it as a raw Python list.\n",
    "# •\t Use sorted() to print your list in alphabetical order without modifying the\n",
    "# actual list.\n",
    "# •\t Show that your list is still in its original order by printing it.\n",
    "# •\t Use sorted() to print your list in reverse alphabetical order without changing the order of the original list.\n",
    "# •\t Show that your list is still in its original order by printing it again.\n",
    "# •\t Use reverse() to change the order of your list. Print the list to show that its\n",
    "# order has changed.\n",
    "# •\t Use reverse() to change the order of your list again. Print the list to show\n",
    "# it’s back to its original order.\n",
    "# •\t Use sort() to change your list so it’s stored in alphabetical order. Print the\n",
    "# list to show that its order has been changed.\n",
    "# •\t Use sort() to change your list so it’s stored in reverse alphabetical order.\n",
    "# Print the list to show that its order has changed.\n",
    "\n",
    "\n",
    "places: list[str] = [\"paris\",\"london\",\"new york\",\"dubai\",\"istanbul\"]\n",
    "print(places)\n",
    "print(sorted(places), \"sorted\")\n",
    "print(places, \"original\")\n",
    "print(sorted(places, reverse=True),\"reversed Sorted\")\n",
    "print(places, \"original\")\n",
    "places.reverse()\n",
    "print(places, \"reversed\")\n",
    "places.reverse()\n",
    "print(places, \"original\")\n",
    "places.sort()\n",
    "print(places, \"sorted\")\n",
    "places.sort(reverse=True)\n",
    "print(places, \"reversed sorted\")\n"
   ]
  },
  {
   "cell_type": "code",
   "execution_count": 95,
   "metadata": {},
   "outputs": [
    {
     "name": "stdout",
     "output_type": "stream",
     "text": [
      "I am inviting 0 guests to dinner.\n",
      "['K2', 'Everest', 'Nanga Parbat', 'Himalaya']\n",
      "['Everest', 'Himalaya', 'K2', 'Nanga Parbat']\n",
      "Himalaya\n",
      "['Karakoram', 'Everest', 'Nanga Parbat']\n",
      "['Nanga Parbat', 'Everest', 'Karakoram']\n",
      "['Everest', 'Karakoram', 'Nanga Parbat']\n",
      "['Everest', 'Karakoram', 'Nanga Parbat', 'Himalaya']\n",
      "['Hindukush', 'Everest', 'Karakoram', 'Nanga Parbat', 'Himalaya']\n",
      "['Hindukush', 'Everest', 'Karakoram', 'Nanga Parbat']\n",
      "['Hindukush', 'Everest', 'Karakoram', 'Nanga Parbat', 'K2', 'Himalaya', 'Tirich Mir']\n"
     ]
    }
   ],
   "source": [
    "# 3-9. Dinner Guests: Working with one of the programs from Exercises 3-4\n",
    "# through 3-7 (page 46), use len() to print a message indicating the number\n",
    "# of people you are inviting to dinner.\n",
    "print(f\"I am inviting {len(guests)} guests to dinner.\")\n",
    "\n",
    "# 3-10. Every Function: Think of something you could store in a list. For example,\n",
    "# you could make a list of mountains, rivers, countries, cities, languages, or anything else you’d like. Write a program that creates a list containing these items\n",
    "# and then uses each function introduced in this chapter at least once.\n",
    "mountains: list[str] = [\"K2\",\"Everest\",\"Nanga Parbat\",\"Himalaya\"]\n",
    "print(mountains)\n",
    "print(sorted(mountains))\n",
    "print(mountains.pop())\n",
    "mountains[0] = \"Karakoram\"\n",
    "print(mountains)\n",
    "mountains.reverse()\n",
    "print(mountains)\n",
    "mountains.sort()\n",
    "print(mountains)\n",
    "mountains.append(\"Himalaya\")\n",
    "print(mountains)\n",
    "mountains.insert(0,\"Hindukush\")\n",
    "print(mountains)\n",
    "mountains.remove(\"Himalaya\")\n",
    "print(mountains)\n",
    "mountains2: list[str] = [\"K2\",\"Himalaya\",\"Tirich Mir\"]\n",
    "mountains.extend(mountains2)\n",
    "print(mountains)"
   ]
  },
  {
   "cell_type": "code",
   "execution_count": 13,
   "metadata": {},
   "outputs": [
    {
     "name": "stdout",
     "output_type": "stream",
     "text": [
      "5040\n"
     ]
    }
   ],
   "source": [
    "fact_num: int = 7\n",
    "num1: int = 6\n",
    "result: int = 0\n",
    "while num1>1:\n",
    "    fact_num = fact_num * num1\n",
    "    num1 -= 1\n",
    "\n",
    "print(fact_num)"
   ]
  }
 ],
 "metadata": {
  "kernelspec": {
   "display_name": "py12",
   "language": "python",
   "name": "python3"
  },
  "language_info": {
   "codemirror_mode": {
    "name": "ipython",
    "version": 3
   },
   "file_extension": ".py",
   "mimetype": "text/x-python",
   "name": "python",
   "nbconvert_exporter": "python",
   "pygments_lexer": "ipython3",
   "version": "3.12.0"
  }
 },
 "nbformat": 4,
 "nbformat_minor": 2
}
