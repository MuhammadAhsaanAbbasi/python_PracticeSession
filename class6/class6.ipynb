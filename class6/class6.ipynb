{
 "cells": [
  {
   "cell_type": "markdown",
   "metadata": {},
   "source": [
    "# Dictionaries "
   ]
  },
  {
   "cell_type": "code",
   "execution_count": 6,
   "metadata": {},
   "outputs": [
    {
     "name": "stdout",
     "output_type": "stream",
     "text": [
      "{'abc': [1, 2, 3, 4, 5, 6, 7, 8, 9, 0],\n",
      " 'age': 19,\n",
      " 'education': 'Intermediate',\n",
      " 'fName': 'Muhammad Israr Abbasi',\n",
      " 'name': 'Muhammad Ahsaan Abbasi',\n",
      " 'xyz': {0, 1, 2, 3, 4, 5, 6, 7, 8, 9}}\n",
      "Muhammad Ahsaan Abbasi\n",
      "{0, 1, 2, 3, 4, 5, 6, 7, 8, 9}\n",
      "Muhammad Israr Abbasi\n"
     ]
    }
   ],
   "source": [
    "# Dict\n",
    "import pprint\n",
    "from typing import Dict, Union\n",
    "\n",
    "key = Union[str,int]\n",
    "value = Union[str,int,float,list,set]\n",
    "profile: Dict[key, value] = {\n",
    "                            \"name\":\"Muhammad Ahsaan Abbasi\",\n",
    "                            \"fName\": \"Muhammad Israr Abbasi\",\n",
    "                            \"age\": 19,\n",
    "                            \"education\": \"Intermediate\",\n",
    "                            \"abc\": [1,2,3,4,5,6,7,8,9,0],\n",
    "                            \"xyz\": {1,2,3,4,5,6,7,8,9,0},\n",
    "}\n",
    "\n",
    "pprint.pprint(profile)\n",
    "print(profile[\"name\"])\n",
    "print(profile[\"xyz\"])\n",
    "print(profile[\"fName\"])"
   ]
  },
  {
   "cell_type": "code",
   "execution_count": 31,
   "metadata": {},
   "outputs": [
    {
     "name": "stdout",
     "output_type": "stream",
     "text": [
      "{'abc': [1, 2, 3, 4, 5, 6, 7, 8, 9, 0],\n",
      " 'age': 19,\n",
      " 'city': 'Islamabad',\n",
      " 'country': 'Pakistan',\n",
      " 'education': 'Intermediate',\n",
      " 'fName': 'Muhammad Israr Abbasi',\n",
      " 'name': 'Muhammad Ahsaan Abbasi',\n",
      " 'xyz': {0, 1, 2, 3, 4, 5, 6, 7, 8, 9}}\n",
      "{'abc': [1, 2, 3, 4, 5, 6, 7, 8, 9, 0],\n",
      " 'age': 19,\n",
      " 'city': 'Islamabad',\n",
      " 'country': 'Pakistan',\n",
      " 'education': 'Intermediate',\n",
      " 'fName': 'Muhammad Israr Abbasi',\n",
      " 'name': 'M. Ahsaan Abbasi',\n",
      " 'xyz': {0, 1, 2, 3, 4, 5, 6, 7, 8, 9}}\n"
     ]
    }
   ],
   "source": [
    "import pprint\n",
    "from typing import Dict, Union\n",
    "\n",
    "key = Union[str,int]\n",
    "value = Union[str,int,float,list,set]\n",
    "profile: Dict[key, value] = {\n",
    "                            \"name\":\"Muhammad Ahsaan Abbasi\",\n",
    "                            \"fName\": \"Muhammad Israr Abbasi\",\n",
    "                            \"age\": 19,\n",
    "                            \"education\": \"Intermediate\",\n",
    "                            \"abc\": [1,2,3,4,5,6,7,8,9,0],\n",
    "                            \"xyz\": {1,2,3,4,5,6,7,8,9,0},\n",
    "}\n",
    "\n",
    "profile[\"country\"] = \"Pakistan\"\n",
    "profile[\"city\"] = \"Islamabad\"\n",
    "pprint.pprint(profile)\n",
    "profile[\"name\"] = \"M. Ahsaan Abbasi\"\n",
    "pprint.pprint(profile)"
   ]
  },
  {
   "cell_type": "code",
   "execution_count": 32,
   "metadata": {},
   "outputs": [
    {
     "name": "stdout",
     "output_type": "stream",
     "text": [
      "NA\n"
     ]
    },
    {
     "data": {
      "text/plain": [
       "['clear',\n",
       " 'copy',\n",
       " 'fromkeys',\n",
       " 'get',\n",
       " 'items',\n",
       " 'keys',\n",
       " 'pop',\n",
       " 'popitem',\n",
       " 'setdefault',\n",
       " 'update',\n",
       " 'values']"
      ]
     },
     "execution_count": 32,
     "metadata": {},
     "output_type": "execute_result"
    }
   ],
   "source": [
    "# Functions and Methods of Dict\n",
    "# 1. get()\n",
    "print(profile.get(\"pakistan\",\"NA\"))\n",
    "[i for i in dir(profile) if \"__\" not in i] # List Comprehension"
   ]
  },
  {
   "cell_type": "code",
   "execution_count": 33,
   "metadata": {},
   "outputs": [
    {
     "name": "stdout",
     "output_type": "stream",
     "text": [
      "{'name': 'Muhammad Ahsaan Abbasi', 'fName': 'Muhammad Israr Abbasi', 'age': 19, 'education': 'Intermediate', 'abc': [1, 2, 3, 4, 5, 6, 7, 8, 9, 0], 'xyz': {0, 1, 2, 3, 4, 5, 6, 7, 8, 9}, 'country': 'Pakistan', 'city': 'Islamabad'}\n"
     ]
    },
    {
     "data": {
      "text/plain": [
       "['clear',\n",
       " 'copy',\n",
       " 'fromkeys',\n",
       " 'get',\n",
       " 'items',\n",
       " 'keys',\n",
       " 'pop',\n",
       " 'popitem',\n",
       " 'setdefault',\n",
       " 'update',\n",
       " 'values']"
      ]
     },
     "execution_count": 33,
     "metadata": {},
     "output_type": "execute_result"
    }
   ],
   "source": [
    "# Functions and Methods of Dict\n",
    "# 2. copy()\n",
    "a = profile.copy()\n",
    "a[\"name\"] = \"Muhammad Ahsaan Abbasi\"\n",
    "print(a)\n",
    "[i for i in dir(profile) if \"__\" not in i] # List Comprehension"
   ]
  },
  {
   "cell_type": "code",
   "execution_count": 29,
   "metadata": {},
   "outputs": [
    {
     "name": "stdout",
     "output_type": "stream",
     "text": [
      "{}\n"
     ]
    },
    {
     "data": {
      "text/plain": [
       "['clear',\n",
       " 'copy',\n",
       " 'fromkeys',\n",
       " 'get',\n",
       " 'items',\n",
       " 'keys',\n",
       " 'pop',\n",
       " 'popitem',\n",
       " 'setdefault',\n",
       " 'update',\n",
       " 'values']"
      ]
     },
     "execution_count": 29,
     "metadata": {},
     "output_type": "execute_result"
    }
   ],
   "source": [
    "# Functions and Methods of Dict\n",
    "# 3. clear()\n",
    "profile.clear()\n",
    "print(profile)\n",
    "[i for i in dir(profile) if \"__\" not in i] # List Comprehension"
   ]
  },
  {
   "cell_type": "code",
   "execution_count": 43,
   "metadata": {},
   "outputs": [
    {
     "name": "stdout",
     "output_type": "stream",
     "text": [
      "dict_keys(['name', 'fName', 'age', 'education', 'abc', 'xyz'])\n",
      "name\n",
      "\n",
      "fName\n",
      "\n",
      "age\n",
      "\n",
      "education\n",
      "\n",
      "abc\n",
      "\n",
      "xyz\n",
      "\n",
      "dict_values(['Muhammad Ahsaan Abbasi', 'Muhammad Israr Abbasi', 19, 'Intermediate', [1, 2, 3, 4, 5, 6, 7, 8, 9, 0], {0, 1, 2, 3, 4, 5, 6, 7, 8, 9}])\n",
      "Muhammad Ahsaan Abbasi\n",
      "\n",
      "Muhammad Israr Abbasi\n",
      "\n",
      "19\n",
      "\n",
      "Intermediate\n",
      "\n",
      "[1, 2, 3, 4, 5, 6, 7, 8, 9, 0]\n",
      "\n",
      "{0, 1, 2, 3, 4, 5, 6, 7, 8, 9}\n",
      "\n",
      "dict_items([('name', 'Muhammad Ahsaan Abbasi'), ('fName', 'Muhammad Israr Abbasi'), ('age', 19), ('education', 'Intermediate'), ('abc', [1, 2, 3, 4, 5, 6, 7, 8, 9, 0]), ('xyz', {0, 1, 2, 3, 4, 5, 6, 7, 8, 9})])\n",
      "name = Muhammad Ahsaan Abbasi\n",
      "\n",
      "fName = Muhammad Israr Abbasi\n",
      "\n",
      "age = 19\n",
      "\n",
      "education = Intermediate\n",
      "\n",
      "abc = [1, 2, 3, 4, 5, 6, 7, 8, 9, 0]\n",
      "\n",
      "xyz = {0, 1, 2, 3, 4, 5, 6, 7, 8, 9}\n",
      "\n"
     ]
    },
    {
     "data": {
      "text/plain": [
       "['clear',\n",
       " 'copy',\n",
       " 'fromkeys',\n",
       " 'get',\n",
       " 'items',\n",
       " 'keys',\n",
       " 'pop',\n",
       " 'popitem',\n",
       " 'setdefault',\n",
       " 'update',\n",
       " 'values']"
      ]
     },
     "execution_count": 43,
     "metadata": {},
     "output_type": "execute_result"
    }
   ],
   "source": [
    "# Functions and Methods of Dict\n",
    "# 4. keys() and values() and items() \n",
    "key = Union[str,int]\n",
    "value = Union[str,int,float,list,set]\n",
    "profile: Dict[key, value] = {\n",
    "                            \"name\":\"Muhammad Ahsaan Abbasi\",\n",
    "                            \"fName\": \"Muhammad Israr Abbasi\",\n",
    "                            \"age\": 19,\n",
    "                            \"education\": \"Intermediate\",\n",
    "                            \"abc\": [1,2,3,4,5,6,7,8,9,0],\n",
    "                            \"xyz\": {1,2,3,4,5,6,7,8,9,0},\n",
    "}\n",
    "# keys()\n",
    "print(profile.keys())\n",
    "for k in profile.keys():\n",
    "    print(f\"{k}\\n\")\n",
    "# values()\n",
    "print(profile.values())\n",
    "for v in profile.values():\n",
    "    print(f\"{v}\\n\")\n",
    "# items()\n",
    "print(profile.items())\n",
    "for k,v in profile.items():\n",
    "    print(f\"{k} = {v}\\n\")\n",
    "\n",
    "[i for i in dir(profile) if \"__\" not in i] # List Comprehension"
   ]
  },
  {
   "cell_type": "code",
   "execution_count": 48,
   "metadata": {},
   "outputs": [
    {
     "name": "stdout",
     "output_type": "stream",
     "text": [
      "Muhammad Ahsaan Abbasi\n",
      "('xyz', {0, 1, 2, 3, 4, 5, 6, 7, 8, 9})\n"
     ]
    },
    {
     "data": {
      "text/plain": [
       "['clear',\n",
       " 'copy',\n",
       " 'fromkeys',\n",
       " 'get',\n",
       " 'items',\n",
       " 'keys',\n",
       " 'pop',\n",
       " 'popitem',\n",
       " 'setdefault',\n",
       " 'update',\n",
       " 'values']"
      ]
     },
     "execution_count": 48,
     "metadata": {},
     "output_type": "execute_result"
    }
   ],
   "source": [
    "# Functions and Methods of Dict\n",
    "# 5. pop() and popitem()\n",
    "a = profile.pop(\"name\")\n",
    "print(a)\n",
    "b = profile.popitem()\n",
    "print(b)\n",
    "[i for i in dir(profile) if \"__\" not in i] # List Comprehension"
   ]
  },
  {
   "cell_type": "code",
   "execution_count": 51,
   "metadata": {},
   "outputs": [
    {
     "name": "stdout",
     "output_type": "stream",
     "text": [
      "{'abc': [1, 2, 3, 4, 5, 6, 7, 8, 9, 0],\n",
      " 'age': 20,\n",
      " 'education': 'Intermediate',\n",
      " 'fName': 'Muhammad Israr Abbasi',\n",
      " 'name': 'Muhammad Ahsaan Abbasi',\n",
      " 'xyz': {0, 1, 2, 3, 4, 5, 6, 7, 8, 9}}\n"
     ]
    }
   ],
   "source": [
    "# Functions and Methods of Dict\n",
    "# 6. update()\n",
    "data2: Dict[key, value] = {\n",
    "                            \"name\":\"Muhammad Ahsaan Abbasi\",\n",
    "                            \"fName\": \"Muhammad Israr Abbasi\",\n",
    "                            \"age\": 20,\n",
    "                            \"education\": \"Intermediate\",\n",
    "                            \"abc\": [1,2,3,4,5,6,7,8,9,0],\n",
    "                            \"xyz\": {1,2,3,4,5,6,7,8,9,0},\n",
    "}   \n",
    "profile.update(data2)\n",
    "pprint.pprint(profile)\n",
    "[i for i in dir(profile) if \"__\" not in i] # List Comprehension"
   ]
  },
  {
   "cell_type": "code",
   "execution_count": 67,
   "metadata": {},
   "outputs": [
    {
     "name": "stdout",
     "output_type": "stream",
     "text": [
      "{}\n",
      "{'id': 'NA', 'name': 'NA', 'fname': 'NA', 'course': 'NA'}\n"
     ]
    },
    {
     "data": {
      "text/plain": [
       "['clear',\n",
       " 'copy',\n",
       " 'fromkeys',\n",
       " 'get',\n",
       " 'items',\n",
       " 'keys',\n",
       " 'pop',\n",
       " 'popitem',\n",
       " 'setdefault',\n",
       " 'update',\n",
       " 'values']"
      ]
     },
     "execution_count": 67,
     "metadata": {},
     "output_type": "execute_result"
    }
   ],
   "source": [
    "# Functions and Methods of Dict\n",
    "# 7. fromkeys()\n",
    "\n",
    "keys: list[str] = ['id', \"name\", \"fname\", \"course\"]\n",
    "data: dict[key, value] = {}\n",
    "print(data)\n",
    "data = data.fromkeys(keys,\"NA\")\n",
    "print(data)\n",
    "[i for i in dir(profile) if \"__\" not in i] # List Comprehension"
   ]
  },
  {
   "cell_type": "code",
   "execution_count": 69,
   "metadata": {},
   "outputs": [
    {
     "name": "stdout",
     "output_type": "stream",
     "text": [
      "Ahsaan Abbasi\n",
      "{'id': 'NA', 'name': 'NA', 'fname': 'NA', 'course': 'NA', 'college': 'Ahsaan Abbasi'}\n"
     ]
    }
   ],
   "source": [
    "# Functions and Methods of Dict\n",
    "# 8. setdefault()\n",
    "a = data.setdefault(\"college\",\"Ahsaan Abbasi\")\n",
    "print(a)\n",
    "print(data)"
   ]
  },
  {
   "cell_type": "code",
   "execution_count": 10,
   "metadata": {},
   "outputs": [
    {
     "name": "stdout",
     "output_type": "stream",
     "text": [
      "Muhammad Ahsaan\n",
      "Abbasi\n",
      "19\n",
      "Karachi\n",
      "Ahsaan favorite number is 19\n",
      "Okasha favorite number is 20\n",
      "Ali favorite number is 21\n",
      "Ahmed favorite number is 22\n",
      "Hamza favorite number is 23\n"
     ]
    }
   ],
   "source": [
    "# 6-1. Person: Use a dictionary to store information about a person you know.\n",
    "# Store their first name, last name, age, and the city in which they live. You\n",
    "# should have keys such as first_name, last_name, age, and city. Print each\n",
    "# piece of information stored in your dictionary.\n",
    "person_info: Dict[key, value] = {\n",
    "                                \"first_name\": \"Muhammad Ahsaan\",\n",
    "                                \"last_name\": \"Abbasi\",\n",
    "                                \"age\": 19,\n",
    "                                \"city\": \"Karachi\",\n",
    "}\n",
    "print(person_info[\"first_name\"])\n",
    "print(person_info[\"last_name\"])\n",
    "print(person_info[\"age\"])\n",
    "print(person_info[\"city\"])\n",
    "\n",
    "# 6-2. Favorite Numbers: Use a dictionary to store people’s favorite numbers.\n",
    "# Think of five names, and use them as keys in your dictionary. Think of a favorite\n",
    "# number for each person, and store each as a value in your dictionary. Print\n",
    "# each person’s name and their favorite number. For even more fun, poll a few\n",
    "# friends and get some actual data for your program.\n",
    "favorite_numbers: Dict[key, value] = {\n",
    "                                    \"Ahsaan\": 19,\n",
    "                                    \"Okasha\": 20,\n",
    "                                    \"Ali\": 21,\n",
    "                                    \"Ahmed\": 22,\n",
    "                                    \"Hamza\": 23,\n",
    "}\n",
    "for name, number in favorite_numbers.items():\n",
    "    print(f\"{name} favorite number is {number}\")\n"
   ]
  },
  {
   "cell_type": "code",
   "execution_count": 12,
   "metadata": {},
   "outputs": [
    {
     "name": "stdout",
     "output_type": "stream",
     "text": [
      "List:\n",
      "List is a collection which is ordered and changeable. Allows duplicate members.\n",
      "\n",
      "Tuple:\n",
      "A tuple is a collection which is ordered and unchangeable. In Python tuples are written with round brackets.\n",
      "\n",
      "Set:\n",
      "A set is a collection which is unordered and unindexed. In Python sets are written with curly brackets.\n",
      "\n",
      "Dictionary:\n",
      "A dictionary is a collection which is unordered, changeable and indexed. In Python dictionaries are written with curly brackets, and they have keys and values.\n",
      "\n",
      "If-Else:\n",
      "The if…elif…else statement is used in Python for decision making.\n",
      "\n"
     ]
    }
   ],
   "source": [
    "# 6-3. Glossary: A Python dictionary can be used to model an actual dictionary.\n",
    "# However, to avoid confusion, let’s call it a glossary.\n",
    "# •\t Think of five programming words you’ve learned about in the previous\n",
    "# chapters. Use these words as the keys in your glossary, and store their\n",
    "# meanings as values.\n",
    "# •\t Print each word and its meaning as neatly formatted output. You might\n",
    "# print the word followed by a colon and then its meaning, or print the word\n",
    "# on one line and then print its meaning indented on a second line. Use the\n",
    "# newline character (\\n) to insert a blank line between each word-meaning\n",
    "# pair in your output.\n",
    "glossary: Dict[key, value] = {\n",
    "                                    \"List\": \"List is a collection which is ordered and changeable. Allows duplicate members.\",\n",
    "                                    \"Tuple\": \"A tuple is a collection which is ordered and unchangeable. In Python tuples are written with round brackets.\",\n",
    "                                    \"Set\": \"A set is a collection which is unordered and unindexed. In Python sets are written with curly brackets.\",\n",
    "                                    \"Dictionary\": \"A dictionary is a collection which is unordered, changeable and indexed. In Python dictionaries are written with curly brackets, and they have keys and values.\",\n",
    "                                    \"If-Else\": \"The if…elif…else statement is used in Python for decision making.\",\n",
    "}\n",
    "for w, m in glossary.items():\n",
    "    print(f\"{w}:\\n{m}\\n\")"
   ]
  },
  {
   "cell_type": "code",
   "execution_count": 70,
   "metadata": {},
   "outputs": [
    {
     "name": "stdout",
     "output_type": "stream",
     "text": [
      "List:\n",
      "List is a collection which is ordered and changeable. Allows duplicate members.\n",
      "\n",
      "Tuple:\n",
      "A tuple is a collection which is ordered and unchangeable. In Python tuples are written with round brackets.\n",
      "\n",
      "Set:\n",
      "A set is a collection which is unordered and unindexed. In Python sets are written with curly brackets.\n",
      "\n",
      "Dictionary:\n",
      "A dictionary is a collection which is unordered, changeable and indexed. In Python dictionaries are written with curly brackets, and they have keys and values.\n",
      "\n",
      "If-Else:\n",
      "The if…elif…else statement is used in Python for decision making.\n",
      "\n",
      "function:\n",
      "A function is a block of code which only runs when it is called.\n",
      "\n",
      "loop:\n",
      "Python has two primitive loop commands: while loops and for loops.\n",
      "\n",
      "class:\n",
      "Python is an object oriented programming language.\n",
      "\n",
      "object:\n",
      "Almost everything in Python is an object, with its properties and methods.\n",
      "\n",
      "module:\n",
      "Consider a module to be the same as a code library.\n",
      "\n"
     ]
    }
   ],
   "source": [
    "# 6-4. Glossary 2: Now that you know how to loop through a dictionary, clean\n",
    "# up the code from Exercise 6-3 (page 102) by replacing your series of print\n",
    "# statements with a loop that runs through the dictionary’s keys and values.\n",
    "# When you’re sure that your loop works, add five more Python terms to your\n",
    "# glossary. When you run your program again, these new words and meanings\n",
    "# should automatically be included in the output\n",
    "glossary: Dict[key, value] = {\n",
    "                                    \"List\": \"List is a collection which is ordered and changeable. Allows duplicate members.\",\n",
    "                                    \"Tuple\": \"A tuple is a collection which is ordered and unchangeable. In Python tuples are written with round brackets.\",\n",
    "                                    \"Set\": \"A set is a collection which is unordered and unindexed. In Python sets are written with curly brackets.\",\n",
    "                                    \"Dictionary\": \"A dictionary is a collection which is unordered, changeable and indexed. In Python dictionaries are written with curly brackets, and they have keys and values.\",\n",
    "                                    \"If-Else\": \"The if…elif…else statement is used in Python for decision making.\",\n",
    "}\n",
    "glossary[\"function\"] = \"A function is a block of code which only runs when it is called.\"\n",
    "glossary[\"loop\"] = \"Python has two primitive loop commands: while loops and for loops.\"\n",
    "glossary[\"class\"] = \"Python is an object oriented programming language.\"\n",
    "glossary[\"object\"] = \"Almost everything in Python is an object, with its properties and methods.\"\n",
    "glossary[\"module\"] = \"Consider a module to be the same as a code library.\"\n",
    "for w, m in glossary.items():\n",
    "    print(f\"{w}:\\n{m}\\n\")"
   ]
  },
  {
   "cell_type": "code",
   "execution_count": 72,
   "metadata": {},
   "outputs": [
    {
     "name": "stdout",
     "output_type": "stream",
     "text": [
      "The nile runs through egypt\n",
      "The indus runs through pakistan\n",
      "The amazon runs through brazil\n",
      "Thanks for responding jen\n",
      "\n",
      "Thanks for responding sarah\n",
      "\n",
      "Thanks for responding edward\n",
      "\n",
      "Thanks for responding phil\n",
      "\n",
      "ahmed please take the poll\n",
      "\n",
      "ali please take the poll\n",
      "\n",
      "hamza please take the poll\n",
      "\n"
     ]
    }
   ],
   "source": [
    "# 6-5. Rivers: Make a dictionary containing three major rivers and the country\n",
    "# each river runs through. One key-value pair might be 'nile': 'egypt'.\n",
    "# •\t Use a loop to print a sentence about each river, such as The Nile runs\n",
    "# through Egypt.\n",
    "# •\t Use a loop to print the name of each river included in the dictionary.\n",
    "# •\t Use a loop to print the name of each country included in the dictionary\n",
    "rivers: Dict[key, value] = {\n",
    "                            \"nile\": \"egypt\",\n",
    "                            \"indus\": \"pakistan\",\n",
    "                            \"amazon\": \"brazil\",\n",
    "}\n",
    "for river, country in rivers.items():\n",
    "    print(f\"The {river} runs through {country}\")\n",
    "\n",
    "# 6-6. Polling: Use the code in favorite_languages.py (page 104).\n",
    "# •\t Make a list of people who should take the favorite languages poll. Include\n",
    "# some names that are already in the dictionary and some that are not.\n",
    "# •\t Loop through the list of people who should take the poll. If they have\n",
    "# already taken the poll, print a message thanking them for responding.\n",
    "# If they have not yet taken the poll, print a message inviting them to take\n",
    "# the poll.\n",
    "favorite_languages: Dict[key, value] = {\n",
    "                                        \"jen\": \"python\",\n",
    "                                        \"sarah\": \"c\",\n",
    "                                        \"edward\": \"ruby\",\n",
    "                                        \"phil\": \"python\",\n",
    "}\n",
    "people = [\"jen\", \"sarah\", \"edward\", \"phil\", \"ahmed\", \"ali\", \"hamza\"]\n",
    "for person in people:\n",
    "    if person in favorite_languages.keys():\n",
    "        print(f\"Thanks for responding {person}\\n\")\n",
    "    else:\n",
    "        print(f\"{person} please take the poll\\n\")\n",
    "\n"
   ]
  },
  {
   "cell_type": "code",
   "execution_count": 75,
   "metadata": {},
   "outputs": [
    {
     "name": "stdout",
     "output_type": "stream",
     "text": [
      "{'first_name': 'Muhammad Ahsaan', 'last_name': 'Abbasi', 'age': 19, 'city': 'Karachi'}\n",
      "\n",
      "{'first_name': 'Zyab', 'last_name': 'Rizwan', 'age': 49, 'city': 'Karachi'}\n",
      "\n",
      "{'first_name': 'Ali', 'last_name': 'Raza', 'age': 29, 'city': 'Karachi'}\n",
      "\n"
     ]
    }
   ],
   "source": [
    "# 6-7. People: Start with the program you wrote for Exercise 6-1 (page 102).\n",
    "# Make two new dictionaries representing different people, and store all three\n",
    "# dictionaries in a list called people. Loop through your list of people. As you\n",
    "# loop through the list, print everything you know about each person\n",
    "person1: Dict[key, value] = {\n",
    "                            \"first_name\": \"Muhammad Ahsaan\",\n",
    "                            \"last_name\": \"Abbasi\",\n",
    "                            \"age\": 19,\n",
    "                            \"city\": \"Karachi\",\n",
    "}\n",
    "person2: Dict[key, value] = {\n",
    "                            \"first_name\": \"Zyab\",\n",
    "                            \"last_name\": \"Rizwan\",\n",
    "                            \"age\": 49,\n",
    "                            \"city\": \"Karachi\",\n",
    "}\n",
    "person3: Dict[key, value] = {\n",
    "                            \"first_name\": \"Ali\",\n",
    "                            \"last_name\": \"Raza\",\n",
    "                            \"age\": 29,\n",
    "                            \"city\": \"Karachi\",\n",
    "} \n",
    "\n",
    "people = [person1, person2, person3]\n",
    "for person in people:\n",
    "    print(f\"{person}\\n\")"
   ]
  },
  {
   "cell_type": "code",
   "execution_count": 86,
   "metadata": {},
   "outputs": [
    {
     "name": "stdout",
     "output_type": "stream",
     "text": [
      "{'kind': 'dog', 'owner': 'Ahsaan'}\n",
      "\n",
      "{'kind': 'cat', 'owner': 'Hijabie'}\n",
      "\n",
      "{'kind': 'parrot', 'owner': 'Ali'}\n",
      "\n",
      "Ahsaan favorite places are ['Karachi', 'Islamabad', 'Lahore']\n",
      "\n",
      "Karachi\n",
      "Islamabad\n",
      "Lahore\n",
      "Hijabie favorite places are ['Istanbul', 'Ankara', 'Izmir']\n",
      "\n",
      "Istanbul\n",
      "Ankara\n",
      "Izmir\n",
      "Rawa favorite places are ['Islamabad', 'Hyderabad', 'Karachi']\n",
      "\n",
      "Islamabad\n",
      "Hyderabad\n",
      "Karachi\n"
     ]
    }
   ],
   "source": [
    "# 6-8. Pets: Make several dictionaries, where the name of each dictionary is the\n",
    "# name of a pet. In each dictionary, include the kind of animal and the owner’s\n",
    "# name. Store these dictionaries in a list called pets. Next, loop through your list\n",
    "# and as you do print everything you know about each pet.\n",
    "\n",
    "\n",
    "from typing import Any\n",
    "\n",
    "\n",
    "pet1: Dict[key, value] = {\n",
    "                        \"kind\": \"dog\",\n",
    "                        \"owner\": \"Ahsaan\",\n",
    "}\n",
    "pet2: Dict[key, value] = {\n",
    "                        \"kind\": \"cat\",\n",
    "                        \"owner\": \"Hijabie\",\n",
    "}\n",
    "pet3: Dict[key, value] = {\n",
    "                        \"kind\": \"parrot\",\n",
    "                        \"owner\": \"Ali\",\n",
    "}\n",
    "pets: list[Dict[key, value]] = [pet1, pet2, pet3]\n",
    "for pet in pets:\n",
    "    print(f\"{pet}\\n\")\n",
    "\n",
    "# 6-9. Favorite Places: Make a dictionary called favorite_places. Think of three\n",
    "# names to use as keys in the dictionary, and store one to three favorite places\n",
    "# for each person. To make this exercise a bit more interesting, ask some friends\n",
    "# to name a few of their favorite places. Loop through the dictionary, and print\n",
    "# each person’s name and their favorite places\n",
    "key = str | int\n",
    "value = str | list | set | dict[str,str]\n",
    "favorite_places: dict[key, value] = {\n",
    "                                    \"Ahsaan\": [\"Karachi\", \"Islamabad\", \"Lahore\"],\n",
    "                                    \"Hijabie\" : [\"Istanbul\", \"Ankara\", \"Izmir\"],\n",
    "                                    \"Rawa\" : [\"Islamabad\", \"Hyderabad\", \"Karachi\"],\n",
    "}\n",
    "\n",
    "for row in favorite_places.items():\n",
    "    name, cities = row\n",
    "    print(f\"{name} favorite places are {cities}\\n\")\n",
    "    for place in cities:\n",
    "        print(place)"
   ]
  },
  {
   "cell_type": "code",
   "execution_count": 88,
   "metadata": {},
   "outputs": [
    {
     "name": "stdout",
     "output_type": "stream",
     "text": [
      "Ahsaan favorite numbers are\n",
      "\n",
      "19\n",
      "20\n",
      "21\n",
      "Okasha favorite numbers are\n",
      "\n",
      "20\n",
      "21\n",
      "22\n",
      "Ali favorite numbers are\n",
      "\n",
      "21\n",
      "22\n",
      "23\n",
      "Ahmed favorite numbers are\n",
      "\n",
      "22\n",
      "23\n",
      "24\n",
      "Hamza favorite numbers are\n",
      "\n",
      "23\n",
      "24\n",
      "25\n"
     ]
    }
   ],
   "source": [
    "# 6-10. Favorite Numbers: Modify your program from Exercise 6-2 (page 102) so\n",
    "# each person can have more than one favorite number. Then print each person’s\n",
    "# name along with their favorite numbers.\n",
    "favorite_numbers: Dict[key, value] = {\n",
    "                                    \"Ahsaan\": [19, 20, 21],\n",
    "                                    \"Okasha\": [20, 21, 22],\n",
    "                                    \"Ali\": [21, 22, 23],\n",
    "                                    \"Ahmed\": [22, 23, 24],\n",
    "                                    \"Hamza\": [23, 24, 25],\n",
    "}\n",
    "for name, numbers in favorite_numbers.items():\n",
    "    print(f\"{name} favorite numbers are\\n\")\n",
    "    for number in numbers:\n",
    "        print(f\"{number}\")"
   ]
  },
  {
   "cell_type": "code",
   "execution_count": 93,
   "metadata": {},
   "outputs": [
    {
     "name": "stdout",
     "output_type": "stream",
     "text": [
      "Karachi information is\n",
      "\n",
      "country : Pakistan\n",
      "\n",
      "population : 14.91 million\n",
      "\n",
      "fact : Karachi is the largest city of Pakistan\n",
      "\n",
      "Istanbul information is\n",
      "\n",
      "country : Turkey\n",
      "\n",
      "population : 15.07 million\n",
      "\n",
      "fact : Istanbul is the largest city of Turkey\n",
      "\n",
      "Madina information is\n",
      "\n",
      "country : Saudi Arabia\n",
      "\n",
      "population : 1.1 million\n",
      "\n",
      "fact : Madina is the second holiest city of Islam\n",
      "\n"
     ]
    }
   ],
   "source": [
    "from typing import Union\n",
    "# 6-11. Cities: Make a dictionary called cities. Use the names of three cities as\n",
    "# keys in your dictionary. Create a dictionary of information about each city and\n",
    "# include the country that the city is in, its approximate population, and one fact\n",
    "# about that city. The keys for each city’s dictionary should be something like\n",
    "# country, population, and fact. Print the name of each city and all of the information you have stored about it.\n",
    "key2 = str \n",
    "value2 = dict[str, str]\n",
    "cities: dict[key2, value2] = {\n",
    "                            \"Karachi\": {\n",
    "                                        \"country\": \"Pakistan\",\n",
    "                                        \"population\": \"14.91 million\",\n",
    "                                        \"fact\": \"Karachi is the largest city of Pakistan\",\n",
    "                            },\n",
    "                            \"Istanbul\": {\n",
    "                                        \"country\": \"Turkey\",\n",
    "                                        \"population\": \"15.07 million\",\n",
    "                                        \"fact\": \"Istanbul is the largest city of Turkey\",\n",
    "                            },\n",
    "                            \"Madina\": {\n",
    "                                        \"country\": \"Saudi Arabia\",\n",
    "                                        \"population\": \"1.1 million\",\n",
    "                                        \"fact\": \"Madina is the second holiest city of Islam\",\n",
    "                            },\n",
    "}\n",
    "\n",
    "for city, info in cities.items():\n",
    "    print(f\"{city} information is\\n\")\n",
    "    for key, value in info.items():\n",
    "        print(f\"{key} : {value}\\n\")"
   ]
  },
  {
   "cell_type": "code",
   "execution_count": 96,
   "metadata": {},
   "outputs": [
    {
     "name": "stdout",
     "output_type": "stream",
     "text": [
      "Name:Ahsaan Father Name:M.Israr Age:19\n",
      "\n",
      "Name:Hijabie Father Name:M.Arshad Age:20\n",
      "\n",
      "Name:Alizay Father Name:Raza Age:21\n",
      "\n",
      "Name:Zyab Father Name:Rizwan Age:22\n",
      "\n"
     ]
    }
   ],
   "source": [
    "# 6-12. Extensions: We’re now working with examples that are complex enough\n",
    "# that they can be extended in any number of ways. Use one of the example programs from this chapter, and extend it by adding new keys and values, changing the context of the program or improving the formatting of the output\n",
    "name: list[str] = [\"Ahsaan\", \"Hijabie\", \"Alizay\", \"Zyab\"]\n",
    "fname: list[str] = [\"M.Israr\", \"M.Arshad\", \"Raza\", \"Rizwan\"]\n",
    "age: list[int] = [19, 20, 21, 22]\n",
    "# list(zip(name, fname, age))\n",
    "for n, f, a in zip(name, fname, age):\n",
    "    print(f\"Name:{n} Father Name:{f} Age:{a}\\n\")"
   ]
  }
 ],
 "metadata": {
  "kernelspec": {
   "display_name": "py12",
   "language": "python",
   "name": "python3"
  },
  "language_info": {
   "codemirror_mode": {
    "name": "ipython",
    "version": 3
   },
   "file_extension": ".py",
   "mimetype": "text/x-python",
   "name": "python",
   "nbconvert_exporter": "python",
   "pygments_lexer": "ipython3",
   "version": "3.12.0"
  }
 },
 "nbformat": 4,
 "nbformat_minor": 2
}
