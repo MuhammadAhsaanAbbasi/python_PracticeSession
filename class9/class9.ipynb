{
 "cells": [
  {
   "cell_type": "code",
   "execution_count": 1,
   "metadata": {},
   "outputs": [
    {
     "name": "stdout",
     "output_type": "stream",
     "text": [
      "Hello World!\n"
     ]
    }
   ],
   "source": [
    "print(\"Hello World!\")"
   ]
  },
  {
   "cell_type": "markdown",
   "metadata": {},
   "source": [
    "# Mutable & Immutable Objects "
   ]
  },
  {
   "cell_type": "code",
   "execution_count": 7,
   "metadata": {},
   "outputs": [
    {
     "name": "stdout",
     "output_type": "stream",
     "text": [
      "The value of num is 6 and address is 140725840136792\n",
      "The value of num is 5 and address is 140725840136760\n",
      "6\n",
      "140725840136792\n"
     ]
    }
   ],
   "source": [
    "a: int = 6\n",
    "def abc(num: int) -> None:\n",
    "    print(f\"The value of num is {num} and address is {id(num)}\")\n",
    "    num = 5\n",
    "    print(f\"The value of num is {num} and address is {id(num)}\")\n",
    "\n",
    "abc(a)\n",
    "print(a)\n",
    "b: int = 6\n",
    "print(id(b))"
   ]
  },
  {
   "cell_type": "code",
   "execution_count": 6,
   "metadata": {},
   "outputs": [
    {
     "name": "stdout",
     "output_type": "stream",
     "text": [
      "The value of num is [1, 2, 3, 4, 5] and address is 2109007483264\n",
      "The value of num is [1, 2, 3, 4, 5, 6] and address is 2109007483264\n",
      "[1, 2, 3, 4, 5, 6]\n"
     ]
    }
   ],
   "source": [
    "num_list: list[int] = [1, 2, 3, 4, 5]\n",
    "def abc_list(num: list[int]) -> None:\n",
    "    print(f\"The value of num is {num} and address is {id(num)}\")\n",
    "    num.append(6)\n",
    "    print(f\"The value of num is {num} and address is {id(num)}\")\n",
    "\n",
    "abc_list(num_list)\n",
    "print(num_list)"
   ]
  },
  {
   "cell_type": "code",
   "execution_count": 9,
   "metadata": {},
   "outputs": [
    {
     "name": "stdout",
     "output_type": "stream",
     "text": [
      "Before the value of x is 10 and address is 140725840136920\n",
      "After the value of x is 15 and address is 140725840137080\n",
      "Before the value of num_list is [1, 2, 3, 4, 5] and address is 2109007456256\n",
      "After the value of num_list is [1, 2, 3, 4, 5, 5] and address is 2109007456256\n"
     ]
    }
   ],
   "source": [
    "x = 10\n",
    "print(f\"Before the value of x is {x} and address is {id(x)}\")\n",
    "x += 5\n",
    "print(f\"After the value of x is {x} and address is {id(x)}\")\n",
    "\n",
    "num_list: list[int] = [1, 2, 3, 4, 5]\n",
    "print(f\"Before the value of num_list is {num_list} and address is {id(num_list)}\")\n",
    "num_list.append(5)\n",
    "print(f\"After the value of num_list is {num_list} and address is {id(num_list)}\")"
   ]
  },
  {
   "cell_type": "code",
   "execution_count": 11,
   "metadata": {},
   "outputs": [
    {
     "name": "stdout",
     "output_type": "stream",
     "text": [
      "Before the value of num_list is [1, 2, 3, 4, 5] and address is 2109007483264\n",
      "Inside the function the value of nums is [6, 7, 8, 9, 10, 11] and address is 2109009177792\n",
      "After the value of num_list is [1, 2, 3, 4, 5] and address is 2109007483264\n"
     ]
    }
   ],
   "source": [
    "num_list: list[int] = [1, 2, 3, 4, 5]\n",
    "def xyz(nums: list[int]) -> None:\n",
    "    nums = [6,7,8,9,10]\n",
    "    nums.append(11)\n",
    "    print(f\"Inside the function the value of nums is {nums} and address is {id(nums)}\")\n",
    "\n",
    "print(f\"Before the value of num_list is {num_list} and address is {id(num_list)}\")\n",
    "xyz(num_list)\n",
    "print(f\"After the value of num_list is {num_list} and address is {id(num_list)}\")"
   ]
  },
  {
   "cell_type": "markdown",
   "metadata": {},
   "source": [
    "# Error Handing \n",
    "```\n",
    "    try:\n",
    "        logic\n",
    "    except (error_class, error_class, ...error_class):\n",
    "        if Error accured then run\n",
    "    else:\n",
    "        if error not accured\n",
    "    finally:\n",
    "        always run\n",
    "```"
   ]
  },
  {
   "cell_type": "code",
   "execution_count": 14,
   "metadata": {},
   "outputs": [
    {
     "name": "stdout",
     "output_type": "stream",
     "text": [
      "1\n"
     ]
    }
   ],
   "source": [
    "# Development Error - 1\n",
    "# def abc(num: int) -> None:\n",
    "#     print(f\"The value of num is {num} and address is {id(num)}\")\n",
    "#     num = \"Hello\"\n",
    "\n",
    "# Logical Error - 1\n",
    "def abc(num:int)->None:\n",
    "    print(num%2)\n",
    "\n",
    "abc(15)"
   ]
  },
  {
   "cell_type": "code",
   "execution_count": 18,
   "metadata": {},
   "outputs": [
    {
     "name": "stdout",
     "output_type": "stream",
     "text": [
      "10\n",
      "19\n"
     ]
    }
   ],
   "source": [
    "# Runtime Error - 1\n",
    "user_input: int = int(input(\"Enter a number: \"))\n",
    "def abc(num:int)->None:\n",
    "    # print(num/0)\n",
    "    print(num)\n",
    "\n",
    "abc(user_input) # ZeroDivisionError: division by zero\n",
    "\n",
    "# Runtime Error - 2\n",
    "user_input2: str = input(\"Enter a number: \")\n",
    "def abc2(num:int)->None:\n",
    "    print(num)\n",
    "\n",
    "abc2(user_input2) # TypeError: unsupported operand type(s) for /: 'str' and 'int'\n"
   ]
  },
  {
   "cell_type": "code",
   "execution_count": 20,
   "metadata": {},
   "outputs": [
    {
     "name": "stdout",
     "output_type": "stream",
     "text": [
      "5.25\n",
      "21\n"
     ]
    }
   ],
   "source": [
    "try:\n",
    "    user_input: int = int(input(\"Enter a number: \"))\n",
    "    def abc(num:int)->None:\n",
    "        print(num/4)\n",
    "        print(num)\n",
    "\n",
    "    abc(user_input) # ZeroDivisionError: division by zero\n",
    "except (ZeroDivisionError, ValueError):\n",
    "    print(\"This is an Error\")"
   ]
  }
 ],
 "metadata": {
  "kernelspec": {
   "display_name": "py12",
   "language": "python",
   "name": "python3"
  },
  "language_info": {
   "codemirror_mode": {
    "name": "ipython",
    "version": 3
   },
   "file_extension": ".py",
   "mimetype": "text/x-python",
   "name": "python",
   "nbconvert_exporter": "python",
   "pygments_lexer": "ipython3",
   "version": "3.12.0"
  }
 },
 "nbformat": 4,
 "nbformat_minor": 2
}
