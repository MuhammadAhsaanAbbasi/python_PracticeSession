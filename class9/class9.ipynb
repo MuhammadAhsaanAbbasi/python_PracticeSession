{
 "cells": [
  {
   "cell_type": "code",
   "execution_count": 1,
   "metadata": {},
   "outputs": [
    {
     "name": "stdout",
     "output_type": "stream",
     "text": [
      "Hello World!\n"
     ]
    }
   ],
   "source": [
    "print(\"Hello World!\")"
   ]
  },
  {
   "cell_type": "markdown",
   "metadata": {},
   "source": [
    "# Mutable & Immutable Objects "
   ]
  },
  {
   "cell_type": "code",
   "execution_count": 7,
   "metadata": {},
   "outputs": [
    {
     "name": "stdout",
     "output_type": "stream",
     "text": [
      "The value of num is 6 and address is 140725840136792\n",
      "The value of num is 5 and address is 140725840136760\n",
      "6\n",
      "140725840136792\n"
     ]
    }
   ],
   "source": [
    "a: int = 6\n",
    "def abc(num: int) -> None:\n",
    "    print(f\"The value of num is {num} and address is {id(num)}\")\n",
    "    num = 5\n",
    "    print(f\"The value of num is {num} and address is {id(num)}\")\n",
    "\n",
    "abc(a)\n",
    "print(a)\n",
    "b: int = 6\n",
    "print(id(b))"
   ]
  },
  {
   "cell_type": "code",
   "execution_count": 6,
   "metadata": {},
   "outputs": [
    {
     "name": "stdout",
     "output_type": "stream",
     "text": [
      "The value of num is [1, 2, 3, 4, 5] and address is 2109007483264\n",
      "The value of num is [1, 2, 3, 4, 5, 6] and address is 2109007483264\n",
      "[1, 2, 3, 4, 5, 6]\n"
     ]
    }
   ],
   "source": [
    "num_list: list[int] = [1, 2, 3, 4, 5]\n",
    "def abc_list(num: list[int]) -> None:\n",
    "    print(f\"The value of num is {num} and address is {id(num)}\")\n",
    "    num.append(6)\n",
    "    print(f\"The value of num is {num} and address is {id(num)}\")\n",
    "\n",
    "abc_list(num_list)\n",
    "print(num_list)"
   ]
  },
  {
   "cell_type": "code",
   "execution_count": 9,
   "metadata": {},
   "outputs": [
    {
     "name": "stdout",
     "output_type": "stream",
     "text": [
      "Before the value of x is 10 and address is 140725840136920\n",
      "After the value of x is 15 and address is 140725840137080\n",
      "Before the value of num_list is [1, 2, 3, 4, 5] and address is 2109007456256\n",
      "After the value of num_list is [1, 2, 3, 4, 5, 5] and address is 2109007456256\n"
     ]
    }
   ],
   "source": [
    "x = 10\n",
    "print(f\"Before the value of x is {x} and address is {id(x)}\")\n",
    "x += 5\n",
    "print(f\"After the value of x is {x} and address is {id(x)}\")\n",
    "\n",
    "num_list: list[int] = [1, 2, 3, 4, 5]\n",
    "print(f\"Before the value of num_list is {num_list} and address is {id(num_list)}\")\n",
    "num_list.append(5)\n",
    "print(f\"After the value of num_list is {num_list} and address is {id(num_list)}\")"
   ]
  }
 ],
 "metadata": {
  "kernelspec": {
   "display_name": "py12",
   "language": "python",
   "name": "python3"
  },
  "language_info": {
   "codemirror_mode": {
    "name": "ipython",
    "version": 3
   },
   "file_extension": ".py",
   "mimetype": "text/x-python",
   "name": "python",
   "nbconvert_exporter": "python",
   "pygments_lexer": "ipython3",
   "version": "3.12.0"
  }
 },
 "nbformat": 4,
 "nbformat_minor": 2
}
